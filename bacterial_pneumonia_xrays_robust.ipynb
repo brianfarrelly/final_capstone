{
  "nbformat": 4,
  "nbformat_minor": 0,
  "metadata": {
    "kernelspec": {
      "display_name": "Python 3",
      "language": "python",
      "name": "python3"
    },
    "language_info": {
      "codemirror_mode": {
        "name": "ipython",
        "version": 3
      },
      "file_extension": ".py",
      "mimetype": "text/x-python",
      "name": "python",
      "nbconvert_exporter": "python",
      "pygments_lexer": "ipython3",
      "version": "3.6.6"
    },
    "colab": {
      "name": "bacterial_pneumonia_xrays_robust.ipynb",
      "provenance": [],
      "collapsed_sections": [],
      "machine_shape": "hm",
      "include_colab_link": true
    },
    "accelerator": "GPU"
  },
  "cells": [
    {
      "cell_type": "markdown",
      "metadata": {
        "id": "view-in-github",
        "colab_type": "text"
      },
      "source": [
        "<a href=\"https://colab.research.google.com/github/brianfarrelly/final_capstone/blob/master/bacterial_pneumonia_xrays_robust.ipynb\" target=\"_parent\"><img src=\"https://colab.research.google.com/assets/colab-badge.svg\" alt=\"Open In Colab\"/></a>"
      ]
    },
    {
      "cell_type": "code",
      "metadata": {
        "_cell_guid": "b1076dfc-b9ad-4769-8c92-a6c4dae69d19",
        "_uuid": "8f2839f25d086af736a60e9eeb907d3b93b6e0e5",
        "id": "5pggbN2egRnC",
        "colab_type": "code",
        "colab": {}
      },
      "source": [
        "import os\n",
        "import numpy as np\n",
        "import pandas as pd\n",
        "\n",
        "from google.colab import drive\n",
        "\n",
        "\n",
        "import matplotlib.pyplot as plt\n",
        "%matplotlib inline"
      ],
      "execution_count": 0,
      "outputs": []
    },
    {
      "cell_type": "code",
      "metadata": {
        "id": "IlXTKOuqIH-b",
        "colab_type": "code",
        "colab": {}
      },
      "source": [
        "import tensorflow as tf\n",
        "from tensorflow import keras\n",
        "from tensorflow.keras import layers\n",
        "from tensorflow.keras.models import Sequential, Model\n",
        "from tensorflow.keras.preprocessing.image import ImageDataGenerator,load_img, img_to_array\n",
        "from tensorflow.keras.layers import Conv2D, MaxPooling2D,GlobalAveragePooling2D\n",
        "from tensorflow.keras.layers import Activation, Dropout, BatchNormalization, Flatten, Dense, AvgPool2D,MaxPool2D\n",
        "from tensorflow.keras.models import Sequential, Model\n",
        "from tensorflow.keras.applications.vgg16 import VGG16, preprocess_input\n",
        "from tensorflow.keras.optimizers import Adam, SGD, RMSprop\n"
      ],
      "execution_count": 0,
      "outputs": []
    },
    {
      "cell_type": "code",
      "metadata": {
        "id": "gK0jvntfIZjz",
        "colab_type": "code",
        "outputId": "0687e905-b346-47c3-9e93-92669d9f2377",
        "colab": {
          "base_uri": "https://localhost:8080/",
          "height": 35
        }
      },
      "source": [
        "print(tf.__version__)"
      ],
      "execution_count": 3,
      "outputs": [
        {
          "output_type": "stream",
          "text": [
            "2.2.0\n"
          ],
          "name": "stdout"
        }
      ]
    },
    {
      "cell_type": "code",
      "metadata": {
        "id": "7WLizcDshD3T",
        "colab_type": "code",
        "outputId": "fb8a219f-6c4a-40fe-b5e1-c168f2a9e419",
        "colab": {
          "base_uri": "https://localhost:8080/",
          "height": 128
        }
      },
      "source": [
        "drive.mount('/content/gdrive',force_remount=True)"
      ],
      "execution_count": 4,
      "outputs": [
        {
          "output_type": "stream",
          "text": [
            "Go to this URL in a browser: https://accounts.google.com/o/oauth2/auth?client_id=947318989803-6bn6qk8qdgf4n4g3pfee6491hc0brc4i.apps.googleusercontent.com&redirect_uri=urn%3aietf%3awg%3aoauth%3a2.0%3aoob&response_type=code&scope=email%20https%3a%2f%2fwww.googleapis.com%2fauth%2fdocs.test%20https%3a%2f%2fwww.googleapis.com%2fauth%2fdrive%20https%3a%2f%2fwww.googleapis.com%2fauth%2fdrive.photos.readonly%20https%3a%2f%2fwww.googleapis.com%2fauth%2fpeopleapi.readonly\n",
            "\n",
            "Enter your authorization code:\n",
            "··········\n",
            "Mounted at /content/gdrive\n"
          ],
          "name": "stdout"
        }
      ]
    },
    {
      "cell_type": "code",
      "metadata": {
        "id": "f1qh0s4jgRnK",
        "colab_type": "code",
        "colab": {}
      },
      "source": [
        "DATASET_DIR = \"/content/gdrive/My Drive/data/corona_normal_bacterial/\""
      ],
      "execution_count": 0,
      "outputs": []
    },
    {
      "cell_type": "code",
      "metadata": {
        "id": "oRoJQmdWgRnW",
        "colab_type": "code",
        "outputId": "10899f5f-fafc-42a0-b3da-59a8ec9ff615",
        "colab": {
          "base_uri": "https://localhost:8080/",
          "height": 162
        }
      },
      "source": [
        "os.listdir(DATASET_DIR)\n"
      ],
      "execution_count": 6,
      "outputs": [
        {
          "output_type": "execute_result",
          "data": {
            "text/plain": [
              "['train',\n",
              " 'test',\n",
              " 'bacmodel.h5',\n",
              " 'tfbacmodel.h5',\n",
              " 'revisedbacmodel.h5',\n",
              " 'epochs',\n",
              " 'latestbacmodel.h5',\n",
              " 'robustbacmodel.h5']"
            ]
          },
          "metadata": {
            "tags": []
          },
          "execution_count": 6
        }
      ]
    },
    {
      "cell_type": "code",
      "metadata": {
        "id": "GZBocuAagRnb",
        "colab_type": "code",
        "outputId": "1309b235-ba0d-4417-c12b-1c6b06367d37",
        "colab": {
          "base_uri": "https://localhost:8080/",
          "height": 568
        }
      },
      "source": [
        "import glob\n",
        "import matplotlib.pyplot as plt\n",
        "import matplotlib.image as mpimg\n",
        "%matplotlib inline\n",
        "\n",
        "normal_images = []\n",
        "for img_path in glob.glob(DATASET_DIR + '/train/normal/*'):\n",
        "    normal_images.append(mpimg.imread(img_path))\n",
        "    break\n",
        "\n",
        "fig = plt.figure()\n",
        "fig.suptitle('normal')\n",
        "plt.imshow(normal_images[0], cmap='gray') \n",
        "\n",
        "covid_images = []\n",
        "for img_path in glob.glob(DATASET_DIR + '/train/bacterial/*'):\n",
        "    covid_images.append(mpimg.imread(img_path))\n",
        "    break\n",
        "\n",
        "fig = plt.figure()\n",
        "fig.suptitle('bacterial pneumonia')\n",
        "plt.imshow(covid_images[0], cmap='gray') "
      ],
      "execution_count": 7,
      "outputs": [
        {
          "output_type": "execute_result",
          "data": {
            "text/plain": [
              "<matplotlib.image.AxesImage at 0x7f55f5465320>"
            ]
          },
          "metadata": {
            "tags": []
          },
          "execution_count": 7
        },
        {
          "output_type": "display_data",
          "data": {
            "image/png": "[encoded data removed]",
            "text/plain": [
              "<Figure size 432x288 with 1 Axes>"
            ]
          },
          "metadata": {
            "tags": [],
            "needs_background": "light"
          }
        },
        {
          "output_type": "display_data",
          "data": {
            "image/png": "[encoded data removed]",
            "text/plain": [
              "<Figure size 432x288 with 1 Axes>"
            ]
          },
          "metadata": {
            "tags": [],
            "needs_background": "light"
          }
        }
      ]
    },
    {
      "cell_type": "code",
      "metadata": {
        "id": "vvMzxaQUgRnl",
        "colab_type": "code",
        "colab": {}
      },
      "source": [
        "IMG_W = 400\n",
        "IMG_H = 400\n",
        "CHANNELS = 3\n",
        "\n",
        "INPUT_SHAPE = (IMG_W, IMG_H, CHANNELS)\n",
        "NB_CLASSES = 2\n",
        "EPOCHS = 48\n",
        "BATCH_SIZE = 6"
      ],
      "execution_count": 0,
      "outputs": []
    },
    {
      "cell_type": "code",
      "metadata": {
        "id": "j2576WqbgRnq",
        "colab_type": "code",
        "colab": {}
      },
      "source": [
        "model = Sequential()\n",
        "model.add(Conv2D(32, (3, 3), input_shape=INPUT_SHAPE))\n",
        "model.add(Activation('relu'))\n",
        "model.add(MaxPooling2D(pool_size=(2, 2)))\n",
        "\n",
        "model.add(Conv2D(32, (3, 3)))\n",
        "model.add(Activation('relu'))\n",
        "model.add(MaxPooling2D(pool_size=(2, 2)))\n",
        "\n",
        "\n",
        "model.add(Conv2D(64,(3,3)))\n",
        "model.add(Activation(\"relu\"))\n",
        "model.add(Conv2D(250,(3,3)))\n",
        "model.add(Activation(\"relu\"))\n",
        "  \n",
        "model.add(Conv2D(128,(3,3)))\n",
        "model.add(Activation(\"relu\"))\n",
        "model.add(AvgPool2D(2,2))\n",
        "model.add(Conv2D(64,(3,3)))\n",
        "model.add(Activation(\"relu\"))\n",
        "model.add(AvgPool2D(2,2))\n",
        "\n",
        "model.add(Conv2D(256,(2,2)))\n",
        "model.add(Activation(\"relu\"))\n",
        "model.add(MaxPool2D(2,2))\n",
        "    \n",
        "model.add(Flatten())\n",
        "model.add(Dense(32))\n",
        "model.add(Dropout(0.25))\n",
        "\n",
        "#model.add(Dense(2))\n",
        "\n",
        "model.add(Dense(1))\n",
        "model.add(Activation(\"sigmoid\"))"
      ],
      "execution_count": 0,
      "outputs": []
    },
    {
      "cell_type": "code",
      "metadata": {
        "id": "iC4u5drFgRnw",
        "colab_type": "code",
        "outputId": "c6d371fd-4d8a-4d8f-e36c-16160c8d909f",
        "colab": {
          "base_uri": "https://localhost:8080/",
          "height": 1000
        }
      },
      "source": [
        "model.summary()"
      ],
      "execution_count": 10,
      "outputs": [
        {
          "output_type": "stream",
          "text": [
            "Model: \"sequential\"\n",
            "_________________________________________________________________\n",
            "Layer (type)                 Output Shape              Param #   \n",
            "=================================================================\n",
            "conv2d (Conv2D)              (None, 398, 398, 32)      896       \n",
            "_________________________________________________________________\n",
            "activation (Activation)      (None, 398, 398, 32)      0         \n",
            "_________________________________________________________________\n",
            "max_pooling2d (MaxPooling2D) (None, 199, 199, 32)      0         \n",
            "_________________________________________________________________\n",
            "conv2d_1 (Conv2D)            (None, 197, 197, 32)      9248      \n",
            "_________________________________________________________________\n",
            "activation_1 (Activation)    (None, 197, 197, 32)      0         \n",
            "_________________________________________________________________\n",
            "max_pooling2d_1 (MaxPooling2 (None, 98, 98, 32)        0         \n",
            "_________________________________________________________________\n",
            "conv2d_2 (Conv2D)            (None, 96, 96, 64)        18496     \n",
            "_________________________________________________________________\n",
            "activation_2 (Activation)    (None, 96, 96, 64)        0         \n",
            "_________________________________________________________________\n",
            "conv2d_3 (Conv2D)            (None, 94, 94, 250)       144250    \n",
            "_________________________________________________________________\n",
            "activation_3 (Activation)    (None, 94, 94, 250)       0         \n",
            "_________________________________________________________________\n",
            "conv2d_4 (Conv2D)            (None, 92, 92, 128)       288128    \n",
            "_________________________________________________________________\n",
            "activation_4 (Activation)    (None, 92, 92, 128)       0         \n",
            "_________________________________________________________________\n",
            "average_pooling2d (AveragePo (None, 46, 46, 128)       0         \n",
            "_________________________________________________________________\n",
            "conv2d_5 (Conv2D)            (None, 44, 44, 64)        73792     \n",
            "_________________________________________________________________\n",
            "activation_5 (Activation)    (None, 44, 44, 64)        0         \n",
            "_________________________________________________________________\n",
            "average_pooling2d_1 (Average (None, 22, 22, 64)        0         \n",
            "_________________________________________________________________\n",
            "conv2d_6 (Conv2D)            (None, 21, 21, 256)       65792     \n",
            "_________________________________________________________________\n",
            "activation_6 (Activation)    (None, 21, 21, 256)       0         \n",
            "_________________________________________________________________\n",
            "max_pooling2d_2 (MaxPooling2 (None, 10, 10, 256)       0         \n",
            "_________________________________________________________________\n",
            "flatten (Flatten)            (None, 25600)             0         \n",
            "_________________________________________________________________\n",
            "dense (Dense)                (None, 32)                819232    \n",
            "_________________________________________________________________\n",
            "dropout (Dropout)            (None, 32)                0         \n",
            "_________________________________________________________________\n",
            "dense_1 (Dense)              (None, 1)                 33        \n",
            "_________________________________________________________________\n",
            "activation_7 (Activation)    (None, 1)                 0         \n",
            "=================================================================\n",
            "Total params: 1,419,867\n",
            "Trainable params: 1,419,867\n",
            "Non-trainable params: 0\n",
            "_________________________________________________________________\n"
          ],
          "name": "stdout"
        }
      ]
    },
    {
      "cell_type": "code",
      "metadata": {
        "id": "x_IMBLaqUugH",
        "colab_type": "code",
        "colab": {}
      },
      "source": [
        "DATASET_DIR = \"/content/gdrive/My Drive/data/corona_normal_bacterial/\""
      ],
      "execution_count": 0,
      "outputs": []
    },
    {
      "cell_type": "code",
      "metadata": {
        "id": "1GJCN83HlGTY",
        "colab_type": "code",
        "outputId": "350bc168-d7d2-4bca-9192-092a4100cbd6",
        "colab": {
          "base_uri": "https://localhost:8080/",
          "height": 35
        }
      },
      "source": [
        "print(DATASET_DIR)"
      ],
      "execution_count": 12,
      "outputs": [
        {
          "output_type": "stream",
          "text": [
            "/content/gdrive/My Drive/data/corona_normal_bacterial/\n"
          ],
          "name": "stdout"
        }
      ]
    },
    {
      "cell_type": "code",
      "metadata": {
        "id": "XeGYKX--sIwx",
        "colab_type": "code",
        "outputId": "9b3ee330-8ca5-4a9c-9860-52dae77828a8",
        "colab": {
          "base_uri": "https://localhost:8080/",
          "height": 162
        }
      },
      "source": [
        "os.listdir(DATASET_DIR)\n"
      ],
      "execution_count": 13,
      "outputs": [
        {
          "output_type": "execute_result",
          "data": {
            "text/plain": [
              "['train',\n",
              " 'test',\n",
              " 'bacmodel.h5',\n",
              " 'tfbacmodel.h5',\n",
              " 'revisedbacmodel.h5',\n",
              " 'epochs',\n",
              " 'latestbacmodel.h5',\n",
              " 'robustbacmodel.h5']"
            ]
          },
          "metadata": {
            "tags": []
          },
          "execution_count": 13
        }
      ]
    },
    {
      "cell_type": "code",
      "metadata": {
        "id": "i_fjv91_r9FK",
        "colab_type": "code",
        "outputId": "b900bd1a-fd78-4598-a002-f8d44fd08851",
        "colab": {
          "base_uri": "https://localhost:8080/",
          "height": 35
        }
      },
      "source": [
        "import os, os.path\n",
        "DIR = DATASET_DIR + \"/train/normal/\"\n",
        "\n",
        "path, dirs, files = next(os.walk(DIR))\n",
        "file_count = len(files)\n",
        "print(file_count)"
      ],
      "execution_count": 14,
      "outputs": [
        {
          "output_type": "stream",
          "text": [
            "1300\n"
          ],
          "name": "stdout"
        }
      ]
    },
    {
      "cell_type": "code",
      "metadata": {
        "id": "k9JvdCE6l4w8",
        "colab_type": "code",
        "colab": {}
      },
      "source": [
        "train_datagen = ImageDataGenerator(\n",
        "    rescale=1./255,\n",
        "    rotation_range=40,\n",
        "    width_shift_range=0.2,\n",
        "    height_shift_range=0.2,\n",
        "    shear_range=0.2,\n",
        "    zoom_range=0.2,\n",
        "    horizontal_flip=True,\n",
        "    validation_split=0.2\n",
        "    )\n",
        "\n",
        "valid_datagen = ImageDataGenerator(rescale=1./255)\n",
        "\n",
        "test_datagen = ImageDataGenerator(rescale=1./255)\n",
        "\n"
      ],
      "execution_count": 0,
      "outputs": []
    },
    {
      "cell_type": "code",
      "metadata": {
        "id": "5dlQbpx7ilOA",
        "colab_type": "code",
        "outputId": "5d098186-8d80-4bee-ffab-12c00fdcea63",
        "colab": {
          "base_uri": "https://localhost:8080/",
          "height": 72
        }
      },
      "source": [
        "train_generator = train_datagen.flow_from_directory(\n",
        "    directory=DATASET_DIR + \"/train/\",\n",
        "    target_size=(IMG_W, IMG_H),\n",
        "    color_mode=\"rgb\",\n",
        "    batch_size=32,\n",
        "    class_mode=\"binary\",\n",
        "    shuffle=True,\n",
        "    seed=42,\n",
        "    subset='training'\n",
        ")\n",
        "\n",
        "valid_generator = train_datagen.flow_from_directory(\n",
        "    directory=DATASET_DIR + \"/train/\",\n",
        "    target_size=(IMG_W, IMG_H),\n",
        "    color_mode=\"rgb\",\n",
        "    batch_size=32,\n",
        "    class_mode=\"binary\",\n",
        "    shuffle=True,\n",
        "    seed=42,\n",
        "    subset='validation'\n",
        ")\n",
        "\n",
        "test_generator = test_datagen.flow_from_directory(\n",
        "    directory=DATASET_DIR + \"/test/\",\n",
        "    target_size=(IMG_W, IMG_H),\n",
        "    color_mode=\"rgb\",\n",
        "    batch_size=32,\n",
        "    class_mode='binary',\n",
        "    shuffle=False,\n",
        "    seed=42\n",
        ")\n"
      ],
      "execution_count": 16,
      "outputs": [
        {
          "output_type": "stream",
          "text": [
            "Found 2080 images belonging to 2 classes.\n",
            "Found 520 images belonging to 2 classes.\n",
            "Found 400 images belonging to 2 classes.\n"
          ],
          "name": "stdout"
        }
      ]
    },
    {
      "cell_type": "markdown",
      "metadata": {
        "id": "gJz_W95xrmH3",
        "colab_type": "text"
      },
      "source": [
        "\n",
        "\n",
        "---\n",
        "\n",
        "\n",
        "---\n",
        "\n",
        "\n",
        "\n",
        "---\n",
        "\n",
        "\n",
        "\n",
        "---\n",
        "\n",
        "\n",
        "\n",
        "---\n",
        "\n",
        "Tensorboard\n",
        "\n",
        "\n",
        "\n",
        "---\n",
        "\n",
        "\n",
        "\n",
        "---\n",
        "\n",
        "\n",
        "\n",
        "---\n",
        "\n",
        "\n",
        "\n",
        "---\n",
        "\n",
        "\n",
        "\n",
        "---\n",
        "\n",
        "\n",
        "\n",
        "---\n",
        "\n"
      ]
    },
    {
      "cell_type": "code",
      "metadata": {
        "id": "G1NjWkoXrfdO",
        "colab_type": "code",
        "colab": {}
      },
      "source": [
        "# Load the TensorBoard notebook extension\n",
        "%load_ext tensorboard"
      ],
      "execution_count": 0,
      "outputs": []
    },
    {
      "cell_type": "code",
      "metadata": {
        "id": "QifKaJyTq6aI",
        "colab_type": "code",
        "colab": {}
      },
      "source": [
        "%tensorboard --logdir logs"
      ],
      "execution_count": 0,
      "outputs": []
    },
    {
      "cell_type": "code",
      "metadata": {
        "id": "0MvPjkjmq2oj",
        "colab_type": "code",
        "colab": {}
      },
      "source": [
        "import tensorflow as tf\n",
        "import datetime, os"
      ],
      "execution_count": 0,
      "outputs": []
    },
    {
      "cell_type": "code",
      "metadata": {
        "id": "acRte3g3qzRH",
        "colab_type": "code",
        "colab": {}
      },
      "source": [
        "logdir = os.path.join(\"logs\", datetime.datetime.now().strftime(\"%Y%m%d-%H%M%S\"))\n",
        "tensorboard_callback = tf.keras.callbacks.TensorBoard(logdir, histogram_freq=1)\n"
      ],
      "execution_count": 0,
      "outputs": []
    },
    {
      "cell_type": "code",
      "metadata": {
        "id": "X-UoeeGKF4IN",
        "colab_type": "code",
        "colab": {}
      },
      "source": [
        "history = model.fit(\n",
        "    train_generator,\n",
        "    steps_per_epoch = 4,\n",
        "    epochs = 50,\n",
        "    callbacks=[tensorboard_callback])\n"
      ],
      "execution_count": 0,
      "outputs": []
    },
    {
      "cell_type": "markdown",
      "metadata": {
        "id": "kXWWQPWArvGe",
        "colab_type": "text"
      },
      "source": [
        "\n",
        "\n",
        "---\n",
        "\n",
        "\n",
        "\n",
        "---\n",
        "\n",
        "\n",
        "\n",
        "---\n",
        "\n",
        "\n",
        "\n",
        "---\n",
        "\n",
        "Save model by Epochs.\n",
        "\n",
        "---\n",
        "\n",
        "\n",
        "\n",
        "---\n",
        "\n",
        "\n",
        "\n",
        "---\n",
        "\n",
        "\n",
        "\n",
        "---\n",
        "\n",
        "\n",
        "\n",
        "---\n",
        "\n"
      ]
    },
    {
      "cell_type": "code",
      "metadata": {
        "id": "hvVm7xLfwQEF",
        "colab_type": "code",
        "outputId": "778fc08e-af29-4fc1-fe26-0d9b19ae120d",
        "colab": {
          "base_uri": "https://localhost:8080/",
          "height": 35
        }
      },
      "source": [
        "print(DATASET_DIR)"
      ],
      "execution_count": 21,
      "outputs": [
        {
          "output_type": "stream",
          "text": [
            "/content/gdrive/My Drive/data/corona_normal_bacterial/\n"
          ],
          "name": "stdout"
        }
      ]
    },
    {
      "cell_type": "code",
      "metadata": {
        "id": "Cuj8no0Bv4ya",
        "colab_type": "code",
        "colab": {}
      },
      "source": [
        "from tensorflow.keras.callbacks import *\n",
        "\n",
        "DATASET_DIR\n",
        "\n",
        "filepath = DATASET_DIR + \"epochs/epochs:{epoch:03d}-accuracy:{accuracy:.3f}.hdf5\"\n",
        "\n",
        "checkpoint = ModelCheckpoint(filepath, monitor='accuracy', verbose=1, save_best_only=False, mode='max')\n",
        "\n",
        "callbacks_list = [checkpoint]"
      ],
      "execution_count": 0,
      "outputs": []
    },
    {
      "cell_type": "markdown",
      "metadata": {
        "id": "Kxeb7clyzS5r",
        "colab_type": "text"
      },
      "source": [
        "\n",
        "\n",
        "---\n",
        "\n",
        "\n",
        "\n",
        "---\n",
        "\n",
        "\n",
        "\n",
        "---\n",
        "\n",
        "\n",
        "\n",
        "---\n",
        "\n",
        "\n",
        "\n",
        "---\n",
        "\n",
        "\n",
        "\n",
        "---\n",
        "\n",
        "\n",
        "\n",
        "---\n",
        "\n"
      ]
    },
    {
      "cell_type": "code",
      "metadata": {
        "id": "4oOtMCmxGiPf",
        "colab_type": "code",
        "colab": {}
      },
      "source": [
        "model.compile(optimizer='adam',\n",
        "              loss='binary_crossentropy',\n",
        "              metrics=['accuracy'])\n"
      ],
      "execution_count": 0,
      "outputs": []
    },
    {
      "cell_type": "code",
      "metadata": {
        "id": "J7bVeXGYukOJ",
        "colab_type": "code",
        "outputId": "0aa0602f-6d6c-4e7f-b5f4-22f325c9f90c",
        "colab": {
          "base_uri": "https://localhost:8080/",
          "height": 1000
        }
      },
      "source": [
        "history = model.fit_generator(\n",
        "    train_generator,\n",
        "    steps_per_epoch = 32,\n",
        "    validation_data = valid_generator, \n",
        "    validation_steps = 16,\n",
        "    epochs = 100,\n",
        "    callbacks=callbacks_list\n",
        "    )"
      ],
      "execution_count": 25,
      "outputs": [
        {
          "output_type": "stream",
          "text": [
            "Epoch 1/100\n",
            "32/32 [==============================] - ETA: 0s - loss: 0.6735 - accuracy: 0.5918\n",
            "Epoch 00001: saving model to /content/gdrive/My Drive/data/corona_normal_bacterial/epochs/epochs:001-accuracy:0.592.hdf5\n",
            "32/32 [==============================] - 487s 15s/step - loss: 0.6735 - accuracy: 0.5918 - val_loss: 0.4322 - val_accuracy: 0.8203\n",
            "Epoch 2/100\n",
            "32/32 [==============================] - ETA: 0s - loss: 0.5280 - accuracy: 0.7207\n",
            "Epoch 00002: saving model to /content/gdrive/My Drive/data/corona_normal_bacterial/epochs/epochs:002-accuracy:0.721.hdf5\n",
            "32/32 [==============================] - 201s 6s/step - loss: 0.5280 - accuracy: 0.7207 - val_loss: 0.2587 - val_accuracy: 0.8965\n",
            "Epoch 3/100\n",
            "32/32 [==============================] - ETA: 0s - loss: 0.4523 - accuracy: 0.8311\n",
            "Epoch 00003: saving model to /content/gdrive/My Drive/data/corona_normal_bacterial/epochs/epochs:003-accuracy:0.831.hdf5\n",
            "32/32 [==============================] - 126s 4s/step - loss: 0.4523 - accuracy: 0.8311 - val_loss: 0.2868 - val_accuracy: 0.8594\n",
            "Epoch 4/100\n",
            "32/32 [==============================] - ETA: 0s - loss: 0.4143 - accuracy: 0.8408\n",
            "Epoch 00004: saving model to /content/gdrive/My Drive/data/corona_normal_bacterial/epochs/epochs:004-accuracy:0.841.hdf5\n",
            "32/32 [==============================] - 109s 3s/step - loss: 0.4143 - accuracy: 0.8408 - val_loss: 0.2581 - val_accuracy: 0.9023\n",
            "Epoch 5/100\n",
            "32/32 [==============================] - ETA: 0s - loss: 0.4441 - accuracy: 0.8271\n",
            "Epoch 00005: saving model to /content/gdrive/My Drive/data/corona_normal_bacterial/epochs/epochs:005-accuracy:0.827.hdf5\n",
            "32/32 [==============================] - 84s 3s/step - loss: 0.4441 - accuracy: 0.8271 - val_loss: 0.3298 - val_accuracy: 0.8262\n",
            "Epoch 6/100\n",
            "32/32 [==============================] - ETA: 0s - loss: 0.4143 - accuracy: 0.8340\n",
            "Epoch 00006: saving model to /content/gdrive/My Drive/data/corona_normal_bacterial/epochs/epochs:006-accuracy:0.834.hdf5\n",
            "32/32 [==============================] - 75s 2s/step - loss: 0.4143 - accuracy: 0.8340 - val_loss: 0.2972 - val_accuracy: 0.8516\n",
            "Epoch 7/100\n",
            "32/32 [==============================] - ETA: 0s - loss: 0.4207 - accuracy: 0.8418\n",
            "Epoch 00007: saving model to /content/gdrive/My Drive/data/corona_normal_bacterial/epochs/epochs:007-accuracy:0.842.hdf5\n",
            "32/32 [==============================] - 71s 2s/step - loss: 0.4207 - accuracy: 0.8418 - val_loss: 0.3137 - val_accuracy: 0.8613\n",
            "Epoch 8/100\n",
            "32/32 [==============================] - ETA: 0s - loss: 0.3542 - accuracy: 0.8486\n",
            "Epoch 00008: saving model to /content/gdrive/My Drive/data/corona_normal_bacterial/epochs/epochs:008-accuracy:0.849.hdf5\n",
            "32/32 [==============================] - 69s 2s/step - loss: 0.3542 - accuracy: 0.8486 - val_loss: 0.1966 - val_accuracy: 0.9336\n",
            "Epoch 9/100\n",
            "32/32 [==============================] - ETA: 0s - loss: 0.4171 - accuracy: 0.8584\n",
            "Epoch 00009: saving model to /content/gdrive/My Drive/data/corona_normal_bacterial/epochs/epochs:009-accuracy:0.858.hdf5\n",
            "32/32 [==============================] - 70s 2s/step - loss: 0.4171 - accuracy: 0.8584 - val_loss: 0.2219 - val_accuracy: 0.9434\n",
            "Epoch 10/100\n",
            "32/32 [==============================] - ETA: 0s - loss: 0.3926 - accuracy: 0.8691\n",
            "Epoch 00010: saving model to /content/gdrive/My Drive/data/corona_normal_bacterial/epochs/epochs:010-accuracy:0.869.hdf5\n",
            "32/32 [==============================] - 72s 2s/step - loss: 0.3926 - accuracy: 0.8691 - val_loss: 0.2560 - val_accuracy: 0.8750\n",
            "Epoch 11/100\n",
            "32/32 [==============================] - ETA: 0s - loss: 0.4226 - accuracy: 0.8408\n",
            "Epoch 00011: saving model to /content/gdrive/My Drive/data/corona_normal_bacterial/epochs/epochs:011-accuracy:0.841.hdf5\n",
            "32/32 [==============================] - 72s 2s/step - loss: 0.4226 - accuracy: 0.8408 - val_loss: 0.1965 - val_accuracy: 0.9297\n",
            "Epoch 12/100\n",
            "32/32 [==============================] - ETA: 0s - loss: 0.3523 - accuracy: 0.8604\n",
            "Epoch 00012: saving model to /content/gdrive/My Drive/data/corona_normal_bacterial/epochs/epochs:012-accuracy:0.860.hdf5\n",
            "32/32 [==============================] - 70s 2s/step - loss: 0.3523 - accuracy: 0.8604 - val_loss: 0.1365 - val_accuracy: 0.9590\n",
            "Epoch 13/100\n",
            "32/32 [==============================] - ETA: 0s - loss: 0.4892 - accuracy: 0.7793\n",
            "Epoch 00013: saving model to /content/gdrive/My Drive/data/corona_normal_bacterial/epochs/epochs:013-accuracy:0.779.hdf5\n",
            "32/32 [==============================] - 71s 2s/step - loss: 0.4892 - accuracy: 0.7793 - val_loss: 0.2907 - val_accuracy: 0.9082\n",
            "Epoch 14/100\n",
            "32/32 [==============================] - ETA: 0s - loss: 0.4368 - accuracy: 0.8330\n",
            "Epoch 00014: saving model to /content/gdrive/My Drive/data/corona_normal_bacterial/epochs/epochs:014-accuracy:0.833.hdf5\n",
            "32/32 [==============================] - 69s 2s/step - loss: 0.4368 - accuracy: 0.8330 - val_loss: 0.4982 - val_accuracy: 0.8691\n",
            "Epoch 15/100\n",
            "32/32 [==============================] - ETA: 0s - loss: 0.4741 - accuracy: 0.8145\n",
            "Epoch 00015: saving model to /content/gdrive/My Drive/data/corona_normal_bacterial/epochs/epochs:015-accuracy:0.814.hdf5\n",
            "32/32 [==============================] - 69s 2s/step - loss: 0.4741 - accuracy: 0.8145 - val_loss: 0.2990 - val_accuracy: 0.8984\n",
            "Epoch 16/100\n",
            "32/32 [==============================] - ETA: 0s - loss: 0.3926 - accuracy: 0.8428\n",
            "Epoch 00016: saving model to /content/gdrive/My Drive/data/corona_normal_bacterial/epochs/epochs:016-accuracy:0.843.hdf5\n",
            "32/32 [==============================] - 69s 2s/step - loss: 0.3926 - accuracy: 0.8428 - val_loss: 0.1747 - val_accuracy: 0.9355\n",
            "Epoch 17/100\n",
            "32/32 [==============================] - ETA: 0s - loss: 0.3589 - accuracy: 0.8672\n",
            "Epoch 00017: saving model to /content/gdrive/My Drive/data/corona_normal_bacterial/epochs/epochs:017-accuracy:0.867.hdf5\n",
            "32/32 [==============================] - 69s 2s/step - loss: 0.3589 - accuracy: 0.8672 - val_loss: 0.3010 - val_accuracy: 0.9199\n",
            "Epoch 18/100\n",
            "32/32 [==============================] - ETA: 0s - loss: 0.2974 - accuracy: 0.8936\n",
            "Epoch 00018: saving model to /content/gdrive/My Drive/data/corona_normal_bacterial/epochs/epochs:018-accuracy:0.894.hdf5\n",
            "32/32 [==============================] - 70s 2s/step - loss: 0.2974 - accuracy: 0.8936 - val_loss: 0.2897 - val_accuracy: 0.8867\n",
            "Epoch 19/100\n",
            "32/32 [==============================] - ETA: 0s - loss: 0.3433 - accuracy: 0.8799\n",
            "Epoch 00019: saving model to /content/gdrive/My Drive/data/corona_normal_bacterial/epochs/epochs:019-accuracy:0.880.hdf5\n",
            "32/32 [==============================] - 70s 2s/step - loss: 0.3433 - accuracy: 0.8799 - val_loss: 0.1967 - val_accuracy: 0.9395\n",
            "Epoch 20/100\n",
            "32/32 [==============================] - ETA: 0s - loss: 0.3204 - accuracy: 0.8936\n",
            "Epoch 00020: saving model to /content/gdrive/My Drive/data/corona_normal_bacterial/epochs/epochs:020-accuracy:0.894.hdf5\n",
            "32/32 [==============================] - 69s 2s/step - loss: 0.3204 - accuracy: 0.8936 - val_loss: 0.1942 - val_accuracy: 0.9453\n",
            "Epoch 21/100\n",
            "32/32 [==============================] - ETA: 0s - loss: 0.3205 - accuracy: 0.8945\n",
            "Epoch 00021: saving model to /content/gdrive/My Drive/data/corona_normal_bacterial/epochs/epochs:021-accuracy:0.895.hdf5\n",
            "32/32 [==============================] - 69s 2s/step - loss: 0.3205 - accuracy: 0.8945 - val_loss: 0.2229 - val_accuracy: 0.9023\n",
            "Epoch 22/100\n",
            "32/32 [==============================] - ETA: 0s - loss: 0.3286 - accuracy: 0.8896\n",
            "Epoch 00022: saving model to /content/gdrive/My Drive/data/corona_normal_bacterial/epochs/epochs:022-accuracy:0.890.hdf5\n",
            "32/32 [==============================] - 70s 2s/step - loss: 0.3286 - accuracy: 0.8896 - val_loss: 0.2279 - val_accuracy: 0.9414\n",
            "Epoch 23/100\n",
            "32/32 [==============================] - ETA: 0s - loss: 0.3190 - accuracy: 0.8770\n",
            "Epoch 00023: saving model to /content/gdrive/My Drive/data/corona_normal_bacterial/epochs/epochs:023-accuracy:0.877.hdf5\n",
            "32/32 [==============================] - 70s 2s/step - loss: 0.3190 - accuracy: 0.8770 - val_loss: 0.2809 - val_accuracy: 0.8516\n",
            "Epoch 24/100\n",
            "32/32 [==============================] - ETA: 0s - loss: 0.2659 - accuracy: 0.9053\n",
            "Epoch 00024: saving model to /content/gdrive/My Drive/data/corona_normal_bacterial/epochs/epochs:024-accuracy:0.905.hdf5\n",
            "32/32 [==============================] - 70s 2s/step - loss: 0.2659 - accuracy: 0.9053 - val_loss: 0.1729 - val_accuracy: 0.9453\n",
            "Epoch 25/100\n",
            "32/32 [==============================] - ETA: 0s - loss: 0.2936 - accuracy: 0.8994\n",
            "Epoch 00025: saving model to /content/gdrive/My Drive/data/corona_normal_bacterial/epochs/epochs:025-accuracy:0.899.hdf5\n",
            "32/32 [==============================] - 69s 2s/step - loss: 0.2936 - accuracy: 0.8994 - val_loss: 0.2964 - val_accuracy: 0.8887\n",
            "Epoch 26/100\n",
            "32/32 [==============================] - ETA: 0s - loss: 0.2678 - accuracy: 0.9053\n",
            "Epoch 00026: saving model to /content/gdrive/My Drive/data/corona_normal_bacterial/epochs/epochs:026-accuracy:0.905.hdf5\n",
            "32/32 [==============================] - 68s 2s/step - loss: 0.2678 - accuracy: 0.9053 - val_loss: 0.2350 - val_accuracy: 0.9199\n",
            "Epoch 27/100\n",
            "32/32 [==============================] - ETA: 0s - loss: 0.2773 - accuracy: 0.8936\n",
            "Epoch 00027: saving model to /content/gdrive/My Drive/data/corona_normal_bacterial/epochs/epochs:027-accuracy:0.894.hdf5\n",
            "32/32 [==============================] - 69s 2s/step - loss: 0.2773 - accuracy: 0.8936 - val_loss: 0.1886 - val_accuracy: 0.9160\n",
            "Epoch 28/100\n",
            "32/32 [==============================] - ETA: 0s - loss: 0.2560 - accuracy: 0.9062\n",
            "Epoch 00028: saving model to /content/gdrive/My Drive/data/corona_normal_bacterial/epochs/epochs:028-accuracy:0.906.hdf5\n",
            "32/32 [==============================] - 69s 2s/step - loss: 0.2560 - accuracy: 0.9062 - val_loss: 0.2382 - val_accuracy: 0.9043\n",
            "Epoch 29/100\n",
            "32/32 [==============================] - ETA: 0s - loss: 0.2939 - accuracy: 0.8926\n",
            "Epoch 00029: saving model to /content/gdrive/My Drive/data/corona_normal_bacterial/epochs/epochs:029-accuracy:0.893.hdf5\n",
            "32/32 [==============================] - 69s 2s/step - loss: 0.2939 - accuracy: 0.8926 - val_loss: 0.2220 - val_accuracy: 0.9121\n",
            "Epoch 30/100\n",
            "32/32 [==============================] - ETA: 0s - loss: 0.2678 - accuracy: 0.8965\n",
            "Epoch 00030: saving model to /content/gdrive/My Drive/data/corona_normal_bacterial/epochs/epochs:030-accuracy:0.896.hdf5\n",
            "32/32 [==============================] - 68s 2s/step - loss: 0.2678 - accuracy: 0.8965 - val_loss: 0.2376 - val_accuracy: 0.9160\n",
            "Epoch 31/100\n",
            "32/32 [==============================] - ETA: 0s - loss: 0.2548 - accuracy: 0.9092\n",
            "Epoch 00031: saving model to /content/gdrive/My Drive/data/corona_normal_bacterial/epochs/epochs:031-accuracy:0.909.hdf5\n",
            "32/32 [==============================] - 67s 2s/step - loss: 0.2548 - accuracy: 0.9092 - val_loss: 0.1735 - val_accuracy: 0.9375\n",
            "Epoch 32/100\n",
            "32/32 [==============================] - ETA: 0s - loss: 0.2365 - accuracy: 0.9219\n",
            "Epoch 00032: saving model to /content/gdrive/My Drive/data/corona_normal_bacterial/epochs/epochs:032-accuracy:0.922.hdf5\n",
            "32/32 [==============================] - 67s 2s/step - loss: 0.2365 - accuracy: 0.9219 - val_loss: 0.1575 - val_accuracy: 0.9609\n",
            "Epoch 33/100\n",
            "32/32 [==============================] - ETA: 0s - loss: 0.2240 - accuracy: 0.9160\n",
            "Epoch 00033: saving model to /content/gdrive/My Drive/data/corona_normal_bacterial/epochs/epochs:033-accuracy:0.916.hdf5\n",
            "32/32 [==============================] - 67s 2s/step - loss: 0.2240 - accuracy: 0.9160 - val_loss: 0.2117 - val_accuracy: 0.9297\n",
            "Epoch 34/100\n",
            "32/32 [==============================] - ETA: 0s - loss: 0.2684 - accuracy: 0.8994\n",
            "Epoch 00034: saving model to /content/gdrive/My Drive/data/corona_normal_bacterial/epochs/epochs:034-accuracy:0.899.hdf5\n",
            "32/32 [==============================] - 69s 2s/step - loss: 0.2684 - accuracy: 0.8994 - val_loss: 0.1268 - val_accuracy: 0.9590\n",
            "Epoch 35/100\n",
            "32/32 [==============================] - ETA: 0s - loss: 0.2533 - accuracy: 0.9121\n",
            "Epoch 00035: saving model to /content/gdrive/My Drive/data/corona_normal_bacterial/epochs/epochs:035-accuracy:0.912.hdf5\n",
            "32/32 [==============================] - 69s 2s/step - loss: 0.2533 - accuracy: 0.9121 - val_loss: 0.1944 - val_accuracy: 0.9375\n",
            "Epoch 36/100\n",
            "32/32 [==============================] - ETA: 0s - loss: 0.2233 - accuracy: 0.9170\n",
            "Epoch 00036: saving model to /content/gdrive/My Drive/data/corona_normal_bacterial/epochs/epochs:036-accuracy:0.917.hdf5\n",
            "32/32 [==============================] - 68s 2s/step - loss: 0.2233 - accuracy: 0.9170 - val_loss: 0.1730 - val_accuracy: 0.9434\n",
            "Epoch 37/100\n",
            "32/32 [==============================] - ETA: 0s - loss: 0.2563 - accuracy: 0.9111\n",
            "Epoch 00037: saving model to /content/gdrive/My Drive/data/corona_normal_bacterial/epochs/epochs:037-accuracy:0.911.hdf5\n",
            "32/32 [==============================] - 69s 2s/step - loss: 0.2563 - accuracy: 0.9111 - val_loss: 0.1909 - val_accuracy: 0.9238\n",
            "Epoch 38/100\n",
            "32/32 [==============================] - ETA: 0s - loss: 0.2223 - accuracy: 0.9219\n",
            "Epoch 00038: saving model to /content/gdrive/My Drive/data/corona_normal_bacterial/epochs/epochs:038-accuracy:0.922.hdf5\n",
            "32/32 [==============================] - 69s 2s/step - loss: 0.2223 - accuracy: 0.9219 - val_loss: 0.2377 - val_accuracy: 0.9180\n",
            "Epoch 39/100\n",
            "32/32 [==============================] - ETA: 0s - loss: 0.2304 - accuracy: 0.9170\n",
            "Epoch 00039: saving model to /content/gdrive/My Drive/data/corona_normal_bacterial/epochs/epochs:039-accuracy:0.917.hdf5\n",
            "32/32 [==============================] - 69s 2s/step - loss: 0.2304 - accuracy: 0.9170 - val_loss: 0.1653 - val_accuracy: 0.9375\n",
            "Epoch 40/100\n",
            "32/32 [==============================] - ETA: 0s - loss: 0.2090 - accuracy: 0.9238\n",
            "Epoch 00040: saving model to /content/gdrive/My Drive/data/corona_normal_bacterial/epochs/epochs:040-accuracy:0.924.hdf5\n",
            "32/32 [==============================] - 69s 2s/step - loss: 0.2090 - accuracy: 0.9238 - val_loss: 0.1650 - val_accuracy: 0.9336\n",
            "Epoch 41/100\n",
            "32/32 [==============================] - ETA: 0s - loss: 0.2427 - accuracy: 0.9141\n",
            "Epoch 00041: saving model to /content/gdrive/My Drive/data/corona_normal_bacterial/epochs/epochs:041-accuracy:0.914.hdf5\n",
            "32/32 [==============================] - 69s 2s/step - loss: 0.2427 - accuracy: 0.9141 - val_loss: 0.1795 - val_accuracy: 0.9258\n",
            "Epoch 42/100\n",
            "32/32 [==============================] - ETA: 0s - loss: 0.2159 - accuracy: 0.9395\n",
            "Epoch 00042: saving model to /content/gdrive/My Drive/data/corona_normal_bacterial/epochs/epochs:042-accuracy:0.939.hdf5\n",
            "32/32 [==============================] - 68s 2s/step - loss: 0.2159 - accuracy: 0.9395 - val_loss: 0.2584 - val_accuracy: 0.9004\n",
            "Epoch 43/100\n",
            "32/32 [==============================] - ETA: 0s - loss: 0.2443 - accuracy: 0.9092\n",
            "Epoch 00043: saving model to /content/gdrive/My Drive/data/corona_normal_bacterial/epochs/epochs:043-accuracy:0.909.hdf5\n",
            "32/32 [==============================] - 68s 2s/step - loss: 0.2443 - accuracy: 0.9092 - val_loss: 0.2200 - val_accuracy: 0.9316\n",
            "Epoch 44/100\n",
            "32/32 [==============================] - ETA: 0s - loss: 0.2069 - accuracy: 0.9258\n",
            "Epoch 00044: saving model to /content/gdrive/My Drive/data/corona_normal_bacterial/epochs/epochs:044-accuracy:0.926.hdf5\n",
            "32/32 [==============================] - 66s 2s/step - loss: 0.2069 - accuracy: 0.9258 - val_loss: 0.1660 - val_accuracy: 0.9414\n",
            "Epoch 45/100\n",
            "32/32 [==============================] - ETA: 0s - loss: 0.2035 - accuracy: 0.9316\n",
            "Epoch 00045: saving model to /content/gdrive/My Drive/data/corona_normal_bacterial/epochs/epochs:045-accuracy:0.932.hdf5\n",
            "32/32 [==============================] - 65s 2s/step - loss: 0.2035 - accuracy: 0.9316 - val_loss: 0.3819 - val_accuracy: 0.8516\n",
            "Epoch 46/100\n",
            "32/32 [==============================] - ETA: 0s - loss: 0.2755 - accuracy: 0.8984\n",
            "Epoch 00046: saving model to /content/gdrive/My Drive/data/corona_normal_bacterial/epochs/epochs:046-accuracy:0.898.hdf5\n",
            "32/32 [==============================] - 65s 2s/step - loss: 0.2755 - accuracy: 0.8984 - val_loss: 0.1745 - val_accuracy: 0.9531\n",
            "Epoch 47/100\n",
            "32/32 [==============================] - ETA: 0s - loss: 0.2429 - accuracy: 0.9248\n",
            "Epoch 00047: saving model to /content/gdrive/My Drive/data/corona_normal_bacterial/epochs/epochs:047-accuracy:0.925.hdf5\n",
            "32/32 [==============================] - 66s 2s/step - loss: 0.2429 - accuracy: 0.9248 - val_loss: 0.2466 - val_accuracy: 0.9160\n",
            "Epoch 48/100\n",
            "32/32 [==============================] - ETA: 0s - loss: 0.2668 - accuracy: 0.9004\n",
            "Epoch 00048: saving model to /content/gdrive/My Drive/data/corona_normal_bacterial/epochs/epochs:048-accuracy:0.900.hdf5\n",
            "32/32 [==============================] - 65s 2s/step - loss: 0.2668 - accuracy: 0.9004 - val_loss: 0.1580 - val_accuracy: 0.9473\n",
            "Epoch 49/100\n",
            "32/32 [==============================] - ETA: 0s - loss: 0.2117 - accuracy: 0.9248\n",
            "Epoch 00049: saving model to /content/gdrive/My Drive/data/corona_normal_bacterial/epochs/epochs:049-accuracy:0.925.hdf5\n",
            "32/32 [==============================] - 65s 2s/step - loss: 0.2117 - accuracy: 0.9248 - val_loss: 0.2191 - val_accuracy: 0.9180\n",
            "Epoch 50/100\n",
            "32/32 [==============================] - ETA: 0s - loss: 0.2160 - accuracy: 0.9170\n",
            "Epoch 00050: saving model to /content/gdrive/My Drive/data/corona_normal_bacterial/epochs/epochs:050-accuracy:0.917.hdf5\n",
            "32/32 [==============================] - 66s 2s/step - loss: 0.2160 - accuracy: 0.9170 - val_loss: 0.2253 - val_accuracy: 0.8887\n",
            "Epoch 51/100\n",
            "32/32 [==============================] - ETA: 0s - loss: 0.2378 - accuracy: 0.9092\n",
            "Epoch 00051: saving model to /content/gdrive/My Drive/data/corona_normal_bacterial/epochs/epochs:051-accuracy:0.909.hdf5\n",
            "32/32 [==============================] - 68s 2s/step - loss: 0.2378 - accuracy: 0.9092 - val_loss: 0.2056 - val_accuracy: 0.9336\n",
            "Epoch 52/100\n",
            "32/32 [==============================] - ETA: 0s - loss: 0.2150 - accuracy: 0.9189\n",
            "Epoch 00052: saving model to /content/gdrive/My Drive/data/corona_normal_bacterial/epochs/epochs:052-accuracy:0.919.hdf5\n",
            "32/32 [==============================] - 68s 2s/step - loss: 0.2150 - accuracy: 0.9189 - val_loss: 0.1965 - val_accuracy: 0.9258\n",
            "Epoch 53/100\n",
            "32/32 [==============================] - ETA: 0s - loss: 0.2764 - accuracy: 0.8926\n",
            "Epoch 00053: saving model to /content/gdrive/My Drive/data/corona_normal_bacterial/epochs/epochs:053-accuracy:0.893.hdf5\n",
            "32/32 [==============================] - 67s 2s/step - loss: 0.2764 - accuracy: 0.8926 - val_loss: 0.1756 - val_accuracy: 0.9434\n",
            "Epoch 54/100\n",
            "32/32 [==============================] - ETA: 0s - loss: 0.2216 - accuracy: 0.9170\n",
            "Epoch 00054: saving model to /content/gdrive/My Drive/data/corona_normal_bacterial/epochs/epochs:054-accuracy:0.917.hdf5\n",
            "32/32 [==============================] - 67s 2s/step - loss: 0.2216 - accuracy: 0.9170 - val_loss: 0.2526 - val_accuracy: 0.8906\n",
            "Epoch 55/100\n",
            "32/32 [==============================] - ETA: 0s - loss: 0.1996 - accuracy: 0.9365\n",
            "Epoch 00055: saving model to /content/gdrive/My Drive/data/corona_normal_bacterial/epochs/epochs:055-accuracy:0.937.hdf5\n",
            "32/32 [==============================] - 68s 2s/step - loss: 0.1996 - accuracy: 0.9365 - val_loss: 0.2203 - val_accuracy: 0.9043\n",
            "Epoch 56/100\n",
            "32/32 [==============================] - ETA: 0s - loss: 0.1886 - accuracy: 0.9219\n",
            "Epoch 00056: saving model to /content/gdrive/My Drive/data/corona_normal_bacterial/epochs/epochs:056-accuracy:0.922.hdf5\n",
            "32/32 [==============================] - 68s 2s/step - loss: 0.1886 - accuracy: 0.9219 - val_loss: 0.2511 - val_accuracy: 0.9141\n",
            "Epoch 57/100\n",
            "32/32 [==============================] - ETA: 0s - loss: 0.2380 - accuracy: 0.9180\n",
            "Epoch 00057: saving model to /content/gdrive/My Drive/data/corona_normal_bacterial/epochs/epochs:057-accuracy:0.918.hdf5\n",
            "32/32 [==============================] - 65s 2s/step - loss: 0.2380 - accuracy: 0.9180 - val_loss: 0.1799 - val_accuracy: 0.9355\n",
            "Epoch 58/100\n",
            "32/32 [==============================] - ETA: 0s - loss: 0.2206 - accuracy: 0.9141\n",
            "Epoch 00058: saving model to /content/gdrive/My Drive/data/corona_normal_bacterial/epochs/epochs:058-accuracy:0.914.hdf5\n",
            "32/32 [==============================] - 66s 2s/step - loss: 0.2206 - accuracy: 0.9141 - val_loss: 0.1723 - val_accuracy: 0.9375\n",
            "Epoch 59/100\n",
            "32/32 [==============================] - ETA: 0s - loss: 0.1902 - accuracy: 0.9326\n",
            "Epoch 00059: saving model to /content/gdrive/My Drive/data/corona_normal_bacterial/epochs/epochs:059-accuracy:0.933.hdf5\n",
            "32/32 [==============================] - 68s 2s/step - loss: 0.1902 - accuracy: 0.9326 - val_loss: 0.1448 - val_accuracy: 0.9531\n",
            "Epoch 60/100\n",
            "32/32 [==============================] - ETA: 0s - loss: 0.2054 - accuracy: 0.9189\n",
            "Epoch 00060: saving model to /content/gdrive/My Drive/data/corona_normal_bacterial/epochs/epochs:060-accuracy:0.919.hdf5\n",
            "32/32 [==============================] - 64s 2s/step - loss: 0.2054 - accuracy: 0.9189 - val_loss: 0.1481 - val_accuracy: 0.9453\n",
            "Epoch 61/100\n",
            "32/32 [==============================] - ETA: 0s - loss: 0.2361 - accuracy: 0.9141\n",
            "Epoch 00061: saving model to /content/gdrive/My Drive/data/corona_normal_bacterial/epochs/epochs:061-accuracy:0.914.hdf5\n",
            "32/32 [==============================] - 64s 2s/step - loss: 0.2361 - accuracy: 0.9141 - val_loss: 0.2924 - val_accuracy: 0.8828\n",
            "Epoch 62/100\n",
            "32/32 [==============================] - ETA: 0s - loss: 0.2170 - accuracy: 0.9170\n",
            "Epoch 00062: saving model to /content/gdrive/My Drive/data/corona_normal_bacterial/epochs/epochs:062-accuracy:0.917.hdf5\n",
            "32/32 [==============================] - 64s 2s/step - loss: 0.2170 - accuracy: 0.9170 - val_loss: 0.2645 - val_accuracy: 0.8926\n",
            "Epoch 63/100\n",
            "32/32 [==============================] - ETA: 0s - loss: 0.2275 - accuracy: 0.9199\n",
            "Epoch 00063: saving model to /content/gdrive/My Drive/data/corona_normal_bacterial/epochs/epochs:063-accuracy:0.920.hdf5\n",
            "32/32 [==============================] - 63s 2s/step - loss: 0.2275 - accuracy: 0.9199 - val_loss: 0.1968 - val_accuracy: 0.9180\n",
            "Epoch 64/100\n",
            "32/32 [==============================] - ETA: 0s - loss: 0.1727 - accuracy: 0.9297\n",
            "Epoch 00064: saving model to /content/gdrive/My Drive/data/corona_normal_bacterial/epochs/epochs:064-accuracy:0.930.hdf5\n",
            "32/32 [==============================] - 64s 2s/step - loss: 0.1727 - accuracy: 0.9297 - val_loss: 0.1836 - val_accuracy: 0.9277\n",
            "Epoch 65/100\n",
            "32/32 [==============================] - ETA: 0s - loss: 0.1944 - accuracy: 0.9219\n",
            "Epoch 00065: saving model to /content/gdrive/My Drive/data/corona_normal_bacterial/epochs/epochs:065-accuracy:0.922.hdf5\n",
            "32/32 [==============================] - 64s 2s/step - loss: 0.1944 - accuracy: 0.9219 - val_loss: 0.1340 - val_accuracy: 0.9590\n",
            "Epoch 66/100\n",
            "32/32 [==============================] - ETA: 0s - loss: 0.1975 - accuracy: 0.9297\n",
            "Epoch 00066: saving model to /content/gdrive/My Drive/data/corona_normal_bacterial/epochs/epochs:066-accuracy:0.930.hdf5\n",
            "32/32 [==============================] - 64s 2s/step - loss: 0.1975 - accuracy: 0.9297 - val_loss: 0.2491 - val_accuracy: 0.9141\n",
            "Epoch 67/100\n",
            "32/32 [==============================] - ETA: 0s - loss: 0.1931 - accuracy: 0.9336\n",
            "Epoch 00067: saving model to /content/gdrive/My Drive/data/corona_normal_bacterial/epochs/epochs:067-accuracy:0.934.hdf5\n",
            "32/32 [==============================] - 68s 2s/step - loss: 0.1931 - accuracy: 0.9336 - val_loss: 0.2103 - val_accuracy: 0.9160\n",
            "Epoch 68/100\n",
            "32/32 [==============================] - ETA: 0s - loss: 0.2186 - accuracy: 0.9268\n",
            "Epoch 00068: saving model to /content/gdrive/My Drive/data/corona_normal_bacterial/epochs/epochs:068-accuracy:0.927.hdf5\n",
            "32/32 [==============================] - 65s 2s/step - loss: 0.2186 - accuracy: 0.9268 - val_loss: 0.2015 - val_accuracy: 0.9297\n",
            "Epoch 69/100\n",
            "32/32 [==============================] - ETA: 0s - loss: 0.2078 - accuracy: 0.9189\n",
            "Epoch 00069: saving model to /content/gdrive/My Drive/data/corona_normal_bacterial/epochs/epochs:069-accuracy:0.919.hdf5\n",
            "32/32 [==============================] - 66s 2s/step - loss: 0.2078 - accuracy: 0.9189 - val_loss: 0.3168 - val_accuracy: 0.8750\n",
            "Epoch 70/100\n",
            "32/32 [==============================] - ETA: 0s - loss: 0.2546 - accuracy: 0.9023\n",
            "Epoch 00070: saving model to /content/gdrive/My Drive/data/corona_normal_bacterial/epochs/epochs:070-accuracy:0.902.hdf5\n",
            "32/32 [==============================] - 66s 2s/step - loss: 0.2546 - accuracy: 0.9023 - val_loss: 0.2459 - val_accuracy: 0.9004\n",
            "Epoch 71/100\n",
            "32/32 [==============================] - ETA: 0s - loss: 0.2194 - accuracy: 0.9199\n",
            "Epoch 00071: saving model to /content/gdrive/My Drive/data/corona_normal_bacterial/epochs/epochs:071-accuracy:0.920.hdf5\n",
            "32/32 [==============================] - 66s 2s/step - loss: 0.2194 - accuracy: 0.9199 - val_loss: 0.1785 - val_accuracy: 0.9316\n",
            "Epoch 72/100\n",
            "32/32 [==============================] - ETA: 0s - loss: 0.1814 - accuracy: 0.9277\n",
            "Epoch 00072: saving model to /content/gdrive/My Drive/data/corona_normal_bacterial/epochs/epochs:072-accuracy:0.928.hdf5\n",
            "32/32 [==============================] - 66s 2s/step - loss: 0.1814 - accuracy: 0.9277 - val_loss: 0.1888 - val_accuracy: 0.9375\n",
            "Epoch 73/100\n",
            "32/32 [==============================] - ETA: 0s - loss: 0.2106 - accuracy: 0.9268\n",
            "Epoch 00073: saving model to /content/gdrive/My Drive/data/corona_normal_bacterial/epochs/epochs:073-accuracy:0.927.hdf5\n",
            "32/32 [==============================] - 66s 2s/step - loss: 0.2106 - accuracy: 0.9268 - val_loss: 0.1683 - val_accuracy: 0.9355\n",
            "Epoch 74/100\n",
            "32/32 [==============================] - ETA: 0s - loss: 0.1646 - accuracy: 0.9424\n",
            "Epoch 00074: saving model to /content/gdrive/My Drive/data/corona_normal_bacterial/epochs/epochs:074-accuracy:0.942.hdf5\n",
            "32/32 [==============================] - 66s 2s/step - loss: 0.1646 - accuracy: 0.9424 - val_loss: 0.1843 - val_accuracy: 0.9414\n",
            "Epoch 75/100\n",
            "32/32 [==============================] - ETA: 0s - loss: 0.1925 - accuracy: 0.9277\n",
            "Epoch 00075: saving model to /content/gdrive/My Drive/data/corona_normal_bacterial/epochs/epochs:075-accuracy:0.928.hdf5\n",
            "32/32 [==============================] - 66s 2s/step - loss: 0.1925 - accuracy: 0.9277 - val_loss: 0.1140 - val_accuracy: 0.9609\n",
            "Epoch 76/100\n",
            "32/32 [==============================] - ETA: 0s - loss: 0.2338 - accuracy: 0.9111\n",
            "Epoch 00076: saving model to /content/gdrive/My Drive/data/corona_normal_bacterial/epochs/epochs:076-accuracy:0.911.hdf5\n",
            "32/32 [==============================] - 68s 2s/step - loss: 0.2338 - accuracy: 0.9111 - val_loss: 0.2107 - val_accuracy: 0.9160\n",
            "Epoch 77/100\n",
            "32/32 [==============================] - ETA: 0s - loss: 0.1936 - accuracy: 0.9160\n",
            "Epoch 00077: saving model to /content/gdrive/My Drive/data/corona_normal_bacterial/epochs/epochs:077-accuracy:0.916.hdf5\n",
            "32/32 [==============================] - 67s 2s/step - loss: 0.1936 - accuracy: 0.9160 - val_loss: 0.1746 - val_accuracy: 0.9395\n",
            "Epoch 78/100\n",
            "32/32 [==============================] - ETA: 0s - loss: 0.2028 - accuracy: 0.9258\n",
            "Epoch 00078: saving model to /content/gdrive/My Drive/data/corona_normal_bacterial/epochs/epochs:078-accuracy:0.926.hdf5\n",
            "32/32 [==============================] - 66s 2s/step - loss: 0.2028 - accuracy: 0.9258 - val_loss: 0.1861 - val_accuracy: 0.9297\n",
            "Epoch 79/100\n",
            "32/32 [==============================] - ETA: 0s - loss: 0.2269 - accuracy: 0.9131\n",
            "Epoch 00079: saving model to /content/gdrive/My Drive/data/corona_normal_bacterial/epochs/epochs:079-accuracy:0.913.hdf5\n",
            "32/32 [==============================] - 65s 2s/step - loss: 0.2269 - accuracy: 0.9131 - val_loss: 0.1999 - val_accuracy: 0.9316\n",
            "Epoch 80/100\n",
            "32/32 [==============================] - ETA: 0s - loss: 0.1740 - accuracy: 0.9395\n",
            "Epoch 00080: saving model to /content/gdrive/My Drive/data/corona_normal_bacterial/epochs/epochs:080-accuracy:0.939.hdf5\n",
            "32/32 [==============================] - 66s 2s/step - loss: 0.1740 - accuracy: 0.9395 - val_loss: 0.2847 - val_accuracy: 0.8906\n",
            "Epoch 81/100\n",
            "32/32 [==============================] - ETA: 0s - loss: 0.2055 - accuracy: 0.9170\n",
            "Epoch 00081: saving model to /content/gdrive/My Drive/data/corona_normal_bacterial/epochs/epochs:081-accuracy:0.917.hdf5\n",
            "32/32 [==============================] - 65s 2s/step - loss: 0.2055 - accuracy: 0.9170 - val_loss: 0.1243 - val_accuracy: 0.9590\n",
            "Epoch 82/100\n",
            "32/32 [==============================] - ETA: 0s - loss: 0.1886 - accuracy: 0.9297\n",
            "Epoch 00082: saving model to /content/gdrive/My Drive/data/corona_normal_bacterial/epochs/epochs:082-accuracy:0.930.hdf5\n",
            "32/32 [==============================] - 66s 2s/step - loss: 0.1886 - accuracy: 0.9297 - val_loss: 0.1342 - val_accuracy: 0.9570\n",
            "Epoch 83/100\n",
            "32/32 [==============================] - ETA: 0s - loss: 0.1815 - accuracy: 0.9307\n",
            "Epoch 00083: saving model to /content/gdrive/My Drive/data/corona_normal_bacterial/epochs/epochs:083-accuracy:0.931.hdf5\n",
            "32/32 [==============================] - 68s 2s/step - loss: 0.1815 - accuracy: 0.9307 - val_loss: 0.2213 - val_accuracy: 0.9141\n",
            "Epoch 84/100\n",
            "32/32 [==============================] - ETA: 0s - loss: 0.1943 - accuracy: 0.9316\n",
            "Epoch 00084: saving model to /content/gdrive/My Drive/data/corona_normal_bacterial/epochs/epochs:084-accuracy:0.932.hdf5\n",
            "32/32 [==============================] - 70s 2s/step - loss: 0.1943 - accuracy: 0.9316 - val_loss: 0.2414 - val_accuracy: 0.9043\n",
            "Epoch 85/100\n",
            "32/32 [==============================] - ETA: 0s - loss: 0.2064 - accuracy: 0.9170\n",
            "Epoch 00085: saving model to /content/gdrive/My Drive/data/corona_normal_bacterial/epochs/epochs:085-accuracy:0.917.hdf5\n",
            "32/32 [==============================] - 71s 2s/step - loss: 0.2064 - accuracy: 0.9170 - val_loss: 0.1719 - val_accuracy: 0.9395\n",
            "Epoch 86/100\n",
            "32/32 [==============================] - ETA: 0s - loss: 0.1787 - accuracy: 0.9336\n",
            "Epoch 00086: saving model to /content/gdrive/My Drive/data/corona_normal_bacterial/epochs/epochs:086-accuracy:0.934.hdf5\n",
            "32/32 [==============================] - 71s 2s/step - loss: 0.1787 - accuracy: 0.9336 - val_loss: 0.1440 - val_accuracy: 0.9551\n",
            "Epoch 87/100\n",
            "32/32 [==============================] - ETA: 0s - loss: 0.1956 - accuracy: 0.9209\n",
            "Epoch 00087: saving model to /content/gdrive/My Drive/data/corona_normal_bacterial/epochs/epochs:087-accuracy:0.921.hdf5\n",
            "32/32 [==============================] - 72s 2s/step - loss: 0.1956 - accuracy: 0.9209 - val_loss: 0.2229 - val_accuracy: 0.9219\n",
            "Epoch 88/100\n",
            "32/32 [==============================] - ETA: 0s - loss: 0.1752 - accuracy: 0.9326\n",
            "Epoch 00088: saving model to /content/gdrive/My Drive/data/corona_normal_bacterial/epochs/epochs:088-accuracy:0.933.hdf5\n",
            "32/32 [==============================] - 72s 2s/step - loss: 0.1752 - accuracy: 0.9326 - val_loss: 0.2306 - val_accuracy: 0.9121\n",
            "Epoch 89/100\n",
            "32/32 [==============================] - ETA: 0s - loss: 0.1775 - accuracy: 0.9316\n",
            "Epoch 00089: saving model to /content/gdrive/My Drive/data/corona_normal_bacterial/epochs/epochs:089-accuracy:0.932.hdf5\n",
            "32/32 [==============================] - 72s 2s/step - loss: 0.1775 - accuracy: 0.9316 - val_loss: 0.1527 - val_accuracy: 0.9453\n",
            "Epoch 90/100\n",
            "32/32 [==============================] - ETA: 0s - loss: 0.1541 - accuracy: 0.9395\n",
            "Epoch 00090: saving model to /content/gdrive/My Drive/data/corona_normal_bacterial/epochs/epochs:090-accuracy:0.939.hdf5\n",
            "32/32 [==============================] - 72s 2s/step - loss: 0.1541 - accuracy: 0.9395 - val_loss: 0.2521 - val_accuracy: 0.9082\n",
            "Epoch 91/100\n",
            "32/32 [==============================] - ETA: 0s - loss: 0.1739 - accuracy: 0.9375\n",
            "Epoch 00091: saving model to /content/gdrive/My Drive/data/corona_normal_bacterial/epochs/epochs:091-accuracy:0.938.hdf5\n",
            "32/32 [==============================] - 73s 2s/step - loss: 0.1739 - accuracy: 0.9375 - val_loss: 0.2202 - val_accuracy: 0.9062\n",
            "Epoch 92/100\n",
            "32/32 [==============================] - ETA: 0s - loss: 0.1710 - accuracy: 0.9316\n",
            "Epoch 00092: saving model to /content/gdrive/My Drive/data/corona_normal_bacterial/epochs/epochs:092-accuracy:0.932.hdf5\n",
            "32/32 [==============================] - 73s 2s/step - loss: 0.1710 - accuracy: 0.9316 - val_loss: 0.2325 - val_accuracy: 0.8926\n",
            "Epoch 93/100\n",
            "32/32 [==============================] - ETA: 0s - loss: 0.1645 - accuracy: 0.9424\n",
            "Epoch 00093: saving model to /content/gdrive/My Drive/data/corona_normal_bacterial/epochs/epochs:093-accuracy:0.942.hdf5\n",
            "32/32 [==============================] - 73s 2s/step - loss: 0.1645 - accuracy: 0.9424 - val_loss: 0.1871 - val_accuracy: 0.9277\n",
            "Epoch 94/100\n",
            "32/32 [==============================] - ETA: 0s - loss: 0.1882 - accuracy: 0.9277\n",
            "Epoch 00094: saving model to /content/gdrive/My Drive/data/corona_normal_bacterial/epochs/epochs:094-accuracy:0.928.hdf5\n",
            "32/32 [==============================] - 73s 2s/step - loss: 0.1882 - accuracy: 0.9277 - val_loss: 0.1771 - val_accuracy: 0.9355\n",
            "Epoch 95/100\n",
            "32/32 [==============================] - ETA: 0s - loss: 0.1676 - accuracy: 0.9346\n",
            "Epoch 00095: saving model to /content/gdrive/My Drive/data/corona_normal_bacterial/epochs/epochs:095-accuracy:0.935.hdf5\n",
            "32/32 [==============================] - 73s 2s/step - loss: 0.1676 - accuracy: 0.9346 - val_loss: 0.0732 - val_accuracy: 0.9785\n",
            "Epoch 96/100\n",
            "32/32 [==============================] - ETA: 0s - loss: 0.1592 - accuracy: 0.9512\n",
            "Epoch 00096: saving model to /content/gdrive/My Drive/data/corona_normal_bacterial/epochs/epochs:096-accuracy:0.951.hdf5\n",
            "32/32 [==============================] - 74s 2s/step - loss: 0.1592 - accuracy: 0.9512 - val_loss: 0.3385 - val_accuracy: 0.8438\n",
            "Epoch 97/100\n",
            "32/32 [==============================] - ETA: 0s - loss: 0.1872 - accuracy: 0.9209\n",
            "Epoch 00097: saving model to /content/gdrive/My Drive/data/corona_normal_bacterial/epochs/epochs:097-accuracy:0.921.hdf5\n",
            "32/32 [==============================] - 74s 2s/step - loss: 0.1872 - accuracy: 0.9209 - val_loss: 0.2056 - val_accuracy: 0.9121\n",
            "Epoch 98/100\n",
            "32/32 [==============================] - ETA: 0s - loss: 0.1727 - accuracy: 0.9375\n",
            "Epoch 00098: saving model to /content/gdrive/My Drive/data/corona_normal_bacterial/epochs/epochs:098-accuracy:0.938.hdf5\n",
            "32/32 [==============================] - 73s 2s/step - loss: 0.1727 - accuracy: 0.9375 - val_loss: 0.2778 - val_accuracy: 0.8809\n",
            "Epoch 99/100\n",
            "32/32 [==============================] - ETA: 0s - loss: 0.1776 - accuracy: 0.9316\n",
            "Epoch 00099: saving model to /content/gdrive/My Drive/data/corona_normal_bacterial/epochs/epochs:099-accuracy:0.932.hdf5\n",
            "32/32 [==============================] - 73s 2s/step - loss: 0.1776 - accuracy: 0.9316 - val_loss: 0.1230 - val_accuracy: 0.9570\n",
            "Epoch 100/100\n",
            "32/32 [==============================] - ETA: 0s - loss: 0.1444 - accuracy: 0.9375\n",
            "Epoch 00100: saving model to /content/gdrive/My Drive/data/corona_normal_bacterial/epochs/epochs:100-accuracy:0.938.hdf5\n",
            "32/32 [==============================] - 74s 2s/step - loss: 0.1444 - accuracy: 0.9375 - val_loss: 0.2840 - val_accuracy: 0.9102\n"
          ],
          "name": "stdout"
        }
      ]
    },
    {
      "cell_type": "code",
      "metadata": {
        "id": "kNRrmwq_oepN",
        "colab_type": "code",
        "colab": {
          "base_uri": "https://localhost:8080/",
          "height": 573
        },
        "outputId": "18984915-f316-4b33-e8f9-2ccb56e28fc2"
      },
      "source": [
        "plt.plot(history.history['accuracy'])\n",
        "plt.plot(history.history['val_accuracy'])\n",
        "plt.title('accuracy vs validation accuracy')\n",
        "plt.ylabel('validation accuracy')\n",
        "plt.xlabel('epoch')\n",
        "plt.legend(['accuracy', 'validation accuracy'], loc='upper left')\n",
        "plt.show()\n",
        "\n",
        "\n",
        "plt.plot(history.history['loss'])\n",
        "plt.plot(history.history['val_loss'])\n",
        "plt.title('loss vs validation loss')\n",
        "plt.ylabel('loss')\n",
        "plt.xlabel('epoch')\n",
        "plt.legend(['loss', 'validation loss'], loc='upper left')\n",
        "plt.show()"
      ],
      "execution_count": 26,
      "outputs": [
        {
          "output_type": "display_data",
          "data": {
            "image/png": "[encoded data removed]",
            "text/plain": [
              "<Figure size 432x288 with 1 Axes>"
            ]
          },
          "metadata": {
            "tags": [],
            "needs_background": "light"
          }
        },
        {
          "output_type": "display_data",
          "data": {
            "image/png": "[encoded data removed]",
            "text/plain": [
              "<Figure size 432x288 with 1 Axes>"
            ]
          },
          "metadata": {
            "tags": [],
            "needs_background": "light"
          }
        }
      ]
    },
    {
      "cell_type": "code",
      "metadata": {
        "id": "kgDU7sB5XsKs",
        "colab_type": "code",
        "outputId": "539abd3a-7a1a-4a54-9e60-87337f3fc148",
        "colab": {
          "base_uri": "https://localhost:8080/",
          "height": 90
        }
      },
      "source": [
        "print(\"loss\", history.history['loss'][-1])\n",
        "print(\"validation loss\", history.history['val_loss'][-1])\n",
        "print(\"accuracy\", history.history['accuracy'][-1])\n",
        "print(\"validation accuracy\", history.history['val_accuracy'][-1])\n"
      ],
      "execution_count": 27,
      "outputs": [
        {
          "output_type": "stream",
          "text": [
            "loss 0.14443030953407288\n",
            "validation loss 0.2840075194835663\n",
            "accuracy 0.9375\n",
            "validation accuracy 0.91015625\n"
          ],
          "name": "stdout"
        }
      ]
    },
    {
      "cell_type": "code",
      "metadata": {
        "id": "Lp6KvNSAZmvZ",
        "colab_type": "code",
        "colab": {}
      },
      "source": [
        "PATH = '/content/gdrive/My Drive/data/corona/Chest_xray_Corona_Metadata.csv'\n",
        "meta = pd.read_csv(PATH)"
      ],
      "execution_count": 0,
      "outputs": []
    },
    {
      "cell_type": "code",
      "metadata": {
        "id": "VjX2W_3lZoL7",
        "colab_type": "code",
        "outputId": "2ad49bb6-ec24-4d79-d5ee-3479f62365ba",
        "colab": {
          "base_uri": "https://localhost:8080/",
          "height": 206
        }
      },
      "source": [
        "test = meta[meta.Dataset_type == 'TEST']\n",
        "test = test.fillna(0)\n",
        "test.head()"
      ],
      "execution_count": 21,
      "outputs": [
        {
          "output_type": "execute_result",
          "data": {
            "text/html": [
              "<div>\n",
              "<style scoped>\n",
              "    .dataframe tbody tr th:only-of-type {\n",
              "        vertical-align: middle;\n",
              "    }\n",
              "\n",
              "    .dataframe tbody tr th {\n",
              "        vertical-align: top;\n",
              "    }\n",
              "\n",
              "    .dataframe thead th {\n",
              "        text-align: right;\n",
              "    }\n",
              "</style>\n",
              "<table border=\"1\" class=\"dataframe\">\n",
              "  <thead>\n",
              "    <tr style=\"text-align: right;\">\n",
              "      <th></th>\n",
              "      <th>Unnamed: 0</th>\n",
              "      <th>X_ray_image_name</th>\n",
              "      <th>Label</th>\n",
              "      <th>Dataset_type</th>\n",
              "      <th>Label_2_Virus_category</th>\n",
              "      <th>Label_1_Virus_category</th>\n",
              "    </tr>\n",
              "  </thead>\n",
              "  <tbody>\n",
              "    <tr>\n",
              "      <th>5286</th>\n",
              "      <td>5309</td>\n",
              "      <td>IM-0021-0001.jpeg</td>\n",
              "      <td>Normal</td>\n",
              "      <td>TEST</td>\n",
              "      <td>0</td>\n",
              "      <td>0</td>\n",
              "    </tr>\n",
              "    <tr>\n",
              "      <th>5287</th>\n",
              "      <td>5310</td>\n",
              "      <td>IM-0019-0001.jpeg</td>\n",
              "      <td>Normal</td>\n",
              "      <td>TEST</td>\n",
              "      <td>0</td>\n",
              "      <td>0</td>\n",
              "    </tr>\n",
              "    <tr>\n",
              "      <th>5288</th>\n",
              "      <td>5311</td>\n",
              "      <td>IM-0017-0001.jpeg</td>\n",
              "      <td>Normal</td>\n",
              "      <td>TEST</td>\n",
              "      <td>0</td>\n",
              "      <td>0</td>\n",
              "    </tr>\n",
              "    <tr>\n",
              "      <th>5289</th>\n",
              "      <td>5312</td>\n",
              "      <td>IM-0016-0001.jpeg</td>\n",
              "      <td>Normal</td>\n",
              "      <td>TEST</td>\n",
              "      <td>0</td>\n",
              "      <td>0</td>\n",
              "    </tr>\n",
              "    <tr>\n",
              "      <th>5290</th>\n",
              "      <td>5313</td>\n",
              "      <td>IM-0015-0001.jpeg</td>\n",
              "      <td>Normal</td>\n",
              "      <td>TEST</td>\n",
              "      <td>0</td>\n",
              "      <td>0</td>\n",
              "    </tr>\n",
              "  </tbody>\n",
              "</table>\n",
              "</div>"
            ],
            "text/plain": [
              "      Unnamed: 0  ... Label_1_Virus_category\n",
              "5286        5309  ...                      0\n",
              "5287        5310  ...                      0\n",
              "5288        5311  ...                      0\n",
              "5289        5312  ...                      0\n",
              "5290        5313  ...                      0\n",
              "\n",
              "[5 rows x 6 columns]"
            ]
          },
          "metadata": {
            "tags": []
          },
          "execution_count": 21
        }
      ]
    },
    {
      "cell_type": "code",
      "metadata": {
        "id": "4By_cGSiZxmH",
        "colab_type": "code",
        "outputId": "9572cafd-b0fc-4308-fcf7-2b813e43b1a0",
        "colab": {
          "base_uri": "https://localhost:8080/",
          "height": 35
        }
      },
      "source": [
        "testpnem = test[test.Label =='Pnemonia']\n",
        "testpnem.shape"
      ],
      "execution_count": 22,
      "outputs": [
        {
          "output_type": "execute_result",
          "data": {
            "text/plain": [
              "(390, 6)"
            ]
          },
          "metadata": {
            "tags": []
          },
          "execution_count": 22
        }
      ]
    },
    {
      "cell_type": "code",
      "metadata": {
        "id": "6la6GBr_eaB3",
        "colab_type": "code",
        "outputId": "2c579385-94ce-4903-a3ac-9a61a055761e",
        "colab": {
          "base_uri": "https://localhost:8080/",
          "height": 35
        }
      },
      "source": [
        "bac_testpnem = testpnem[testpnem.Label_1_Virus_category == 'bacteria']\n",
        "bac_testpnem.shape"
      ],
      "execution_count": 23,
      "outputs": [
        {
          "output_type": "execute_result",
          "data": {
            "text/plain": [
              "(242, 6)"
            ]
          },
          "metadata": {
            "tags": []
          },
          "execution_count": 23
        }
      ]
    },
    {
      "cell_type": "code",
      "metadata": {
        "id": "1IX3wiMaeqXo",
        "colab_type": "code",
        "outputId": "5d76ce81-1088-4174-91b2-514d656bc8e3",
        "colab": {
          "base_uri": "https://localhost:8080/",
          "height": 35
        }
      },
      "source": [
        "testnorm = test[test.Label == 'Normal']\n",
        "testnorm.shape"
      ],
      "execution_count": 24,
      "outputs": [
        {
          "output_type": "execute_result",
          "data": {
            "text/plain": [
              "(234, 6)"
            ]
          },
          "metadata": {
            "tags": []
          },
          "execution_count": 24
        }
      ]
    },
    {
      "cell_type": "code",
      "metadata": {
        "id": "Z5D-4tp4e65z",
        "colab_type": "code",
        "colab": {}
      },
      "source": [
        "testnorm = testnorm.sample(200, replace=True)\n",
        "bac_testpnem = bac_testpnem.sample(200, replace=True) "
      ],
      "execution_count": 0,
      "outputs": []
    },
    {
      "cell_type": "code",
      "metadata": {
        "id": "8_Iul7bFhkfJ",
        "colab_type": "code",
        "colab": {}
      },
      "source": [
        "TESTDATA_DIR = \"/content/gdrive/My Drive/data/corona/test/\""
      ],
      "execution_count": 0,
      "outputs": []
    },
    {
      "cell_type": "code",
      "metadata": {
        "id": "D93ctQGCf3O3",
        "colab_type": "code",
        "outputId": "1ad2abe6-6f7e-40c3-cc2c-828dc3357602",
        "colab": {
          "base_uri": "https://localhost:8080/",
          "height": 35
        }
      },
      "source": [
        "print(TESTDATA_DIR)"
      ],
      "execution_count": 27,
      "outputs": [
        {
          "output_type": "stream",
          "text": [
            "/content/gdrive/My Drive/data/corona/test/\n"
          ],
          "name": "stdout"
        }
      ]
    },
    {
      "cell_type": "code",
      "metadata": {
        "id": "vpw4OtO0gul3",
        "colab_type": "code",
        "colab": {}
      },
      "source": [
        "import cv2\n",
        "from PIL import Image\n",
        "from cv2 import imshow\n"
      ],
      "execution_count": 0,
      "outputs": []
    },
    {
      "cell_type": "code",
      "metadata": {
        "id": "T1MFEUgdfc4z",
        "colab_type": "code",
        "colab": {}
      },
      "source": [
        "\n",
        "X_test = []\n",
        "Y_test = []\n",
        "\n",
        "num = 0\n",
        "\n",
        "for imgname in testnorm['X_ray_image_name']:\n",
        "  path = TESTDATA_DIR + str(imgname)\n",
        " \n",
        "  img = cv2.imread(path)\n",
        "   \n",
        "  rimg = cv2.resize(img, (400, 400))\n",
        "  \n",
        "  rimg = rimg / 255.0\n",
        "  \n",
        "  X_test.insert(0, rimg)\n",
        "  Y_test.insert(0, 1)\n",
        "  \n",
        "  print(num)\n",
        "  print(path)\n",
        "  type(rimg)\n",
        "  len(rimg)\n",
        "  num += 1\n",
        "\n",
        "  if(num>199):\n",
        "    break"
      ],
      "execution_count": 0,
      "outputs": []
    },
    {
      "cell_type": "code",
      "metadata": {
        "id": "fzrLTb4XgOv6",
        "colab_type": "code",
        "colab": {}
      },
      "source": [
        "num = 0\n",
        "\n",
        "for imgname in bac_testpnem['X_ray_image_name']:\n",
        "  path = TESTDATA_DIR + str(imgname)\n",
        "  img = cv2.imread(path)\n",
        "  \n",
        "  rimg = cv2.resize(img, (400, 400))\n",
        "    \n",
        "  rimg = rimg / 255.0\n",
        "\n",
        "  X_test.insert(0, rimg)\n",
        "  Y_test.insert(0, 0)\n",
        "  \n",
        "  print(num)\n",
        "  print(path)\n",
        "  num += 1\n",
        "\n",
        "  if(num>199):\n",
        "    break"
      ],
      "execution_count": 0,
      "outputs": []
    },
    {
      "cell_type": "code",
      "metadata": {
        "id": "KnH7cRZwngAl",
        "colab_type": "code",
        "colab": {
          "base_uri": "https://localhost:8080/",
          "height": 73
        },
        "outputId": "ad997529-cc11-48de-9c22-ecda96381e6c"
      },
      "source": [
        "from sklearn.metrics import confusion_matrix\n",
        "from sklearn.metrics import classification_report\n",
        "\n",
        "import seaborn as sns\n",
        "import matplotlib.pyplot as plt\n"
      ],
      "execution_count": 31,
      "outputs": [
        {
          "output_type": "stream",
          "text": [
            "/usr/local/lib/python3.6/dist-packages/statsmodels/tools/_testing.py:19: FutureWarning: pandas.util.testing is deprecated. Use the functions in the public API at pandas.testing instead.\n",
            "  import pandas.util.testing as tm\n"
          ],
          "name": "stderr"
        }
      ]
    },
    {
      "cell_type": "code",
      "metadata": {
        "id": "oWi0sz_ooXFf",
        "colab_type": "code",
        "colab": {}
      },
      "source": [
        "X_test  = np.array(X_test)\n",
        "y_test  = np.array(Y_test)"
      ],
      "execution_count": 0,
      "outputs": []
    },
    {
      "cell_type": "code",
      "metadata": {
        "id": "4qspwKTjY3-m",
        "colab_type": "code",
        "outputId": "aa04456b-539f-48bb-dab0-aa01cb355357",
        "colab": {
          "base_uri": "https://localhost:8080/",
          "height": 217
        }
      },
      "source": [
        "print(y_test)"
      ],
      "execution_count": 33,
      "outputs": [
        {
          "output_type": "stream",
          "text": [
            "[0 0 0 0 0 0 0 0 0 0 0 0 0 0 0 0 0 0 0 0 0 0 0 0 0 0 0 0 0 0 0 0 0 0 0 0 0\n",
            " 0 0 0 0 0 0 0 0 0 0 0 0 0 0 0 0 0 0 0 0 0 0 0 0 0 0 0 0 0 0 0 0 0 0 0 0 0\n",
            " 0 0 0 0 0 0 0 0 0 0 0 0 0 0 0 0 0 0 0 0 0 0 0 0 0 0 0 0 0 0 0 0 0 0 0 0 0\n",
            " 0 0 0 0 0 0 0 0 0 0 0 0 0 0 0 0 0 0 0 0 0 0 0 0 0 0 0 0 0 0 0 0 0 0 0 0 0\n",
            " 0 0 0 0 0 0 0 0 0 0 0 0 0 0 0 0 0 0 0 0 0 0 0 0 0 0 0 0 0 0 0 0 0 0 0 0 0\n",
            " 0 0 0 0 0 0 0 0 0 0 0 0 0 0 0 1 1 1 1 1 1 1 1 1 1 1 1 1 1 1 1 1 1 1 1 1 1\n",
            " 1 1 1 1 1 1 1 1 1 1 1 1 1 1 1 1 1 1 1 1 1 1 1 1 1 1 1 1 1 1 1 1 1 1 1 1 1\n",
            " 1 1 1 1 1 1 1 1 1 1 1 1 1 1 1 1 1 1 1 1 1 1 1 1 1 1 1 1 1 1 1 1 1 1 1 1 1\n",
            " 1 1 1 1 1 1 1 1 1 1 1 1 1 1 1 1 1 1 1 1 1 1 1 1 1 1 1 1 1 1 1 1 1 1 1 1 1\n",
            " 1 1 1 1 1 1 1 1 1 1 1 1 1 1 1 1 1 1 1 1 1 1 1 1 1 1 1 1 1 1 1 1 1 1 1 1 1\n",
            " 1 1 1 1 1 1 1 1 1 1 1 1 1 1 1 1 1 1 1 1 1 1 1 1 1 1 1 1 1 1]\n"
          ],
          "name": "stdout"
        }
      ]
    },
    {
      "cell_type": "code",
      "metadata": {
        "id": "7EJvJWstp6W0",
        "colab_type": "code",
        "colab": {}
      },
      "source": [
        "results = model.predict(X_test).flatten()"
      ],
      "execution_count": 0,
      "outputs": []
    },
    {
      "cell_type": "code",
      "metadata": {
        "id": "VDLwzPAEqAK1",
        "colab_type": "code",
        "colab": {}
      },
      "source": [
        "print(results)"
      ],
      "execution_count": 0,
      "outputs": []
    },
    {
      "cell_type": "code",
      "metadata": {
        "id": "xMnWuXC1ot1-",
        "colab_type": "code",
        "colab": {}
      },
      "source": [
        "test = np.argmax(model.predict(X_test), axis=-1)"
      ],
      "execution_count": 0,
      "outputs": []
    },
    {
      "cell_type": "code",
      "metadata": {
        "id": "DGTWWd0TpKbA",
        "colab_type": "code",
        "outputId": "b4bb1839-7653-4532-b263-c003e2edfa28",
        "colab": {
          "base_uri": "https://localhost:8080/",
          "height": 35
        }
      },
      "source": [
        "len(test)"
      ],
      "execution_count": 43,
      "outputs": [
        {
          "output_type": "execute_result",
          "data": {
            "text/plain": [
              "400"
            ]
          },
          "metadata": {
            "tags": []
          },
          "execution_count": 43
        }
      ]
    },
    {
      "cell_type": "code",
      "metadata": {
        "id": "Ril0oafqZJel",
        "colab_type": "code",
        "colab": {}
      },
      "source": [
        "print(test.flatten())"
      ],
      "execution_count": 0,
      "outputs": []
    },
    {
      "cell_type": "code",
      "metadata": {
        "id": "Lci5W4HLpLPm",
        "colab_type": "code",
        "colab": {
          "base_uri": "https://localhost:8080/",
          "height": 437
        },
        "outputId": "d331bfd9-89b6-41ff-bc1a-8df7efc607ac"
      },
      "source": [
        "model.predict_classes(X_test).flatten()\n"
      ],
      "execution_count": 45,
      "outputs": [
        {
          "output_type": "stream",
          "text": [
            "WARNING:tensorflow:From <ipython-input-45-19c557c41139>:1: Sequential.predict_classes (from tensorflow.python.keras.engine.sequential) is deprecated and will be removed after 2021-01-01.\n",
            "Instructions for updating:\n",
            "Please use instead:* `np.argmax(model.predict(x), axis=-1)`,   if your model does multi-class classification   (e.g. if it uses a `softmax` last-layer activation).* `(model.predict(x) > 0.5).astype(\"int32\")`,   if your model does binary classification   (e.g. if it uses a `sigmoid` last-layer activation).\n"
          ],
          "name": "stdout"
        },
        {
          "output_type": "execute_result",
          "data": {
            "text/plain": [
              "array([0, 0, 0, 0, 1, 0, 0, 0, 0, 0, 0, 0, 0, 1, 0, 0, 0, 0, 1, 0, 0, 0,\n",
              "       1, 0, 0, 0, 1, 0, 1, 0, 0, 0, 0, 0, 0, 0, 0, 0, 0, 0, 1, 0, 1, 0,\n",
              "       1, 0, 0, 0, 0, 0, 0, 0, 0, 0, 0, 0, 0, 0, 0, 0, 0, 0, 0, 0, 0, 1,\n",
              "       0, 0, 0, 0, 0, 0, 1, 0, 0, 0, 0, 0, 0, 0, 1, 0, 0, 0, 0, 1, 0, 0,\n",
              "       0, 0, 0, 0, 0, 0, 1, 0, 0, 0, 0, 0, 0, 0, 1, 1, 0, 0, 0, 0, 0, 0,\n",
              "       0, 1, 0, 0, 0, 0, 0, 1, 0, 1, 0, 1, 1, 0, 0, 0, 0, 0, 0, 0, 1, 0,\n",
              "       0, 0, 0, 0, 0, 0, 0, 0, 0, 0, 0, 0, 0, 0, 0, 0, 0, 0, 0, 0, 0, 0,\n",
              "       0, 0, 0, 0, 0, 1, 0, 0, 0, 0, 0, 0, 0, 0, 0, 0, 0, 0, 0, 0, 0, 0,\n",
              "       0, 0, 0, 0, 0, 0, 1, 0, 0, 0, 0, 0, 0, 1, 0, 0, 0, 0, 0, 0, 0, 0,\n",
              "       0, 0, 1, 1, 1, 1, 1, 1, 1, 1, 1, 1, 1, 1, 1, 1, 1, 1, 1, 0, 1, 1,\n",
              "       1, 1, 1, 1, 1, 1, 1, 1, 1, 1, 1, 1, 1, 1, 0, 1, 1, 1, 0, 1, 1, 1,\n",
              "       1, 1, 1, 0, 1, 1, 1, 1, 1, 1, 1, 1, 1, 1, 1, 0, 1, 1, 1, 1, 1, 1,\n",
              "       1, 1, 1, 1, 1, 1, 1, 1, 1, 1, 1, 1, 1, 1, 1, 1, 0, 0, 1, 1, 1, 1,\n",
              "       1, 1, 1, 1, 1, 0, 1, 1, 0, 1, 1, 1, 1, 1, 1, 1, 1, 1, 1, 1, 1, 1,\n",
              "       1, 1, 1, 1, 1, 1, 1, 1, 1, 1, 1, 1, 1, 0, 1, 0, 1, 1, 1, 1, 1, 1,\n",
              "       1, 1, 0, 1, 1, 1, 1, 1, 1, 1, 1, 1, 1, 1, 1, 1, 1, 1, 1, 1, 1, 1,\n",
              "       1, 1, 1, 1, 1, 1, 1, 1, 1, 1, 0, 1, 1, 1, 1, 1, 1, 1, 1, 1, 1, 1,\n",
              "       1, 1, 1, 1, 1, 1, 0, 1, 1, 1, 1, 1, 1, 1, 1, 1, 1, 1, 1, 1, 1, 1,\n",
              "       0, 1, 1, 1], dtype=int32)"
            ]
          },
          "metadata": {
            "tags": []
          },
          "execution_count": 45
        }
      ]
    },
    {
      "cell_type": "code",
      "metadata": {
        "id": "8NQZEBg7pQc3",
        "colab_type": "code",
        "colab": {
          "base_uri": "https://localhost:8080/",
          "height": 283
        },
        "outputId": "d757ed97-99ac-4a45-85a8-76050a2b3220"
      },
      "source": [
        "from sklearn.metrics import confusion_matrix\n",
        "import seaborn as sns\n",
        "import matplotlib.pyplot as plt\n",
        "cm = confusion_matrix(y_test, model.predict_classes(X_test))\n",
        "sns.heatmap(cm, cmap='Blues', annot=True)"
      ],
      "execution_count": 46,
      "outputs": [
        {
          "output_type": "execute_result",
          "data": {
            "text/plain": [
              "<matplotlib.axes._subplots.AxesSubplot at 0x7f3f317c0978>"
            ]
          },
          "metadata": {
            "tags": []
          },
          "execution_count": 46
        },
        {
          "output_type": "display_data",
          "data": {
            "image/png": "[encoded data removed]",
            "text/plain": [
              "<Figure size 432x288 with 2 Axes>"
            ]
          },
          "metadata": {
            "tags": [],
            "needs_background": "light"
          }
        }
      ]
    },
    {
      "cell_type": "code",
      "metadata": {
        "id": "QGaJIcAWpVc7",
        "colab_type": "code",
        "colab": {
          "base_uri": "https://localhost:8080/",
          "height": 53
        },
        "outputId": "93d9c9b1-78a4-453f-f105-ea9d52a6491d"
      },
      "source": [
        "model.evaluate(X_test, y_test, verbose=1)"
      ],
      "execution_count": 47,
      "outputs": [
        {
          "output_type": "stream",
          "text": [
            "13/13 [==============================] - 1s 51ms/step - loss: 0.2954 - accuracy: 0.9000\n"
          ],
          "name": "stdout"
        },
        {
          "output_type": "execute_result",
          "data": {
            "text/plain": [
              "[0.2953798770904541, 0.8999999761581421]"
            ]
          },
          "metadata": {
            "tags": []
          },
          "execution_count": 47
        }
      ]
    },
    {
      "cell_type": "code",
      "metadata": {
        "id": "jxoJ6qoHpaBN",
        "colab_type": "code",
        "colab": {
          "base_uri": "https://localhost:8080/",
          "height": 35
        },
        "outputId": "cefb772c-0a68-4cf6-a3dd-70a9db7da83f"
      },
      "source": [
        "# evaluate the model\n",
        "scores = model.evaluate(test_generator, steps=10, verbose=1)\n"
      ],
      "execution_count": 48,
      "outputs": [
        {
          "output_type": "stream",
          "text": [
            "10/10 [==============================] - 69s 7s/step - loss: 0.2141 - accuracy: 0.9187\n"
          ],
          "name": "stdout"
        }
      ]
    },
    {
      "cell_type": "code",
      "metadata": {
        "id": "LtP4WnzisE-9",
        "colab_type": "code",
        "colab": {
          "base_uri": "https://localhost:8080/",
          "height": 53
        },
        "outputId": "008aae3d-5346-4b0f-fe6b-c3ba0c7630ed"
      },
      "source": [
        "print(\"%s: %f\" % (model.metrics_names[0], scores[0]))\n",
        "print(\"%s: %f\" % (model.metrics_names[1], scores[1]))\n"
      ],
      "execution_count": 49,
      "outputs": [
        {
          "output_type": "stream",
          "text": [
            "loss: 0.214110\n",
            "accuracy: 0.918750\n"
          ],
          "name": "stdout"
        }
      ]
    },
    {
      "cell_type": "code",
      "metadata": {
        "id": "lOSjnUL3s3Ps",
        "colab_type": "code",
        "colab": {
          "base_uri": "https://localhost:8080/",
          "height": 53
        },
        "outputId": "9e7d99d0-b7d2-4bc4-96be-57157c696ef6"
      },
      "source": [
        "from sklearn.metrics import roc_curve\n",
        "from sklearn.metrics import roc_auc_score\n",
        "\n",
        "# generate a no skill prediction (majority class)\n",
        "ns_probs = [0 for _ in range(len(y_test))]\n",
        "\n",
        "# predict probabilities\n",
        "lr_probs = model.predict(X_test)\n",
        "\n",
        "# keep probabilities for the positive outcome only\n",
        "lr_probs = lr_probs[:, -1]\n",
        "\n",
        "# calculate scores\n",
        "ns_auc = roc_auc_score(y_test, ns_probs)\n",
        "lr_auc = roc_auc_score(y_test, lr_probs)\n",
        "# summarize scores\n",
        "print('No Skill: ROC AUC=%.3f' % (ns_auc))\n",
        "print('Logistic: ROC AUC=%.3f' % (lr_auc))\n",
        "\n"
      ],
      "execution_count": 39,
      "outputs": [
        {
          "output_type": "stream",
          "text": [
            "No Skill: ROC AUC=0.500\n",
            "Logistic: ROC AUC=0.963\n"
          ],
          "name": "stdout"
        }
      ]
    },
    {
      "cell_type": "code",
      "metadata": {
        "id": "j5vGQl8Rs6F_",
        "colab_type": "code",
        "colab": {
          "base_uri": "https://localhost:8080/",
          "height": 279
        },
        "outputId": "77c65a6d-7633-4774-a16d-7bed87166a34"
      },
      "source": [
        "from matplotlib import pyplot\n",
        "\n",
        "# calculate roc curves\n",
        "ns_fpr, ns_tpr, _ = roc_curve(y_test, ns_probs)\n",
        "lr_fpr, lr_tpr, _ = roc_curve(y_test, lr_probs)\n",
        "# plot the roc curve for the model\n",
        "pyplot.plot(ns_fpr, ns_tpr, linestyle='--', label='No Skill')\n",
        "pyplot.plot(lr_fpr, lr_tpr, marker='.', label='Logistic')\n",
        "# axis labels\n",
        "pyplot.xlabel('False Positive Rate')\n",
        "pyplot.ylabel('True Positive Rate')\n",
        "# show the legend\n",
        "pyplot.legend()\n",
        "# show the plot\n",
        "pyplot.show()"
      ],
      "execution_count": 40,
      "outputs": [
        {
          "output_type": "display_data",
          "data": {
            "image/png": "[encoded data removed]",
            "text/plain": [
              "<Figure size 432x288 with 1 Axes>"
            ]
          },
          "metadata": {
            "tags": [],
            "needs_background": "light"
          }
        }
      ]
    },
    {
      "cell_type": "code",
      "metadata": {
        "id": "k3qEw4xmtzX6",
        "colab_type": "code",
        "outputId": "cebbd431-e129-4431-caca-313d5ed2265d",
        "colab": {
          "base_uri": "https://localhost:8080/",
          "height": 35
        }
      },
      "source": [
        "print(DATASET_DIR)"
      ],
      "execution_count": 50,
      "outputs": [
        {
          "output_type": "stream",
          "text": [
            "/content/gdrive/My Drive/data/corona_normal_bacterial/\n"
          ],
          "name": "stdout"
        }
      ]
    },
    {
      "cell_type": "code",
      "metadata": {
        "id": "d01C0_mgw2EX",
        "colab_type": "code",
        "outputId": "13c8a008-d32f-40e1-928a-22931feb5dd7",
        "colab": {
          "base_uri": "https://localhost:8080/",
          "height": 35
        }
      },
      "source": [
        "# save model and architecture to single file\n",
        "model.save(DATASET_DIR+ \"/robustbacmodel.h5\")\n",
        "print(\"Saved model to disk\")"
      ],
      "execution_count": 51,
      "outputs": [
        {
          "output_type": "stream",
          "text": [
            "Saved model to disk\n"
          ],
          "name": "stdout"
        }
      ]
    }
  ]
}