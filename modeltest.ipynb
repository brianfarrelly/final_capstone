{
  "nbformat": 4,
  "nbformat_minor": 0,
  "metadata": {
    "colab": {
      "name": "modeltest.ipynb",
      "provenance": [],
      "collapsed_sections": [],
      "authorship_tag": "ABX9TyNHDUgHBiY/3iQGowrnBMZX",
      "include_colab_link": true
    },
    "kernelspec": {
      "name": "python3",
      "display_name": "Python 3"
    }
  },
  "cells": [
    {
      "cell_type": "markdown",
      "metadata": {
        "id": "view-in-github",
        "colab_type": "text"
      },
      "source": [
        "<a href=\"https://colab.research.google.com/github/brianfarrelly/final_capstone/blob/master/modeltest.ipynb\" target=\"_parent\"><img src=\"https://colab.research.google.com/assets/colab-badge.svg\" alt=\"Open In Colab\"/></a>"
      ]
    },
    {
      "cell_type": "markdown",
      "metadata": {
        "id": "qWJ_XaCooKbx",
        "colab_type": "text"
      },
      "source": [
        "Final Capstone - Deep Learning - Chest Xrays Comparing Normal Chest Xrays to Viral and Bacterial Pneunomia Chest Xrays.\n",
        "\n",
        "Brian Farrelly, Thinkful Data Science Immersion Bootcamp\n",
        "\n",
        "May 21, 2020\n",
        "\n",
        "\n"
      ]
    },
    {
      "cell_type": "markdown",
      "metadata": {
        "id": "dDcpfoCjoMgm",
        "colab_type": "text"
      },
      "source": [
        "\n",
        "\n",
        "---\n",
        "\n",
        "\n",
        "\n",
        "---\n",
        "\n",
        "\n",
        "\n",
        "---\n",
        "\n",
        "\n",
        "\n",
        "---\n",
        "\n"
      ]
    },
    {
      "cell_type": "markdown",
      "metadata": {
        "id": "drP9uiIMoMw2",
        "colab_type": "text"
      },
      "source": [
        "This Header will be included in all five project files. modeltest.ipynb,\n",
        "bacterial_pneumonia_xrays.ipynb, bacterial_pneumonia_xrays_robust.ipynb,\n",
        "viral_penumonia_xrays.ipynb, viral_pneumonia_xrays_robust.ipynb. \"Chest Xray\" will be replaced the appreviation CXR. Viral Penumonia will be referred to as Viral. And Bacterial Pneumonia will be referred to as Bacterial.\n"
      ]
    },
    {
      "cell_type": "markdown",
      "metadata": {
        "id": "FLCCUjNPoM7X",
        "colab_type": "text"
      },
      "source": [
        "\n",
        "\n",
        "---\n",
        "\n",
        "\n",
        "\n",
        "---\n",
        "\n",
        "\n",
        "\n",
        "---\n",
        "\n",
        "\n",
        "\n",
        "---\n",
        "\n",
        "\n"
      ]
    },
    {
      "cell_type": "markdown",
      "metadata": {
        "id": "_y-OZulLpfKG",
        "colab_type": "text"
      },
      "source": [
        "1. Wrangle your data. Get it into the notebook in the best form possible for your analysis and model building.\n",
        "\n",
        "Data pulled from: \n",
        "https://www.kaggle.com/praveengovi/coronahack-chest-xraydataset\n",
        "\n",
        "Stored on a mounted google drive with 1300 training files for normal, 1300 viral pneumonia files and 1300 bacterial pneumonia files. \n",
        "\n",
        "The data is loaded into a generator and that generator is used to train the model.\n",
        "\n",
        "The files were easy to classify as normal files were indicated by strictly defined file names that started with \"IM\" or \"NORMAL\" for normal. Viral pneumonia files with \"virus\" in the filename e.g. person80_virus_150.jpeg.\n",
        "Bacterial pneumonia files with \"bacteria\" in the filename e.g. person1_bacteria_1.jpeg.\n",
        "    \n",
        "\n"
      ]
    },
    {
      "cell_type": "markdown",
      "metadata": {
        "id": "FqSQc-LopfTI",
        "colab_type": "text"
      },
      "source": [
        "2. Explore your data. Make visualizations and conduct statistical analyses to explain what’s happening with your data, why it’s interesting, and what features you intend to take advantage of for your modeling. The number of files are listed by category in the dataset summary that was provided. Also the files\n",
        "are clearing delineated by a strict filename convention listed above."
      ]
    },
    {
      "cell_type": "code",
      "metadata": {
        "id": "PMQPY2Uas4qd",
        "colab_type": "code",
        "colab": {
          "base_uri": "https://localhost:8080/",
          "height": 269
        },
        "outputId": "87e02ef9-c2b9-482b-9710-6e934cd0b90b"
      },
      "source": [
        "corona.head(20)"
      ],
      "execution_count": 5,
      "outputs": [
        {
          "output_type": "execute_result",
          "data": {
            "text/html": [
              "<div>\n",
              "<style scoped>\n",
              "    .dataframe tbody tr th:only-of-type {\n",
              "        vertical-align: middle;\n",
              "    }\n",
              "\n",
              "    .dataframe tbody tr th {\n",
              "        vertical-align: top;\n",
              "    }\n",
              "\n",
              "    .dataframe thead th {\n",
              "        text-align: right;\n",
              "    }\n",
              "</style>\n",
              "<table border=\"1\" class=\"dataframe\">\n",
              "  <thead>\n",
              "    <tr style=\"text-align: right;\">\n",
              "      <th></th>\n",
              "      <th>Unnamed: 0</th>\n",
              "      <th>Label</th>\n",
              "      <th>Label_1_Virus_category</th>\n",
              "      <th>Label_2_Virus_category</th>\n",
              "      <th>Image_Count</th>\n",
              "    </tr>\n",
              "  </thead>\n",
              "  <tbody>\n",
              "    <tr>\n",
              "      <th>0</th>\n",
              "      <td>0</td>\n",
              "      <td>Normal</td>\n",
              "      <td>NaN</td>\n",
              "      <td>NaN</td>\n",
              "      <td>1576</td>\n",
              "    </tr>\n",
              "    <tr>\n",
              "      <th>1</th>\n",
              "      <td>1</td>\n",
              "      <td>Pnemonia</td>\n",
              "      <td>Stress-Smoking</td>\n",
              "      <td>ARDS</td>\n",
              "      <td>2</td>\n",
              "    </tr>\n",
              "    <tr>\n",
              "      <th>2</th>\n",
              "      <td>2</td>\n",
              "      <td>Pnemonia</td>\n",
              "      <td>Virus</td>\n",
              "      <td>NaN</td>\n",
              "      <td>1493</td>\n",
              "    </tr>\n",
              "    <tr>\n",
              "      <th>3</th>\n",
              "      <td>3</td>\n",
              "      <td>Pnemonia</td>\n",
              "      <td>Virus</td>\n",
              "      <td>COVID-19</td>\n",
              "      <td>58</td>\n",
              "    </tr>\n",
              "    <tr>\n",
              "      <th>4</th>\n",
              "      <td>4</td>\n",
              "      <td>Pnemonia</td>\n",
              "      <td>Virus</td>\n",
              "      <td>SARS</td>\n",
              "      <td>4</td>\n",
              "    </tr>\n",
              "    <tr>\n",
              "      <th>5</th>\n",
              "      <td>5</td>\n",
              "      <td>Pnemonia</td>\n",
              "      <td>bacteria</td>\n",
              "      <td>NaN</td>\n",
              "      <td>2772</td>\n",
              "    </tr>\n",
              "    <tr>\n",
              "      <th>6</th>\n",
              "      <td>6</td>\n",
              "      <td>Pnemonia</td>\n",
              "      <td>bacteria</td>\n",
              "      <td>Streptococcus</td>\n",
              "      <td>5</td>\n",
              "    </tr>\n",
              "  </tbody>\n",
              "</table>\n",
              "</div>"
            ],
            "text/plain": [
              "   Unnamed: 0     Label  ... Label_2_Virus_category Image_Count\n",
              "0           0    Normal  ...                    NaN        1576\n",
              "1           1  Pnemonia  ...                   ARDS           2\n",
              "2           2  Pnemonia  ...                    NaN        1493\n",
              "3           3  Pnemonia  ...               COVID-19          58\n",
              "4           4  Pnemonia  ...                   SARS           4\n",
              "5           5  Pnemonia  ...                    NaN        2772\n",
              "6           6  Pnemonia  ...          Streptococcus           5\n",
              "\n",
              "[7 rows x 5 columns]"
            ]
          },
          "metadata": {
            "tags": []
          },
          "execution_count": 5
        }
      ]
    },
    {
      "cell_type": "markdown",
      "metadata": {
        "id": "iUA3QXcepfVD",
        "colab_type": "text"
      },
      "source": [
        "3. Build a modeling pipeline. Your model should be built in a coherent pipeline of linked stages that is efficient and easy to implement.\n",
        "\n",
        "The notebooks attached will be easy to run as a sanity test just make sure to change the model.fit() with 16 steps_per_epoch and 8 validation steps. The whole notbook should run start to finish without interruption. Access to my google drive may be an issue. \n",
        "I will make sure to make them read only for the public. There should be no need to run Tensorboard or use \"model save per epoch\"\n",
        "callbacks but they are there if needed. \n",
        "\n",
        "https://drive.google.com/open?id=1W9yqHpRDIDt2mzczRBmsF-lQSHSlyoxn\n",
        "\n",
        "https://drive.google.com/open?id=16_2qCY8dcjeh8P1JZsNUluvGyi0TFvvZ\n"
      ]
    },
    {
      "cell_type": "code",
      "metadata": {
        "id": "EXt9y0OVusMG",
        "colab_type": "code",
        "colab": {}
      },
      "source": [
        "#Example sanity test for model.fit()\n",
        "\n",
        "history = model.fit(\n",
        "    train_generator,\n",
        "    steps_per_epoch = 16,\n",
        "    validation_data = valid_generator, \n",
        "    validation_steps = 8,\n",
        "    epochs = 1,\n",
        "    #callbacks=callbacks_list\n",
        "    )\n"
      ],
      "execution_count": 0,
      "outputs": []
    },
    {
      "cell_type": "markdown",
      "metadata": {
        "id": "VYrpTc4ItsGA",
        "colab_type": "text"
      },
      "source": [
        "4. Evaluate your models. You should have built multiple models, which you should thoroughly evaluate and compare via a robust analysis of residuals and failures.\n",
        "\n",
        "There are 4 models in this project \n",
        "\n",
        "Normal CXR vs Viral CXR\n",
        "Normal CXR vs Bacterial CXR\n",
        "Normal CXR vs Viral CXR (Robust)\n",
        "Normal CXR vs Bacterial CXR (Robust)\n",
        "\n",
        "There is only a slight difference between the normal model and the Robust model. The code differences will be shown below."
      ]
    },
    {
      "cell_type": "code",
      "metadata": {
        "id": "7jQ2DfJgx8o4",
        "colab_type": "code",
        "colab": {}
      },
      "source": [
        "# This is the \"regular models\" only using shear range and zoom range which can \n",
        "#get a fairly tight fitting model in a small number of epoch runs.\n",
        "\n",
        "train_datagen = ImageDataGenerator(\n",
        "    rescale=1./255,\n",
        "    shear_range=0.2,\n",
        "    zoom_range=0.2,\n",
        "    horizontal_flip=True,\n",
        "    validation_split=0.2\n",
        "    )\n",
        "\n",
        "valid_datagen = ImageDataGenerator(rescale=1./255)\n",
        "\n",
        "test_datagen = ImageDataGenerator(rescale=1./255)\n"
      ],
      "execution_count": 0,
      "outputs": []
    },
    {
      "cell_type": "code",
      "metadata": {
        "id": "JDuClDBoyVQJ",
        "colab_type": "code",
        "colab": {}
      },
      "source": [
        "# This is the ImageDataGenerator for the Robust models.\n",
        "# rotation_range, width_shift_range, and height_shift_range image transforms\n",
        "# are added. It can take a very long run time of model.fit() 6 hours or so\n",
        "# to get a reasonably fit model. The good news is this can accept a much more \n",
        "# diverse set of CXR images. (You can accept CXRs from lazy and incompetant\n",
        "# Xray technicians!) This dataset seemed to be picked from pristine Xray images\n",
        "# but with variation of images introduced by some children and small adults. \n",
        "\n",
        "train_datagen = ImageDataGenerator(\n",
        "    rescale=1./255,\n",
        "    rotation_range=40,\n",
        "    width_shift_range=0.2,\n",
        "    height_shift_range=0.2,\n",
        "    shear_range=0.2,\n",
        "    zoom_range=0.2,\n",
        "    horizontal_flip=True,\n",
        "    validation_split=0.2\n",
        "    )\n",
        "\n",
        "valid_datagen = ImageDataGenerator(rescale=1./255)\n",
        "\n",
        "test_datagen = ImageDataGenerator(rescale=1./255)\n",
        "\n"
      ],
      "execution_count": 0,
      "outputs": []
    },
    {
      "cell_type": "markdown",
      "metadata": {
        "id": "rnHFgScMwbzI",
        "colab_type": "text"
      },
      "source": [
        "5. Present and thoroughly explain your product. Describe your model in detail: why you chose it, why it works, what problem it solves, how it will run in a production like environment. What would you need to do to maintain it going forward?\n",
        "\n",
        "The application of these models is very straightforward. The user can input a frontal CXR and get a reasonably reliable answer that the CXR is positive for Viral or Bacterial Penumonia. The implementation will require the image to be tested on both models.\n",
        "Perhaps a third model in the front to classify the image as CXR or not CXR would be useful in order to prevent a garbage test being performed  \n",
        "\n",
        "I plan to have the models reside on a flask Django web frontend and I would also like to attempt a android kotlin app that would use the h5 model files or stored as pickle files as a tester for CXR inout. The h5 model files are only 16MB in size. So it should be reasonable to deploy as a mobile application. \n",
        "\n",
        "It is certainly not medical grade and would require years of testing to certify for medical diagnostic use.\n",
        "\n"
      ]
    },
    {
      "cell_type": "markdown",
      "metadata": {
        "id": "p2_FlZm2nw8b",
        "colab_type": "text"
      },
      "source": [
        "\n",
        "\n",
        "---\n",
        "\n",
        "\n",
        "\n",
        "---\n",
        "\n",
        "\n",
        "\n",
        "---\n",
        "\n",
        "\n",
        "\n",
        "---\n",
        "\n",
        "\n",
        "\n",
        "---\n",
        "\n",
        "Original Project Proposal \n",
        "\n",
        "---\n",
        "\n",
        "\n",
        "\n",
        "---\n",
        "\n",
        "\n",
        "\n",
        "---\n",
        "\n",
        "\n",
        "\n",
        "---\n",
        "\n",
        "\n",
        "1.   What is the problem you are attempting to solve?\n",
        "\n",
        "     Using machine learning/deep learning to analyze a set of chest xray \n",
        "     images and diagnose the presence of lung damage created by covid-19.\n",
        "     It would also be useful to be able to train a model that would be \n",
        "     able to tell the difference between a normal chest x-ray and a \n",
        "     chest xray of an pneunomia affected patient. Pneunomia is also a  \n",
        "     deadly lung disease. \n",
        "\n",
        "\n",
        "2.   How is your solution valuable?\n",
        "     \n",
        "     An automated tool that could assist a doctor, clinician or nurse \n",
        "     and tell them they are looking at a patient that has covid-19 lung   \n",
        "     dammage is valuable. That patient can be isolated and immediately  \n",
        "     start treatment. A different set of protocols are used with \n",
        "     patients that can be presumed covid-19 positive.  \n",
        "\n",
        "\n",
        "3.   What is your data source and how will you access it? \n",
        "\n",
        "      The data is from \n",
        "\n",
        "      https://www.kaggle.com/praveengovi/coronahack-chest-xraydataset\n",
        "\n",
        "      It consists of about 1.2 G of 5935 files of chest xray images. The \n",
        "      files have been copied over to my google drive and are accessed \n",
        "      from Google collab with access to the google drive mount.\n",
        "\n",
        "\n",
        "\n",
        "4.   What techniques from the course do you anticipate using?\n",
        "\n",
        "      The techniques used will be image processing with deep learning and \n",
        "      image processing with a CNN deep learning network. I will also try  \n",
        "      to use Dask either locally on the google collab or with a remote \n",
        "      linux distro connected to by a local jupyter notebook running the \n",
        "      Dask client. \n",
        "\n",
        "\n",
        "5.   What do you anticipate to be the biggest challenge you’ll face? \n",
        "     \n",
        "     The data is limited as far as the covid-19 positive training images. \n",
        "     I only have access to 58 of them in this dataset. So far my testing \n",
        "     with 3 categories of categorizing a normal dataset versus a \n",
        "     pneunomia dataset versus the covid-19 dataset. It would be nice to \n",
        "     be able to compare and categorize 1000 normal chest xray images, \n",
        "     versus 1000 penunomia xrays versus 1000 covid-19 images. That would \n",
        "     make the categorization training fair and not create imabalanced \n",
        "     results.    \n",
        "\n",
        "\n",
        "---\n",
        "\n"
      ]
    },
    {
      "cell_type": "markdown",
      "metadata": {
        "id": "IhIVe6zIn5Wp",
        "colab_type": "text"
      },
      "source": [
        "\n",
        "\n",
        "---\n",
        "\n",
        "---\n",
        "\n",
        "\n",
        "\n",
        "---\n",
        "\n",
        "\n",
        "\n",
        "---\n",
        "\n",
        "\n",
        "\n",
        "\n",
        "\n",
        "---\n",
        "\n",
        "\n",
        "\n",
        "---\n",
        "\n",
        "\n",
        "\n",
        "---\n",
        "\n"
      ]
    },
    {
      "cell_type": "code",
      "metadata": {
        "id": "EiBKLyzXTFL4",
        "colab_type": "code",
        "colab": {}
      },
      "source": [
        "import os\n",
        "import numpy as np\n",
        "import pandas as pd\n",
        "\n",
        "from google.colab import drive\n",
        "\n",
        "\n",
        "import matplotlib.pyplot as plt\n",
        "%matplotlib inline"
      ],
      "execution_count": 0,
      "outputs": []
    },
    {
      "cell_type": "code",
      "metadata": {
        "id": "mCWBGw9ITOAu",
        "colab_type": "code",
        "colab": {}
      },
      "source": [
        "import tensorflow as tf\n",
        "from tensorflow import keras\n",
        "from tensorflow.keras import layers\n",
        "from tensorflow.keras.models import Sequential, Model\n",
        "from tensorflow.keras.preprocessing.image import ImageDataGenerator,load_img, img_to_array\n",
        "from tensorflow.keras.layers import Conv2D, MaxPooling2D,GlobalAveragePooling2D\n",
        "from tensorflow.keras.layers import Activation, Dropout, BatchNormalization, Flatten, Dense, AvgPool2D,MaxPool2D\n",
        "from tensorflow.keras.models import Sequential, Model\n",
        "from tensorflow.keras.applications.vgg16 import VGG16, preprocess_input\n",
        "from tensorflow.keras.optimizers import Adam, SGD, RMSprop\n"
      ],
      "execution_count": 0,
      "outputs": []
    },
    {
      "cell_type": "code",
      "metadata": {
        "id": "VpdaQUmATQeu",
        "colab_type": "code",
        "outputId": "d7e173b7-9a7e-41e1-c0e0-f43865a914b8",
        "colab": {
          "base_uri": "https://localhost:8080/",
          "height": 35
        }
      },
      "source": [
        "print(tf.__version__)"
      ],
      "execution_count": 0,
      "outputs": [
        {
          "output_type": "stream",
          "text": [
            "2.2.0\n"
          ],
          "name": "stdout"
        }
      ]
    },
    {
      "cell_type": "code",
      "metadata": {
        "id": "2pOfe2S1TTOk",
        "colab_type": "code",
        "outputId": "5a065798-3c32-4577-c90a-182e3486aee8",
        "colab": {
          "base_uri": "https://localhost:8080/",
          "height": 128
        }
      },
      "source": [
        "drive.mount('/content/gdrive',force_remount=True)"
      ],
      "execution_count": 2,
      "outputs": [
        {
          "output_type": "stream",
          "text": [
            "Go to this URL in a browser: https://accounts.google.com/o/oauth2/auth?client_id=947318989803-6bn6qk8qdgf4n4g3pfee6491hc0brc4i.apps.googleusercontent.com&redirect_uri=urn%3aietf%3awg%3aoauth%3a2.0%3aoob&response_type=code&scope=email%20https%3a%2f%2fwww.googleapis.com%2fauth%2fdocs.test%20https%3a%2f%2fwww.googleapis.com%2fauth%2fdrive%20https%3a%2f%2fwww.googleapis.com%2fauth%2fdrive.photos.readonly%20https%3a%2f%2fwww.googleapis.com%2fauth%2fpeopleapi.readonly\n",
            "\n",
            "Enter your authorization code:\n",
            "··········\n",
            "Mounted at /content/gdrive\n"
          ],
          "name": "stdout"
        }
      ]
    },
    {
      "cell_type": "code",
      "metadata": {
        "id": "nOB0CPTXURIu",
        "colab_type": "code",
        "colab": {}
      },
      "source": [
        "PATH = '/content/gdrive/My Drive/data/corona/Chest_xray_Corona_dataset_Summary.csv'\n",
        "corona = pd.read_csv(PATH)"
      ],
      "execution_count": 0,
      "outputs": []
    },
    {
      "cell_type": "code",
      "metadata": {
        "id": "FsIg1iT8UTnq",
        "colab_type": "code",
        "colab": {}
      },
      "source": [
        "PATH = '/content/gdrive/My Drive/data/corona/Chest_xray_Corona_Metadata.csv'\n",
        "meta = pd.read_csv(PATH)"
      ],
      "execution_count": 0,
      "outputs": []
    },
    {
      "cell_type": "code",
      "metadata": {
        "id": "yo4EYnYZUdPX",
        "colab_type": "code",
        "colab": {}
      },
      "source": [
        "test = meta[meta.Dataset_type == 'TEST']"
      ],
      "execution_count": 0,
      "outputs": []
    },
    {
      "cell_type": "code",
      "metadata": {
        "id": "9PWHLMOeUmCn",
        "colab_type": "code",
        "colab": {}
      },
      "source": [
        "train = meta[meta.Dataset_type == 'TRAIN']"
      ],
      "execution_count": 0,
      "outputs": []
    },
    {
      "cell_type": "code",
      "metadata": {
        "id": "5Gx7thlLUrci",
        "colab_type": "code",
        "outputId": "8e347e45-8dfb-41e7-d4d2-dd724eb88142",
        "colab": {
          "base_uri": "https://localhost:8080/",
          "height": 363
        }
      },
      "source": [
        "covid = train[train.Label_2_Virus_category == 'COVID-19']\n",
        "covid.head(10)"
      ],
      "execution_count": 0,
      "outputs": [
        {
          "output_type": "execute_result",
          "data": {
            "text/html": [
              "<div>\n",
              "<style scoped>\n",
              "    .dataframe tbody tr th:only-of-type {\n",
              "        vertical-align: middle;\n",
              "    }\n",
              "\n",
              "    .dataframe tbody tr th {\n",
              "        vertical-align: top;\n",
              "    }\n",
              "\n",
              "    .dataframe thead th {\n",
              "        text-align: right;\n",
              "    }\n",
              "</style>\n",
              "<table border=\"1\" class=\"dataframe\">\n",
              "  <thead>\n",
              "    <tr style=\"text-align: right;\">\n",
              "      <th></th>\n",
              "      <th>Unnamed: 0</th>\n",
              "      <th>X_ray_image_name</th>\n",
              "      <th>Label</th>\n",
              "      <th>Dataset_type</th>\n",
              "      <th>Label_2_Virus_category</th>\n",
              "      <th>Label_1_Virus_category</th>\n",
              "    </tr>\n",
              "  </thead>\n",
              "  <tbody>\n",
              "    <tr>\n",
              "      <th>5221</th>\n",
              "      <td>5221</td>\n",
              "      <td>kjr-21-e25-g001-l-a.jpg</td>\n",
              "      <td>Pnemonia</td>\n",
              "      <td>TRAIN</td>\n",
              "      <td>COVID-19</td>\n",
              "      <td>Virus</td>\n",
              "    </tr>\n",
              "    <tr>\n",
              "      <th>5222</th>\n",
              "      <td>5225</td>\n",
              "      <td>kjr-21-e24-g003-l-a.jpg</td>\n",
              "      <td>Pnemonia</td>\n",
              "      <td>TRAIN</td>\n",
              "      <td>COVID-19</td>\n",
              "      <td>Virus</td>\n",
              "    </tr>\n",
              "    <tr>\n",
              "      <th>5223</th>\n",
              "      <td>5228</td>\n",
              "      <td>kjr-21-e24-g002-l-a.jpg</td>\n",
              "      <td>Pnemonia</td>\n",
              "      <td>TRAIN</td>\n",
              "      <td>COVID-19</td>\n",
              "      <td>Virus</td>\n",
              "    </tr>\n",
              "    <tr>\n",
              "      <th>5224</th>\n",
              "      <td>5231</td>\n",
              "      <td>kjr-21-e24-g001-l-a.jpg</td>\n",
              "      <td>Pnemonia</td>\n",
              "      <td>TRAIN</td>\n",
              "      <td>COVID-19</td>\n",
              "      <td>Virus</td>\n",
              "    </tr>\n",
              "    <tr>\n",
              "      <th>5225</th>\n",
              "      <td>5234</td>\n",
              "      <td>jkms-35-e79-g001-l-c.jpg</td>\n",
              "      <td>Pnemonia</td>\n",
              "      <td>TRAIN</td>\n",
              "      <td>COVID-19</td>\n",
              "      <td>Virus</td>\n",
              "    </tr>\n",
              "    <tr>\n",
              "      <th>5226</th>\n",
              "      <td>5235</td>\n",
              "      <td>jkms-35-e79-g001-l-b.jpg</td>\n",
              "      <td>Pnemonia</td>\n",
              "      <td>TRAIN</td>\n",
              "      <td>COVID-19</td>\n",
              "      <td>Virus</td>\n",
              "    </tr>\n",
              "    <tr>\n",
              "      <th>5227</th>\n",
              "      <td>5236</td>\n",
              "      <td>jkms-35-e79-g001-l-a.jpg</td>\n",
              "      <td>Pnemonia</td>\n",
              "      <td>TRAIN</td>\n",
              "      <td>COVID-19</td>\n",
              "      <td>Virus</td>\n",
              "    </tr>\n",
              "    <tr>\n",
              "      <th>5228</th>\n",
              "      <td>5237</td>\n",
              "      <td>gr1_lrg-b.jpg</td>\n",
              "      <td>Pnemonia</td>\n",
              "      <td>TRAIN</td>\n",
              "      <td>COVID-19</td>\n",
              "      <td>Virus</td>\n",
              "    </tr>\n",
              "    <tr>\n",
              "      <th>5229</th>\n",
              "      <td>5238</td>\n",
              "      <td>gr1_lrg-a.jpg</td>\n",
              "      <td>Pnemonia</td>\n",
              "      <td>TRAIN</td>\n",
              "      <td>COVID-19</td>\n",
              "      <td>Virus</td>\n",
              "    </tr>\n",
              "    <tr>\n",
              "      <th>5230</th>\n",
              "      <td>5239</td>\n",
              "      <td>all14238-fig-0001-m-b.jpg</td>\n",
              "      <td>Pnemonia</td>\n",
              "      <td>TRAIN</td>\n",
              "      <td>COVID-19</td>\n",
              "      <td>Virus</td>\n",
              "    </tr>\n",
              "  </tbody>\n",
              "</table>\n",
              "</div>"
            ],
            "text/plain": [
              "      Unnamed: 0  ... Label_1_Virus_category\n",
              "5221        5221  ...                  Virus\n",
              "5222        5225  ...                  Virus\n",
              "5223        5228  ...                  Virus\n",
              "5224        5231  ...                  Virus\n",
              "5225        5234  ...                  Virus\n",
              "5226        5235  ...                  Virus\n",
              "5227        5236  ...                  Virus\n",
              "5228        5237  ...                  Virus\n",
              "5229        5238  ...                  Virus\n",
              "5230        5239  ...                  Virus\n",
              "\n",
              "[10 rows x 6 columns]"
            ]
          },
          "metadata": {
            "tags": []
          },
          "execution_count": 61
        }
      ]
    },
    {
      "cell_type": "code",
      "metadata": {
        "id": "Wp3qlMlsUuR2",
        "colab_type": "code",
        "outputId": "d67d61b6-b914-4229-d6d4-3d913ec64ca2",
        "colab": {
          "base_uri": "https://localhost:8080/",
          "height": 35
        }
      },
      "source": [
        "covid.shape"
      ],
      "execution_count": 0,
      "outputs": [
        {
          "output_type": "execute_result",
          "data": {
            "text/plain": [
              "(58, 6)"
            ]
          },
          "metadata": {
            "tags": []
          },
          "execution_count": 11
        }
      ]
    },
    {
      "cell_type": "code",
      "metadata": {
        "id": "KFpZtku1U7UQ",
        "colab_type": "code",
        "outputId": "97a3a5c4-d639-46a6-e438-fad6eea60158",
        "colab": {
          "base_uri": "https://localhost:8080/",
          "height": 206
        }
      },
      "source": [
        "norm = train[train.Label == 'Normal']\n",
        "norm.head()"
      ],
      "execution_count": 0,
      "outputs": [
        {
          "output_type": "execute_result",
          "data": {
            "text/html": [
              "<div>\n",
              "<style scoped>\n",
              "    .dataframe tbody tr th:only-of-type {\n",
              "        vertical-align: middle;\n",
              "    }\n",
              "\n",
              "    .dataframe tbody tr th {\n",
              "        vertical-align: top;\n",
              "    }\n",
              "\n",
              "    .dataframe thead th {\n",
              "        text-align: right;\n",
              "    }\n",
              "</style>\n",
              "<table border=\"1\" class=\"dataframe\">\n",
              "  <thead>\n",
              "    <tr style=\"text-align: right;\">\n",
              "      <th></th>\n",
              "      <th>Unnamed: 0</th>\n",
              "      <th>X_ray_image_name</th>\n",
              "      <th>Label</th>\n",
              "      <th>Dataset_type</th>\n",
              "      <th>Label_2_Virus_category</th>\n",
              "      <th>Label_1_Virus_category</th>\n",
              "    </tr>\n",
              "  </thead>\n",
              "  <tbody>\n",
              "    <tr>\n",
              "      <th>0</th>\n",
              "      <td>0</td>\n",
              "      <td>IM-0128-0001.jpeg</td>\n",
              "      <td>Normal</td>\n",
              "      <td>TRAIN</td>\n",
              "      <td>NaN</td>\n",
              "      <td>NaN</td>\n",
              "    </tr>\n",
              "    <tr>\n",
              "      <th>1</th>\n",
              "      <td>1</td>\n",
              "      <td>IM-0127-0001.jpeg</td>\n",
              "      <td>Normal</td>\n",
              "      <td>TRAIN</td>\n",
              "      <td>NaN</td>\n",
              "      <td>NaN</td>\n",
              "    </tr>\n",
              "    <tr>\n",
              "      <th>2</th>\n",
              "      <td>2</td>\n",
              "      <td>IM-0125-0001.jpeg</td>\n",
              "      <td>Normal</td>\n",
              "      <td>TRAIN</td>\n",
              "      <td>NaN</td>\n",
              "      <td>NaN</td>\n",
              "    </tr>\n",
              "    <tr>\n",
              "      <th>3</th>\n",
              "      <td>3</td>\n",
              "      <td>IM-0122-0001.jpeg</td>\n",
              "      <td>Normal</td>\n",
              "      <td>TRAIN</td>\n",
              "      <td>NaN</td>\n",
              "      <td>NaN</td>\n",
              "    </tr>\n",
              "    <tr>\n",
              "      <th>4</th>\n",
              "      <td>4</td>\n",
              "      <td>IM-0119-0001.jpeg</td>\n",
              "      <td>Normal</td>\n",
              "      <td>TRAIN</td>\n",
              "      <td>NaN</td>\n",
              "      <td>NaN</td>\n",
              "    </tr>\n",
              "  </tbody>\n",
              "</table>\n",
              "</div>"
            ],
            "text/plain": [
              "   Unnamed: 0   X_ray_image_name  ... Label_2_Virus_category Label_1_Virus_category\n",
              "0           0  IM-0128-0001.jpeg  ...                    NaN                    NaN\n",
              "1           1  IM-0127-0001.jpeg  ...                    NaN                    NaN\n",
              "2           2  IM-0125-0001.jpeg  ...                    NaN                    NaN\n",
              "3           3  IM-0122-0001.jpeg  ...                    NaN                    NaN\n",
              "4           4  IM-0119-0001.jpeg  ...                    NaN                    NaN\n",
              "\n",
              "[5 rows x 6 columns]"
            ]
          },
          "metadata": {
            "tags": []
          },
          "execution_count": 12
        }
      ]
    },
    {
      "cell_type": "code",
      "metadata": {
        "id": "Jov4E6cIU9Xy",
        "colab_type": "code",
        "outputId": "423b8a68-5810-48c6-ddfb-b33c0a066be7",
        "colab": {
          "base_uri": "https://localhost:8080/",
          "height": 35
        }
      },
      "source": [
        "norm.shape"
      ],
      "execution_count": 0,
      "outputs": [
        {
          "output_type": "execute_result",
          "data": {
            "text/plain": [
              "(1342, 6)"
            ]
          },
          "metadata": {
            "tags": []
          },
          "execution_count": 13
        }
      ]
    },
    {
      "cell_type": "code",
      "metadata": {
        "id": "84bB3seHV2b7",
        "colab_type": "code",
        "outputId": "d92132dd-a933-48e6-a15b-bcfd52e4480b",
        "colab": {
          "base_uri": "https://localhost:8080/",
          "height": 35
        }
      },
      "source": [
        "testnorm = test[test.Label == 'Normal']\n",
        "testnorm.shape"
      ],
      "execution_count": 0,
      "outputs": [
        {
          "output_type": "execute_result",
          "data": {
            "text/plain": [
              "(234, 6)"
            ]
          },
          "metadata": {
            "tags": []
          },
          "execution_count": 19
        }
      ]
    },
    {
      "cell_type": "code",
      "metadata": {
        "id": "2jjS1v76VNB9",
        "colab_type": "code",
        "outputId": "4fd1c6ad-92f1-494c-aed5-d0a8963478b0",
        "colab": {
          "base_uri": "https://localhost:8080/",
          "height": 206
        }
      },
      "source": [
        "test = meta[meta.Dataset_type == 'TEST']\n",
        "test = test.fillna(0)\n",
        "test.head()"
      ],
      "execution_count": 0,
      "outputs": [
        {
          "output_type": "execute_result",
          "data": {
            "text/html": [
              "<div>\n",
              "<style scoped>\n",
              "    .dataframe tbody tr th:only-of-type {\n",
              "        vertical-align: middle;\n",
              "    }\n",
              "\n",
              "    .dataframe tbody tr th {\n",
              "        vertical-align: top;\n",
              "    }\n",
              "\n",
              "    .dataframe thead th {\n",
              "        text-align: right;\n",
              "    }\n",
              "</style>\n",
              "<table border=\"1\" class=\"dataframe\">\n",
              "  <thead>\n",
              "    <tr style=\"text-align: right;\">\n",
              "      <th></th>\n",
              "      <th>Unnamed: 0</th>\n",
              "      <th>X_ray_image_name</th>\n",
              "      <th>Label</th>\n",
              "      <th>Dataset_type</th>\n",
              "      <th>Label_2_Virus_category</th>\n",
              "      <th>Label_1_Virus_category</th>\n",
              "    </tr>\n",
              "  </thead>\n",
              "  <tbody>\n",
              "    <tr>\n",
              "      <th>5286</th>\n",
              "      <td>5309</td>\n",
              "      <td>IM-0021-0001.jpeg</td>\n",
              "      <td>Normal</td>\n",
              "      <td>TEST</td>\n",
              "      <td>0</td>\n",
              "      <td>0</td>\n",
              "    </tr>\n",
              "    <tr>\n",
              "      <th>5287</th>\n",
              "      <td>5310</td>\n",
              "      <td>IM-0019-0001.jpeg</td>\n",
              "      <td>Normal</td>\n",
              "      <td>TEST</td>\n",
              "      <td>0</td>\n",
              "      <td>0</td>\n",
              "    </tr>\n",
              "    <tr>\n",
              "      <th>5288</th>\n",
              "      <td>5311</td>\n",
              "      <td>IM-0017-0001.jpeg</td>\n",
              "      <td>Normal</td>\n",
              "      <td>TEST</td>\n",
              "      <td>0</td>\n",
              "      <td>0</td>\n",
              "    </tr>\n",
              "    <tr>\n",
              "      <th>5289</th>\n",
              "      <td>5312</td>\n",
              "      <td>IM-0016-0001.jpeg</td>\n",
              "      <td>Normal</td>\n",
              "      <td>TEST</td>\n",
              "      <td>0</td>\n",
              "      <td>0</td>\n",
              "    </tr>\n",
              "    <tr>\n",
              "      <th>5290</th>\n",
              "      <td>5313</td>\n",
              "      <td>IM-0015-0001.jpeg</td>\n",
              "      <td>Normal</td>\n",
              "      <td>TEST</td>\n",
              "      <td>0</td>\n",
              "      <td>0</td>\n",
              "    </tr>\n",
              "  </tbody>\n",
              "</table>\n",
              "</div>"
            ],
            "text/plain": [
              "      Unnamed: 0  ... Label_1_Virus_category\n",
              "5286        5309  ...                      0\n",
              "5287        5310  ...                      0\n",
              "5288        5311  ...                      0\n",
              "5289        5312  ...                      0\n",
              "5290        5313  ...                      0\n",
              "\n",
              "[5 rows x 6 columns]"
            ]
          },
          "metadata": {
            "tags": []
          },
          "execution_count": 14
        }
      ]
    },
    {
      "cell_type": "code",
      "metadata": {
        "id": "DV3LzSwCVQLD",
        "colab_type": "code",
        "outputId": "3d54d607-495a-4414-a31d-357fad307867",
        "colab": {
          "base_uri": "https://localhost:8080/",
          "height": 35
        }
      },
      "source": [
        "testpnem = test[test.Label =='Pnemonia']\n",
        "testpnem.shape"
      ],
      "execution_count": 0,
      "outputs": [
        {
          "output_type": "execute_result",
          "data": {
            "text/plain": [
              "(390, 6)"
            ]
          },
          "metadata": {
            "tags": []
          },
          "execution_count": 15
        }
      ]
    },
    {
      "cell_type": "code",
      "metadata": {
        "id": "Kh9WxSboVS3k",
        "colab_type": "code",
        "outputId": "5f34f2e0-8221-4212-e1cd-9ad11585c5d4",
        "colab": {
          "base_uri": "https://localhost:8080/",
          "height": 35
        }
      },
      "source": [
        "bac_testpnem = testpnem[testpnem.Label_1_Virus_category == 'bacteria']\n",
        "bac_testpnem.shape"
      ],
      "execution_count": 0,
      "outputs": [
        {
          "output_type": "execute_result",
          "data": {
            "text/plain": [
              "(242, 6)"
            ]
          },
          "metadata": {
            "tags": []
          },
          "execution_count": 16
        }
      ]
    },
    {
      "cell_type": "code",
      "metadata": {
        "id": "aTyq3JSfVWoj",
        "colab_type": "code",
        "outputId": "bda47898-344d-475f-cb7c-2c11b4cd689d",
        "colab": {
          "base_uri": "https://localhost:8080/",
          "height": 35
        }
      },
      "source": [
        "viral_testpnem = testpnem[testpnem.Label_1_Virus_category == 'Virus']\n",
        "viral_testpnem.shape"
      ],
      "execution_count": 0,
      "outputs": [
        {
          "output_type": "execute_result",
          "data": {
            "text/plain": [
              "(148, 6)"
            ]
          },
          "metadata": {
            "tags": []
          },
          "execution_count": 17
        }
      ]
    },
    {
      "cell_type": "code",
      "metadata": {
        "id": "qrGfBA2-VbxW",
        "colab_type": "code",
        "colab": {}
      },
      "source": [
        "testnorm  = testnorm.sample(50, replace=True)\n",
        "testcovid = covid.sample(50, replace=True) "
      ],
      "execution_count": 0,
      "outputs": []
    },
    {
      "cell_type": "code",
      "metadata": {
        "id": "BrBMB5c2Vu1Z",
        "colab_type": "code",
        "colab": {}
      },
      "source": [
        "TESTDATA_DIR = \"/content/gdrive/My Drive/data/corona/test/\""
      ],
      "execution_count": 0,
      "outputs": []
    },
    {
      "cell_type": "code",
      "metadata": {
        "id": "vc2aYR9IVw5s",
        "colab_type": "code",
        "outputId": "c0a1f334-3a8e-4dac-f91c-4b3c4cc406c4",
        "colab": {
          "base_uri": "https://localhost:8080/",
          "height": 35
        }
      },
      "source": [
        "print(TESTDATA_DIR)"
      ],
      "execution_count": 0,
      "outputs": [
        {
          "output_type": "stream",
          "text": [
            "/content/gdrive/My Drive/data/corona/test/\n"
          ],
          "name": "stdout"
        }
      ]
    },
    {
      "cell_type": "code",
      "metadata": {
        "id": "HEQwpKMpWCZT",
        "colab_type": "code",
        "colab": {}
      },
      "source": [
        "import cv2\n",
        "from PIL import Image\n",
        "from cv2 import imshow\n"
      ],
      "execution_count": 0,
      "outputs": []
    },
    {
      "cell_type": "code",
      "metadata": {
        "id": "RQPo9zTpV9Vp",
        "colab_type": "code",
        "colab": {}
      },
      "source": [
        "X_test = []\n",
        "Y_test = []\n",
        "\n",
        "num = 0\n",
        "\n",
        "for imgname in testnorm['X_ray_image_name']:\n",
        "  path = TESTDATA_DIR + str(imgname)\n",
        " \n",
        "  img = cv2.imread(path)\n",
        "   \n",
        "  rimg = cv2.resize(img, (400, 400))\n",
        "  \n",
        "  rimg = rimg / 255.0\n",
        "  \n",
        "  X_test.insert(0, rimg)\n",
        "  Y_test.insert(0, 0)\n",
        "  \n",
        "  print(num)\n",
        "  print(path)\n",
        "  type(rimg)\n",
        "  len(rimg)\n",
        "  num += 1\n",
        "\n",
        "  if(num>49):\n",
        "    break"
      ],
      "execution_count": 0,
      "outputs": []
    },
    {
      "cell_type": "code",
      "metadata": {
        "id": "1zSFJ5MXWMCh",
        "colab_type": "code",
        "colab": {}
      },
      "source": [
        "num = 0\n",
        "\n",
        "for imgname in testcovid['X_ray_image_name']:\n",
        "  path = TESTDATA_DIR + str(imgname)\n",
        "  img = cv2.imread(path)\n",
        "  \n",
        "  #rimg = cv2.resize(img, (400, 400))\n",
        "    \n",
        "  rimg = rimg / 255.0\n",
        "\n",
        "  X_test.insert(0, rimg)\n",
        "  Y_test.insert(0, 1)\n",
        "  \n",
        "  print(num)\n",
        "  print(path)\n",
        "  num += 1\n",
        "\n",
        "  if(num>49):\n",
        "    break"
      ],
      "execution_count": 0,
      "outputs": []
    },
    {
      "cell_type": "code",
      "metadata": {
        "id": "E8c-WtRmZ37y",
        "colab_type": "code",
        "colab": {}
      },
      "source": [
        "IMG_W = 400\n",
        "IMG_H = 400\n",
        "CHANNELS = 3\n",
        "\n",
        "INPUT_SHAPE = (IMG_W, IMG_H, CHANNELS)\n",
        "NB_CLASSES = 2\n",
        "EPOCHS = 48\n",
        "BATCH_SIZE = 6"
      ],
      "execution_count": 0,
      "outputs": []
    },
    {
      "cell_type": "code",
      "metadata": {
        "id": "ttpT3Xc_b_Ms",
        "colab_type": "code",
        "colab": {}
      },
      "source": [
        "model = Sequential()\n",
        "model.add(Conv2D(32, (3, 3), input_shape=INPUT_SHAPE))\n",
        "model.add(Activation('relu'))\n",
        "model.add(MaxPooling2D(pool_size=(2, 2)))\n",
        "\n",
        "model.add(Conv2D(32, (3, 3)))\n",
        "model.add(Activation('relu'))\n",
        "model.add(MaxPooling2D(pool_size=(2, 2)))\n",
        "\n",
        "\n",
        "model.add(Conv2D(64,(3,3)))\n",
        "model.add(Activation(\"relu\"))\n",
        "model.add(Conv2D(250,(3,3)))\n",
        "model.add(Activation(\"relu\"))\n",
        "  \n",
        "model.add(Conv2D(128,(3,3)))\n",
        "model.add(Activation(\"relu\"))\n",
        "model.add(AvgPool2D(2,2))\n",
        "model.add(Conv2D(64,(3,3)))\n",
        "model.add(Activation(\"relu\"))\n",
        "model.add(AvgPool2D(2,2))\n",
        "\n",
        "model.add(Conv2D(256,(2,2)))\n",
        "model.add(Activation(\"relu\"))\n",
        "model.add(MaxPool2D(2,2))\n",
        "    \n",
        "model.add(Flatten())\n",
        "model.add(Dense(32))\n",
        "model.add(Dropout(0.25))\n",
        "\n",
        "#model.add(Dense(2))\n",
        "\n",
        "model.add(Dense(1))\n",
        "model.add(Activation(\"sigmoid\"))"
      ],
      "execution_count": 0,
      "outputs": []
    },
    {
      "cell_type": "code",
      "metadata": {
        "id": "CN2OhskxcBTJ",
        "colab_type": "code",
        "outputId": "0abc05bd-e68f-4c9f-cca6-8c9e92d59311",
        "colab": {
          "base_uri": "https://localhost:8080/",
          "height": 1000
        }
      },
      "source": [
        "model.summary()"
      ],
      "execution_count": 0,
      "outputs": [
        {
          "output_type": "stream",
          "text": [
            "Model: \"sequential\"\n",
            "_________________________________________________________________\n",
            "Layer (type)                 Output Shape              Param #   \n",
            "=================================================================\n",
            "conv2d (Conv2D)              (None, 398, 398, 32)      896       \n",
            "_________________________________________________________________\n",
            "activation (Activation)      (None, 398, 398, 32)      0         \n",
            "_________________________________________________________________\n",
            "max_pooling2d (MaxPooling2D) (None, 199, 199, 32)      0         \n",
            "_________________________________________________________________\n",
            "conv2d_1 (Conv2D)            (None, 197, 197, 32)      9248      \n",
            "_________________________________________________________________\n",
            "activation_1 (Activation)    (None, 197, 197, 32)      0         \n",
            "_________________________________________________________________\n",
            "max_pooling2d_1 (MaxPooling2 (None, 98, 98, 32)        0         \n",
            "_________________________________________________________________\n",
            "conv2d_2 (Conv2D)            (None, 96, 96, 64)        18496     \n",
            "_________________________________________________________________\n",
            "activation_2 (Activation)    (None, 96, 96, 64)        0         \n",
            "_________________________________________________________________\n",
            "conv2d_3 (Conv2D)            (None, 94, 94, 250)       144250    \n",
            "_________________________________________________________________\n",
            "activation_3 (Activation)    (None, 94, 94, 250)       0         \n",
            "_________________________________________________________________\n",
            "conv2d_4 (Conv2D)            (None, 92, 92, 128)       288128    \n",
            "_________________________________________________________________\n",
            "activation_4 (Activation)    (None, 92, 92, 128)       0         \n",
            "_________________________________________________________________\n",
            "average_pooling2d (AveragePo (None, 46, 46, 128)       0         \n",
            "_________________________________________________________________\n",
            "conv2d_5 (Conv2D)            (None, 44, 44, 64)        73792     \n",
            "_________________________________________________________________\n",
            "activation_5 (Activation)    (None, 44, 44, 64)        0         \n",
            "_________________________________________________________________\n",
            "average_pooling2d_1 (Average (None, 22, 22, 64)        0         \n",
            "_________________________________________________________________\n",
            "conv2d_6 (Conv2D)            (None, 21, 21, 256)       65792     \n",
            "_________________________________________________________________\n",
            "activation_6 (Activation)    (None, 21, 21, 256)       0         \n",
            "_________________________________________________________________\n",
            "max_pooling2d_2 (MaxPooling2 (None, 10, 10, 256)       0         \n",
            "_________________________________________________________________\n",
            "flatten (Flatten)            (None, 25600)             0         \n",
            "_________________________________________________________________\n",
            "dense (Dense)                (None, 32)                819232    \n",
            "_________________________________________________________________\n",
            "dropout (Dropout)            (None, 32)                0         \n",
            "_________________________________________________________________\n",
            "dense_1 (Dense)              (None, 1)                 33        \n",
            "_________________________________________________________________\n",
            "activation_7 (Activation)    (None, 1)                 0         \n",
            "=================================================================\n",
            "Total params: 1,419,867\n",
            "Trainable params: 1,419,867\n",
            "Non-trainable params: 0\n",
            "_________________________________________________________________\n"
          ],
          "name": "stdout"
        }
      ]
    },
    {
      "cell_type": "code",
      "metadata": {
        "id": "qXZUQ6_gcLkw",
        "colab_type": "code",
        "colab": {}
      },
      "source": [
        "model.load_weights('/content/gdrive/My Drive/data/coronadata/normal_viral/robustviralmodel.h5')\n"
      ],
      "execution_count": 0,
      "outputs": []
    },
    {
      "cell_type": "code",
      "metadata": {
        "id": "l2M8pyeQcOLr",
        "colab_type": "code",
        "colab": {}
      },
      "source": [
        "model.compile(optimizer='adam',\n",
        "              loss='binary_crossentropy',\n",
        "              metrics=['accuracy'])\n"
      ],
      "execution_count": 0,
      "outputs": []
    },
    {
      "cell_type": "code",
      "metadata": {
        "id": "bb9opmN_c09o",
        "colab_type": "code",
        "colab": {}
      },
      "source": [
        "DATASET_DIR = \"/content/gdrive/My Drive/data/coronadata/normal_viral/\""
      ],
      "execution_count": 0,
      "outputs": []
    },
    {
      "cell_type": "code",
      "metadata": {
        "id": "dGx4m4CScvHs",
        "colab_type": "code",
        "outputId": "80efd646-b89e-4a2a-9d6b-d9cde428a3ec",
        "colab": {
          "base_uri": "https://localhost:8080/",
          "height": 35
        }
      },
      "source": [
        "print(DATASET_DIR)"
      ],
      "execution_count": 0,
      "outputs": [
        {
          "output_type": "stream",
          "text": [
            "/content/gdrive/My Drive/data/coronadata/normal_viral/\n"
          ],
          "name": "stdout"
        }
      ]
    },
    {
      "cell_type": "code",
      "metadata": {
        "id": "6xiNTsmFc5t5",
        "colab_type": "code",
        "colab": {}
      },
      "source": [
        "train_datagen = ImageDataGenerator(\n",
        "    rescale=1./255,\n",
        "    rotation_range=40,\n",
        "    width_shift_range=0.2,\n",
        "    height_shift_range=0.2,\n",
        "    shear_range=0.2,\n",
        "    zoom_range=0.2,\n",
        "    horizontal_flip=True,\n",
        "    validation_split=0.2\n",
        "    )\n",
        "\n",
        "valid_datagen = ImageDataGenerator(rescale=1./255)\n",
        "\n",
        "test_datagen = ImageDataGenerator(rescale=1./255)\n"
      ],
      "execution_count": 0,
      "outputs": []
    },
    {
      "cell_type": "code",
      "metadata": {
        "id": "no6oKqIzc9X6",
        "colab_type": "code",
        "outputId": "de5978a0-d68f-4031-baa1-1bb6f82048c0",
        "colab": {
          "base_uri": "https://localhost:8080/",
          "height": 53
        }
      },
      "source": [
        "train_generator = train_datagen.flow_from_directory(\n",
        "    directory=DATASET_DIR + \"/train/\",\n",
        "    target_size=(IMG_W, IMG_H),\n",
        "    color_mode=\"rgb\",\n",
        "    batch_size=32,\n",
        "    class_mode=\"binary\",\n",
        "    shuffle=True,\n",
        "    seed=42,\n",
        "    subset='training'\n",
        ")\n",
        "\n",
        "valid_generator = train_datagen.flow_from_directory(\n",
        "    directory=DATASET_DIR + \"/train/\",\n",
        "    target_size=(IMG_W, IMG_H),\n",
        "    color_mode=\"rgb\",\n",
        "    batch_size=32,\n",
        "    class_mode=\"binary\",\n",
        "    shuffle=True,\n",
        "    seed=42,\n",
        "    subset='validation'\n",
        ")\n"
      ],
      "execution_count": 0,
      "outputs": [
        {
          "output_type": "stream",
          "text": [
            "Found 2080 images belonging to 2 classes.\n",
            "Found 520 images belonging to 2 classes.\n"
          ],
          "name": "stdout"
        }
      ]
    },
    {
      "cell_type": "code",
      "metadata": {
        "id": "BSv8ExnScQ5I",
        "colab_type": "code",
        "outputId": "377449df-8e72-4571-e993-8b87024930b1",
        "colab": {
          "base_uri": "https://localhost:8080/",
          "height": 35
        }
      },
      "source": [
        "history = model.fit(\n",
        "    train_generator,\n",
        "    steps_per_epoch = 32,\n",
        "    validation_data = valid_generator, \n",
        "    validation_steps = 16,\n",
        "    epochs = 1,\n",
        "    )"
      ],
      "execution_count": 0,
      "outputs": [
        {
          "output_type": "stream",
          "text": [
            "32/32 [==============================] - 1327s 41s/step - loss: 0.2405 - accuracy: 0.9199 - val_loss: 0.2148 - val_accuracy: 0.9121\n"
          ],
          "name": "stdout"
        }
      ]
    },
    {
      "cell_type": "code",
      "metadata": {
        "id": "SjFlz3j1cQ6Q",
        "colab_type": "code",
        "outputId": "e800af49-33be-41ca-daa7-b790d2ba4b9c",
        "colab": {
          "base_uri": "https://localhost:8080/",
          "height": 53
        }
      },
      "source": [
        "from sklearn.metrics import confusion_matrix\n",
        "from sklearn.metrics import classification_report\n",
        "\n",
        "import seaborn as sns\n",
        "import matplotlib.pyplot as plt\n"
      ],
      "execution_count": 0,
      "outputs": [
        {
          "output_type": "stream",
          "text": [
            "/usr/local/lib/python3.6/dist-packages/statsmodels/tools/_testing.py:19: FutureWarning: pandas.util.testing is deprecated. Use the functions in the public API at pandas.testing instead.\n",
            "  import pandas.util.testing as tm\n"
          ],
          "name": "stderr"
        }
      ]
    },
    {
      "cell_type": "code",
      "metadata": {
        "id": "86yA8MkUdzAh",
        "colab_type": "code",
        "colab": {}
      },
      "source": [
        "X_test  = np.array(X_test)\n",
        "y_test  = np.array(Y_test)"
      ],
      "execution_count": 0,
      "outputs": []
    },
    {
      "cell_type": "code",
      "metadata": {
        "id": "G1sivcdYjgdR",
        "colab_type": "code",
        "outputId": "aca60b8e-bb62-423d-a4c9-269936731231",
        "colab": {
          "base_uri": "https://localhost:8080/",
          "height": 35
        }
      },
      "source": [
        "len(X_test)"
      ],
      "execution_count": 0,
      "outputs": [
        {
          "output_type": "execute_result",
          "data": {
            "text/plain": [
              "100"
            ]
          },
          "metadata": {
            "tags": []
          },
          "execution_count": 58
        }
      ]
    },
    {
      "cell_type": "code",
      "metadata": {
        "id": "sTznqMxLjjfu",
        "colab_type": "code",
        "outputId": "8de6dcab-4298-499b-c644-41f73973294d",
        "colab": {
          "base_uri": "https://localhost:8080/",
          "height": 35
        }
      },
      "source": [
        "len(y_test)"
      ],
      "execution_count": 0,
      "outputs": [
        {
          "output_type": "execute_result",
          "data": {
            "text/plain": [
              "100"
            ]
          },
          "metadata": {
            "tags": []
          },
          "execution_count": 59
        }
      ]
    },
    {
      "cell_type": "code",
      "metadata": {
        "id": "3mNRtwsnjrdq",
        "colab_type": "code",
        "outputId": "c5a87efc-b889-45b5-dd1a-b432db77e171",
        "colab": {
          "base_uri": "https://localhost:8080/",
          "height": 72
        }
      },
      "source": [
        "print(y_test)"
      ],
      "execution_count": 0,
      "outputs": [
        {
          "output_type": "stream",
          "text": [
            "[1 1 1 1 1 1 1 1 1 1 1 1 1 1 1 1 1 1 1 1 1 1 1 1 1 1 1 1 1 1 1 1 1 1 1 1 1\n",
            " 1 1 1 1 1 1 1 1 1 1 1 1 1 0 0 0 0 0 0 0 0 0 0 0 0 0 0 0 0 0 0 0 0 0 0 0 0\n",
            " 0 0 0 0 0 0 0 0 0 0 0 0 0 0 0 0 0 0 0 0 0 0 0 0 0 0]\n"
          ],
          "name": "stdout"
        }
      ]
    },
    {
      "cell_type": "code",
      "metadata": {
        "id": "wrTXKx2Xd2h6",
        "colab_type": "code",
        "outputId": "521368ef-648b-4a74-e384-2e9049e1122e",
        "colab": {
          "base_uri": "https://localhost:8080/",
          "height": 182
        }
      },
      "source": [
        "model.predict_classes(X_test).flatten()\n"
      ],
      "execution_count": 0,
      "outputs": [
        {
          "output_type": "stream",
          "text": [
            "WARNING:tensorflow:From <ipython-input-53-19c557c41139>:1: Sequential.predict_classes (from tensorflow.python.keras.engine.sequential) is deprecated and will be removed after 2021-01-01.\n",
            "Instructions for updating:\n",
            "Please use instead:* `np.argmax(model.predict(x), axis=-1)`,   if your model does multi-class classification   (e.g. if it uses a `softmax` last-layer activation).* `(model.predict(x) > 0.5).astype(\"int32\")`,   if your model does binary classification   (e.g. if it uses a `sigmoid` last-layer activation).\n"
          ],
          "name": "stdout"
        },
        {
          "output_type": "execute_result",
          "data": {
            "text/plain": [
              "array([1, 1, 1, 1, 1, 1, 1, 1, 1, 1, 1, 1, 1, 1, 1, 1, 1, 1, 1, 1, 1, 1,\n",
              "       1, 1, 1, 1, 1, 1, 1, 1, 1, 1, 1, 1, 1, 1, 1, 1, 1, 1, 1, 1, 1, 1,\n",
              "       1, 1, 1, 1, 1, 1, 0, 0, 0, 1, 0, 0, 0, 1, 0, 0, 0, 0, 0, 0, 0, 0,\n",
              "       0, 0, 0, 0, 0, 0, 0, 0, 0, 0, 0, 0, 0, 0, 1, 0, 0, 0, 0, 0, 0, 0,\n",
              "       0, 0, 0, 1, 0, 0, 0, 0, 0, 0, 0, 1], dtype=int32)"
            ]
          },
          "metadata": {
            "tags": []
          },
          "execution_count": 53
        }
      ]
    },
    {
      "cell_type": "code",
      "metadata": {
        "id": "XKTLZ45Id8Zo",
        "colab_type": "code",
        "outputId": "37874828-2c4b-4d80-c56b-839c67f7957f",
        "colab": {
          "base_uri": "https://localhost:8080/",
          "height": 287
        }
      },
      "source": [
        "from sklearn.metrics import confusion_matrix\n",
        "import seaborn as sns\n",
        "import matplotlib.pyplot as plt\n",
        "cm = confusion_matrix(y_test, model.predict_classes(X_test))\n",
        "sns.heatmap(cm, cmap='Blues', annot=True)"
      ],
      "execution_count": 0,
      "outputs": [
        {
          "output_type": "execute_result",
          "data": {
            "text/plain": [
              "<matplotlib.axes._subplots.AxesSubplot at 0x7f637f9e2ef0>"
            ]
          },
          "metadata": {
            "tags": []
          },
          "execution_count": 54
        },
        {
          "output_type": "display_data",
          "data": {
            "image/png": "[encoded data removed]",
            "text/plain": [
              "<Figure size 432x288 with 2 Axes>"
            ]
          },
          "metadata": {
            "tags": [],
            "needs_background": "light"
          }
        }
      ]
    },
    {
      "cell_type": "code",
      "metadata": {
        "id": "caO0rBtqd_lH",
        "colab_type": "code",
        "outputId": "560d3514-1c78-4e95-d261-ba27da4a60f6",
        "colab": {
          "base_uri": "https://localhost:8080/",
          "height": 53
        }
      },
      "source": [
        "model.evaluate(X_test, y_test, verbose=1)"
      ],
      "execution_count": 0,
      "outputs": [
        {
          "output_type": "stream",
          "text": [
            "4/4 [==============================] - 12s 3s/step - loss: 0.1956 - accuracy: 0.9500\n"
          ],
          "name": "stdout"
        },
        {
          "output_type": "execute_result",
          "data": {
            "text/plain": [
              "[0.19559089839458466, 0.949999988079071]"
            ]
          },
          "metadata": {
            "tags": []
          },
          "execution_count": 55
        }
      ]
    },
    {
      "cell_type": "code",
      "metadata": {
        "id": "9seN_Hs0eDrS",
        "colab_type": "code",
        "outputId": "e28bd566-3e18-4bb4-97dc-32e305ab4ed3",
        "colab": {
          "base_uri": "https://localhost:8080/",
          "height": 53
        }
      },
      "source": [
        "from sklearn.metrics import roc_curve\n",
        "from sklearn.metrics import roc_auc_score\n",
        "\n",
        "# generate a no skill prediction (majority class)\n",
        "ns_probs = [0 for _ in range(len(y_test))]\n",
        "\n",
        "# predict probabilities\n",
        "lr_probs = model.predict(X_test)\n",
        "\n",
        "# keep probabilities for the positive outcome only\n",
        "lr_probs = lr_probs[:, -1]\n",
        "\n",
        "# calculate scores\n",
        "ns_auc = roc_auc_score(y_test, ns_probs)\n",
        "lr_auc = roc_auc_score(y_test, lr_probs)\n",
        "# summarize scores\n",
        "print('No Skill: ROC AUC=%.3f' % (ns_auc))\n",
        "print('Logistic: ROC AUC=%.3f' % (lr_auc))\n"
      ],
      "execution_count": 0,
      "outputs": [
        {
          "output_type": "stream",
          "text": [
            "No Skill: ROC AUC=0.500\n",
            "Logistic: ROC AUC=1.000\n"
          ],
          "name": "stdout"
        }
      ]
    },
    {
      "cell_type": "code",
      "metadata": {
        "id": "HlRc1uCTeGJ5",
        "colab_type": "code",
        "outputId": "1eaa8c3f-8dff-4f97-d1fb-e3de93da6b0a",
        "colab": {
          "base_uri": "https://localhost:8080/",
          "height": 279
        }
      },
      "source": [
        "from matplotlib import pyplot\n",
        "\n",
        "# calculate roc curves\n",
        "ns_fpr, ns_tpr, _ = roc_curve(y_test, ns_probs)\n",
        "lr_fpr, lr_tpr, _ = roc_curve(y_test, lr_probs)\n",
        "# plot the roc curve for the model\n",
        "pyplot.plot(ns_fpr, ns_tpr, linestyle='--', label='No Skill')\n",
        "pyplot.plot(lr_fpr, lr_tpr, marker='.', label='Logistic')\n",
        "# axis labels\n",
        "pyplot.xlabel('False Positive Rate')\n",
        "pyplot.ylabel('True Positive Rate')\n",
        "# show the legend\n",
        "pyplot.legend()\n",
        "# show the plot\n",
        "pyplot.show()"
      ],
      "execution_count": 0,
      "outputs": [
        {
          "output_type": "display_data",
          "data": {
            "image/png": "[encoded data removed]",
            "text/plain": [
              "<Figure size 432x288 with 1 Axes>"
            ]
          },
          "metadata": {
            "tags": [],
            "needs_background": "light"
          }
        }
      ]
    }
  ]
}