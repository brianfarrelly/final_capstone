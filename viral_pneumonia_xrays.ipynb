{
  "nbformat": 4,
  "nbformat_minor": 0,
  "metadata": {
    "kernelspec": {
      "display_name": "Python 3",
      "language": "python",
      "name": "python3"
    },
    "language_info": {
      "codemirror_mode": {
        "name": "ipython",
        "version": 3
      },
      "file_extension": ".py",
      "mimetype": "text/x-python",
      "name": "python",
      "nbconvert_exporter": "python",
      "pygments_lexer": "ipython3",
      "version": "3.6.6"
    },
    "colab": {
      "name": "viral_pneumonia_xrays.ipynb",
      "provenance": [],
      "collapsed_sections": [],
      "machine_shape": "hm",
      "include_colab_link": true
    },
    "accelerator": "GPU"
  },
  "cells": [
    {
      "cell_type": "markdown",
      "metadata": {
        "id": "view-in-github",
        "colab_type": "text"
      },
      "source": [
        "<a href=\"https://colab.research.google.com/github/brianfarrelly/final_capstone/blob/master/viral_pneumonia_xrays.ipynb\" target=\"_parent\"><img src=\"https://colab.research.google.com/assets/colab-badge.svg\" alt=\"Open In Colab\"/></a>"
      ]
    },
    {
      "cell_type": "code",
      "metadata": {
        "_cell_guid": "b1076dfc-b9ad-4769-8c92-a6c4dae69d19",
        "_uuid": "8f2839f25d086af736a60e9eeb907d3b93b6e0e5",
        "id": "5pggbN2egRnC",
        "colab_type": "code",
        "colab": {}
      },
      "source": [
        "import os\n",
        "import numpy as np\n",
        "import pandas as pd\n",
        "\n",
        "from google.colab import drive\n",
        "\n",
        "\n",
        "import matplotlib.pyplot as plt\n",
        "%matplotlib inline"
      ],
      "execution_count": 0,
      "outputs": []
    },
    {
      "cell_type": "code",
      "metadata": {
        "id": "IlXTKOuqIH-b",
        "colab_type": "code",
        "colab": {}
      },
      "source": [
        "import tensorflow as tf\n",
        "from tensorflow import keras\n",
        "from tensorflow.keras import layers\n",
        "from tensorflow.keras.models import Sequential, Model\n",
        "from tensorflow.keras.preprocessing.image import ImageDataGenerator,load_img, img_to_array\n",
        "from tensorflow.keras.layers import Conv2D, MaxPooling2D,GlobalAveragePooling2D\n",
        "from tensorflow.keras.layers import Activation, Dropout, BatchNormalization, Flatten, Dense, AvgPool2D,MaxPool2D\n",
        "from tensorflow.keras.models import Sequential, Model\n",
        "from tensorflow.keras.applications.vgg16 import VGG16, preprocess_input\n",
        "from tensorflow.keras.optimizers import Adam, SGD, RMSprop\n"
      ],
      "execution_count": 0,
      "outputs": []
    },
    {
      "cell_type": "code",
      "metadata": {
        "id": "gK0jvntfIZjz",
        "colab_type": "code",
        "outputId": "7b9af1a8-5803-463c-fc41-e10da6bb4253",
        "colab": {
          "base_uri": "https://localhost:8080/",
          "height": 35
        }
      },
      "source": [
        "print(tf.__version__)"
      ],
      "execution_count": 42,
      "outputs": [
        {
          "output_type": "stream",
          "text": [
            "2.2.0\n"
          ],
          "name": "stdout"
        }
      ]
    },
    {
      "cell_type": "code",
      "metadata": {
        "id": "7WLizcDshD3T",
        "colab_type": "code",
        "outputId": "406185b6-d782-4a01-d37d-cb280a2883bf",
        "colab": {
          "base_uri": "https://localhost:8080/",
          "height": 35
        }
      },
      "source": [
        "drive.mount('/content/gdrive',force_remount=True)"
      ],
      "execution_count": 43,
      "outputs": [
        {
          "output_type": "stream",
          "text": [
            "Mounted at /content/gdrive\n"
          ],
          "name": "stdout"
        }
      ]
    },
    {
      "cell_type": "code",
      "metadata": {
        "id": "f1qh0s4jgRnK",
        "colab_type": "code",
        "colab": {}
      },
      "source": [
        "DATASET_DIR = \"/content/gdrive/My Drive/data/coronadata/normal_viral/\""
      ],
      "execution_count": 0,
      "outputs": []
    },
    {
      "cell_type": "code",
      "metadata": {
        "id": "oRoJQmdWgRnW",
        "colab_type": "code",
        "outputId": "94c9d5af-7ead-4f98-c04a-5ae0007545a0",
        "colab": {
          "base_uri": "https://localhost:8080/",
          "height": 35
        }
      },
      "source": [
        "os.listdir(DATASET_DIR)\n"
      ],
      "execution_count": 45,
      "outputs": [
        {
          "output_type": "execute_result",
          "data": {
            "text/plain": [
              "['train', 'test', 'viralmodel.h5', 'tfviralmodel.h5']"
            ]
          },
          "metadata": {
            "tags": []
          },
          "execution_count": 45
        }
      ]
    },
    {
      "cell_type": "code",
      "metadata": {
        "id": "GZBocuAagRnb",
        "colab_type": "code",
        "outputId": "af061a25-eebb-4515-ac59-7b9d815b916a",
        "colab": {
          "base_uri": "https://localhost:8080/",
          "height": 588
        }
      },
      "source": [
        "import glob\n",
        "import matplotlib.pyplot as plt\n",
        "import matplotlib.image as mpimg\n",
        "%matplotlib inline\n",
        "\n",
        "normal_images = []\n",
        "for img_path in glob.glob(DATASET_DIR + '/test/normal/*'):\n",
        "    normal_images.append(mpimg.imread(img_path))\n",
        "    break\n",
        "\n",
        "fig = plt.figure()\n",
        "fig.suptitle('normal')\n",
        "plt.imshow(normal_images[0], cmap='gray') \n",
        "\n",
        "covid_images = []\n",
        "for img_path in glob.glob(DATASET_DIR + '/test/viral/*'):\n",
        "    covid_images.append(mpimg.imread(img_path))\n",
        "    break\n",
        "\n",
        "fig = plt.figure()\n",
        "fig.suptitle('viral pneumonia')\n",
        "plt.imshow(covid_images[0], cmap='gray') "
      ],
      "execution_count": 46,
      "outputs": [
        {
          "output_type": "execute_result",
          "data": {
            "text/plain": [
              "<matplotlib.image.AxesImage at 0x7f68f136e908>"
            ]
          },
          "metadata": {
            "tags": []
          },
          "execution_count": 46
        },
        {
          "output_type": "display_data",
          "data": {
            "image/png": "[encoded data removed]",
            "text/plain": [
              "<Figure size 432x288 with 1 Axes>"
            ]
          },
          "metadata": {
            "tags": [],
            "needs_background": "light"
          }
        },
        {
          "output_type": "display_data",
          "data": {
            "image/png": "[encoded data removed]",
            "text/plain": [
              "<Figure size 432x288 with 1 Axes>"
            ]
          },
          "metadata": {
            "tags": [],
            "needs_background": "light"
          }
        }
      ]
    },
    {
      "cell_type": "code",
      "metadata": {
        "id": "vvMzxaQUgRnl",
        "colab_type": "code",
        "colab": {}
      },
      "source": [
        "IMG_W = 400\n",
        "IMG_H = 400\n",
        "CHANNELS = 3\n",
        "\n",
        "INPUT_SHAPE = (IMG_W, IMG_H, CHANNELS)\n",
        "NB_CLASSES = 2\n",
        "EPOCHS = 48\n",
        "BATCH_SIZE = 6"
      ],
      "execution_count": 0,
      "outputs": []
    },
    {
      "cell_type": "code",
      "metadata": {
        "id": "j2576WqbgRnq",
        "colab_type": "code",
        "colab": {}
      },
      "source": [
        "model = Sequential()\n",
        "model.add(Conv2D(32, (3, 3), input_shape=INPUT_SHAPE))\n",
        "model.add(Activation('relu'))\n",
        "model.add(MaxPooling2D(pool_size=(2, 2)))\n",
        "\n",
        "model.add(Conv2D(32, (3, 3)))\n",
        "model.add(Activation('relu'))\n",
        "model.add(MaxPooling2D(pool_size=(2, 2)))\n",
        "\n",
        "\n",
        "model.add(Conv2D(64,(3,3)))\n",
        "model.add(Activation(\"relu\"))\n",
        "model.add(Conv2D(250,(3,3)))\n",
        "model.add(Activation(\"relu\"))\n",
        "  \n",
        "model.add(Conv2D(128,(3,3)))\n",
        "model.add(Activation(\"relu\"))\n",
        "model.add(AvgPool2D(2,2))\n",
        "model.add(Conv2D(64,(3,3)))\n",
        "model.add(Activation(\"relu\"))\n",
        "model.add(AvgPool2D(2,2))\n",
        "\n",
        "model.add(Conv2D(256,(2,2)))\n",
        "model.add(Activation(\"relu\"))\n",
        "model.add(MaxPool2D(2,2))\n",
        "    \n",
        "model.add(Flatten())\n",
        "model.add(Dense(32))\n",
        "model.add(Dropout(0.25))\n",
        "\n",
        "model.add(Dense(2))\n",
        "\n",
        "#model.add(Dense(1))\n",
        "#model.add(Activation(\"sigmoid\"))"
      ],
      "execution_count": 0,
      "outputs": []
    },
    {
      "cell_type": "code",
      "metadata": {
        "id": "iC4u5drFgRnw",
        "colab_type": "code",
        "outputId": "1a141391-bf95-46d1-9928-623e2405e8fa",
        "colab": {
          "base_uri": "https://localhost:8080/",
          "height": 1000
        }
      },
      "source": [
        "model.summary()"
      ],
      "execution_count": 49,
      "outputs": [
        {
          "output_type": "stream",
          "text": [
            "Model: \"sequential_4\"\n",
            "_________________________________________________________________\n",
            "Layer (type)                 Output Shape              Param #   \n",
            "=================================================================\n",
            "conv2d_28 (Conv2D)           (None, 398, 398, 32)      896       \n",
            "_________________________________________________________________\n",
            "activation_28 (Activation)   (None, 398, 398, 32)      0         \n",
            "_________________________________________________________________\n",
            "max_pooling2d_12 (MaxPooling (None, 199, 199, 32)      0         \n",
            "_________________________________________________________________\n",
            "conv2d_29 (Conv2D)           (None, 197, 197, 32)      9248      \n",
            "_________________________________________________________________\n",
            "activation_29 (Activation)   (None, 197, 197, 32)      0         \n",
            "_________________________________________________________________\n",
            "max_pooling2d_13 (MaxPooling (None, 98, 98, 32)        0         \n",
            "_________________________________________________________________\n",
            "conv2d_30 (Conv2D)           (None, 96, 96, 64)        18496     \n",
            "_________________________________________________________________\n",
            "activation_30 (Activation)   (None, 96, 96, 64)        0         \n",
            "_________________________________________________________________\n",
            "conv2d_31 (Conv2D)           (None, 94, 94, 250)       144250    \n",
            "_________________________________________________________________\n",
            "activation_31 (Activation)   (None, 94, 94, 250)       0         \n",
            "_________________________________________________________________\n",
            "conv2d_32 (Conv2D)           (None, 92, 92, 128)       288128    \n",
            "_________________________________________________________________\n",
            "activation_32 (Activation)   (None, 92, 92, 128)       0         \n",
            "_________________________________________________________________\n",
            "average_pooling2d_8 (Average (None, 46, 46, 128)       0         \n",
            "_________________________________________________________________\n",
            "conv2d_33 (Conv2D)           (None, 44, 44, 64)        73792     \n",
            "_________________________________________________________________\n",
            "activation_33 (Activation)   (None, 44, 44, 64)        0         \n",
            "_________________________________________________________________\n",
            "average_pooling2d_9 (Average (None, 22, 22, 64)        0         \n",
            "_________________________________________________________________\n",
            "conv2d_34 (Conv2D)           (None, 21, 21, 256)       65792     \n",
            "_________________________________________________________________\n",
            "activation_34 (Activation)   (None, 21, 21, 256)       0         \n",
            "_________________________________________________________________\n",
            "max_pooling2d_14 (MaxPooling (None, 10, 10, 256)       0         \n",
            "_________________________________________________________________\n",
            "flatten_4 (Flatten)          (None, 25600)             0         \n",
            "_________________________________________________________________\n",
            "dense_16 (Dense)             (None, 32)                819232    \n",
            "_________________________________________________________________\n",
            "dropout_4 (Dropout)          (None, 32)                0         \n",
            "_________________________________________________________________\n",
            "dense_17 (Dense)             (None, 2)                 66        \n",
            "=================================================================\n",
            "Total params: 1,419,900\n",
            "Trainable params: 1,419,900\n",
            "Non-trainable params: 0\n",
            "_________________________________________________________________\n"
          ],
          "name": "stdout"
        }
      ]
    },
    {
      "cell_type": "code",
      "metadata": {
        "id": "8F2mE3EFlBY1",
        "colab_type": "code",
        "colab": {}
      },
      "source": [
        "model.compile(optimizer='adam',\n",
        "              loss=tf.keras.losses.SparseCategoricalCrossentropy(from_logits=True),\n",
        "              metrics=['accuracy', 'mae', 'sparse_categorical_accuracy'])\n"
      ],
      "execution_count": 0,
      "outputs": []
    },
    {
      "cell_type": "code",
      "metadata": {
        "id": "x_IMBLaqUugH",
        "colab_type": "code",
        "colab": {}
      },
      "source": [
        "DATASET_DIR = \"/content/gdrive/My Drive/data/coronadata/normal_viral/\""
      ],
      "execution_count": 0,
      "outputs": []
    },
    {
      "cell_type": "code",
      "metadata": {
        "id": "1GJCN83HlGTY",
        "colab_type": "code",
        "outputId": "03daedf4-274c-41ca-af26-28d57457d30f",
        "colab": {
          "base_uri": "https://localhost:8080/",
          "height": 35
        }
      },
      "source": [
        "print(DATASET_DIR)"
      ],
      "execution_count": 51,
      "outputs": [
        {
          "output_type": "stream",
          "text": [
            "/content/gdrive/My Drive/data/coronadata/normal_viral/\n"
          ],
          "name": "stdout"
        }
      ]
    },
    {
      "cell_type": "code",
      "metadata": {
        "id": "k9JvdCE6l4w8",
        "colab_type": "code",
        "colab": {}
      },
      "source": [
        "train_datagen = ImageDataGenerator(\n",
        "    rescale=1./255,\n",
        "    #rotation_range=40,\n",
        "    #width_shift_range=0.2,\n",
        "    #height_shift_range=0.2,                                   \n",
        "    shear_range=0.2,\n",
        "    zoom_range=0.2,\n",
        "    horizontal_flip=True\n",
        "    #fill_mode='nearest'\n",
        "    )\n",
        "\n",
        "valid_datagen = ImageDataGenerator(rescale=1./255)\n",
        "\n",
        "test_datagen = ImageDataGenerator(rescale=1./255)\n",
        "\n"
      ],
      "execution_count": 0,
      "outputs": []
    },
    {
      "cell_type": "code",
      "metadata": {
        "id": "5dlQbpx7ilOA",
        "colab_type": "code",
        "outputId": "e666fe55-d224-41ec-b27f-6ae76b7c96d7",
        "colab": {
          "base_uri": "https://localhost:8080/",
          "height": 54
        }
      },
      "source": [
        "train_generator = train_datagen.flow_from_directory(\n",
        "    directory=DATASET_DIR + \"/train/\",\n",
        "    target_size=(IMG_W, IMG_H),\n",
        "    color_mode=\"rgb\",\n",
        "    batch_size=32,\n",
        "    class_mode=\"binary\",\n",
        "    shuffle=True,\n",
        "    seed=42\n",
        ")\n",
        "\n",
        "test_generator = test_datagen.flow_from_directory(\n",
        "    directory=DATASET_DIR + \"/test/\",\n",
        "    target_size=(IMG_W, IMG_H),\n",
        "    color_mode=\"rgb\",\n",
        "    batch_size=32,\n",
        "    class_mode='binary',\n",
        "    shuffle=False,\n",
        "    seed=42\n",
        ")\n"
      ],
      "execution_count": 53,
      "outputs": [
        {
          "output_type": "stream",
          "text": [
            "Found 2600 images belonging to 2 classes.\n",
            "Found 400 images belonging to 2 classes.\n"
          ],
          "name": "stdout"
        }
      ]
    },
    {
      "cell_type": "markdown",
      "metadata": {
        "id": "BkCgkzqefdNh",
        "colab_type": "text"
      },
      "source": [
        "\n",
        "\n",
        "\n",
        "---\n",
        "\n",
        "\n",
        "\n",
        "---\n",
        "\n",
        "\n",
        "---\n",
        "\n",
        "\n",
        "\n",
        "---\n",
        "\n",
        "Tensorboard\n",
        "\n",
        "---\n",
        "\n",
        "\n",
        "\n",
        "---\n",
        "\n",
        "\n",
        "\n",
        "\n",
        "---\n",
        "\n",
        "\n",
        "---\n",
        "\n"
      ]
    },
    {
      "cell_type": "code",
      "metadata": {
        "id": "G1NjWkoXrfdO",
        "colab_type": "code",
        "outputId": "3680f3fe-7426-4f53-8b20-1828d328393b",
        "colab": {
          "base_uri": "https://localhost:8080/",
          "height": 54
        }
      },
      "source": [
        "# Load the TensorBoard notebook extension\n",
        "%load_ext tensorboard"
      ],
      "execution_count": 78,
      "outputs": [
        {
          "output_type": "stream",
          "text": [
            "The tensorboard extension is already loaded. To reload it, use:\n",
            "  %reload_ext tensorboard\n"
          ],
          "name": "stdout"
        }
      ]
    },
    {
      "cell_type": "code",
      "metadata": {
        "id": "n_0pt0vx399J",
        "colab_type": "code",
        "colab": {}
      },
      "source": [
        "%reload_ext tensorboard"
      ],
      "execution_count": 0,
      "outputs": []
    },
    {
      "cell_type": "code",
      "metadata": {
        "id": "njmK_aAYLdHU",
        "colab_type": "code",
        "colab": {
          "base_uri": "https://localhost:8080/",
          "height": 35
        },
        "outputId": "72db50e4-ec7b-4b11-d012-4e2bc538e3e5"
      },
      "source": [
        "!kill 5569\n"
      ],
      "execution_count": 1,
      "outputs": [
        {
          "output_type": "stream",
          "text": [
            "/bin/bash: line 0: kill: (5569) - No such process\n"
          ],
          "name": "stdout"
        }
      ]
    },
    {
      "cell_type": "code",
      "metadata": {
        "id": "QifKaJyTq6aI",
        "colab_type": "code",
        "colab": {}
      },
      "source": [
        "%tensorboard --logdir logs"
      ],
      "execution_count": 0,
      "outputs": []
    },
    {
      "cell_type": "code",
      "metadata": {
        "id": "acRte3g3qzRH",
        "colab_type": "code",
        "colab": {}
      },
      "source": [
        "import datetime, os\n",
        "logdir = os.path.join(\"logs\", datetime.datetime.now().strftime(\"%Y%m%d-%H%M%S\"))\n",
        "tensorboard_callback = tf.keras.callbacks.TensorBoard(logdir, histogram_freq=1)\n"
      ],
      "execution_count": 0,
      "outputs": []
    },
    {
      "cell_type": "markdown",
      "metadata": {
        "id": "6ezYAa03fh1r",
        "colab_type": "text"
      },
      "source": [
        "\n",
        "\n",
        "---\n",
        "\n",
        "\n",
        "\n",
        "---\n",
        "\n",
        "\n",
        "\n",
        "---\n",
        "\n",
        "\n",
        "\n",
        "---\n",
        "\n",
        "\n",
        "\n",
        "---\n",
        "\n",
        "\n",
        "\n",
        "---\n",
        "\n"
      ]
    },
    {
      "cell_type": "code",
      "metadata": {
        "id": "X-UoeeGKF4IN",
        "colab_type": "code",
        "outputId": "24713030-dc52-49a0-9664-502707185990",
        "colab": {
          "base_uri": "https://localhost:8080/",
          "height": 1000
        }
      },
      "source": [
        "history = model.fit(\n",
        "    train_generator,\n",
        "    steps_per_epoch = 64,\n",
        "    epochs = 100)\n",
        "    #callbacks=[tensorboard_callback])\n"
      ],
      "execution_count": 54,
      "outputs": [
        {
          "output_type": "stream",
          "text": [
            "Epoch 1/100\n",
            "64/64 [==============================] - 91s 1s/step - loss: 0.6925 - accuracy: 0.5293 - mae: 0.5932 - sparse_categorical_accuracy: 0.5293\n",
            "Epoch 2/100\n",
            "64/64 [==============================] - 91s 1s/step - loss: 0.6728 - accuracy: 0.6191 - mae: 0.6909 - sparse_categorical_accuracy: 0.6191\n",
            "Epoch 3/100\n",
            "64/64 [==============================] - 90s 1s/step - loss: 0.5129 - accuracy: 0.7515 - mae: 0.9960 - sparse_categorical_accuracy: 0.7515\n",
            "Epoch 4/100\n",
            "64/64 [==============================] - 90s 1s/step - loss: 0.4413 - accuracy: 0.7900 - mae: 1.8443 - sparse_categorical_accuracy: 0.7900\n",
            "Epoch 5/100\n",
            "64/64 [==============================] - 92s 1s/step - loss: 0.2962 - accuracy: 0.8940 - mae: 1.9250 - sparse_categorical_accuracy: 0.8940\n",
            "Epoch 6/100\n",
            "64/64 [==============================] - 91s 1s/step - loss: 0.2571 - accuracy: 0.9046 - mae: 2.1739 - sparse_categorical_accuracy: 0.9046\n",
            "Epoch 7/100\n",
            "64/64 [==============================] - 90s 1s/step - loss: 0.2302 - accuracy: 0.9219 - mae: 2.5480 - sparse_categorical_accuracy: 0.9219\n",
            "Epoch 8/100\n",
            "64/64 [==============================] - 89s 1s/step - loss: 0.2335 - accuracy: 0.9145 - mae: 2.3481 - sparse_categorical_accuracy: 0.9145\n",
            "Epoch 9/100\n",
            "64/64 [==============================] - 89s 1s/step - loss: 0.2188 - accuracy: 0.9214 - mae: 2.4957 - sparse_categorical_accuracy: 0.9214\n",
            "Epoch 10/100\n",
            "64/64 [==============================] - 90s 1s/step - loss: 0.2372 - accuracy: 0.9160 - mae: 2.3897 - sparse_categorical_accuracy: 0.9160\n",
            "Epoch 11/100\n",
            "64/64 [==============================] - 89s 1s/step - loss: 0.2028 - accuracy: 0.9358 - mae: 2.5198 - sparse_categorical_accuracy: 0.9358\n",
            "Epoch 12/100\n",
            "64/64 [==============================] - 90s 1s/step - loss: 0.1944 - accuracy: 0.9392 - mae: 2.6379 - sparse_categorical_accuracy: 0.9392\n",
            "Epoch 13/100\n",
            "64/64 [==============================] - 89s 1s/step - loss: 0.1919 - accuracy: 0.9353 - mae: 3.0026 - sparse_categorical_accuracy: 0.9353\n",
            "Epoch 14/100\n",
            "64/64 [==============================] - 91s 1s/step - loss: 0.1797 - accuracy: 0.9341 - mae: 3.2106 - sparse_categorical_accuracy: 0.9341\n",
            "Epoch 15/100\n",
            "64/64 [==============================] - 93s 1s/step - loss: 0.1680 - accuracy: 0.9432 - mae: 3.0915 - sparse_categorical_accuracy: 0.9432\n",
            "Epoch 16/100\n",
            "64/64 [==============================] - 91s 1s/step - loss: 0.1933 - accuracy: 0.9313 - mae: 3.1113 - sparse_categorical_accuracy: 0.9313\n",
            "Epoch 17/100\n",
            "64/64 [==============================] - 92s 1s/step - loss: 0.1653 - accuracy: 0.9476 - mae: 2.6955 - sparse_categorical_accuracy: 0.9476\n",
            "Epoch 18/100\n",
            "64/64 [==============================] - 91s 1s/step - loss: 0.1805 - accuracy: 0.9412 - mae: 2.4969 - sparse_categorical_accuracy: 0.9412\n",
            "Epoch 19/100\n",
            "64/64 [==============================] - 93s 1s/step - loss: 0.1707 - accuracy: 0.9429 - mae: 2.7228 - sparse_categorical_accuracy: 0.9429\n",
            "Epoch 20/100\n",
            "64/64 [==============================] - 91s 1s/step - loss: 0.1901 - accuracy: 0.9348 - mae: 2.3708 - sparse_categorical_accuracy: 0.9348\n",
            "Epoch 21/100\n",
            "64/64 [==============================] - 93s 1s/step - loss: 0.2077 - accuracy: 0.9313 - mae: 2.1780 - sparse_categorical_accuracy: 0.9313\n",
            "Epoch 22/100\n",
            "64/64 [==============================] - 92s 1s/step - loss: 0.1656 - accuracy: 0.9461 - mae: 2.6516 - sparse_categorical_accuracy: 0.9461\n",
            "Epoch 23/100\n",
            "64/64 [==============================] - 93s 1s/step - loss: 0.1661 - accuracy: 0.9448 - mae: 2.4761 - sparse_categorical_accuracy: 0.9448\n",
            "Epoch 24/100\n",
            "64/64 [==============================] - 90s 1s/step - loss: 0.1905 - accuracy: 0.9358 - mae: 2.5957 - sparse_categorical_accuracy: 0.9358\n",
            "Epoch 25/100\n",
            "64/64 [==============================] - 91s 1s/step - loss: 0.1693 - accuracy: 0.9422 - mae: 3.0779 - sparse_categorical_accuracy: 0.9422\n",
            "Epoch 26/100\n",
            "64/64 [==============================] - 92s 1s/step - loss: 0.1530 - accuracy: 0.9486 - mae: 2.9019 - sparse_categorical_accuracy: 0.9486\n",
            "Epoch 27/100\n",
            "64/64 [==============================] - 91s 1s/step - loss: 0.1395 - accuracy: 0.9501 - mae: 2.8420 - sparse_categorical_accuracy: 0.9501\n",
            "Epoch 28/100\n",
            "64/64 [==============================] - 93s 1s/step - loss: 0.1593 - accuracy: 0.9448 - mae: 3.1064 - sparse_categorical_accuracy: 0.9448\n",
            "Epoch 29/100\n",
            "64/64 [==============================] - 92s 1s/step - loss: 0.1786 - accuracy: 0.9382 - mae: 2.6368 - sparse_categorical_accuracy: 0.9382\n",
            "Epoch 30/100\n",
            "64/64 [==============================] - 91s 1s/step - loss: 0.1502 - accuracy: 0.9491 - mae: 2.5857 - sparse_categorical_accuracy: 0.9491\n",
            "Epoch 31/100\n",
            "64/64 [==============================] - 91s 1s/step - loss: 0.1391 - accuracy: 0.9496 - mae: 3.1340 - sparse_categorical_accuracy: 0.9496\n",
            "Epoch 32/100\n",
            "64/64 [==============================] - 92s 1s/step - loss: 0.1381 - accuracy: 0.9536 - mae: 3.0106 - sparse_categorical_accuracy: 0.9536\n",
            "Epoch 33/100\n",
            "64/64 [==============================] - 91s 1s/step - loss: 0.1508 - accuracy: 0.9461 - mae: 3.0915 - sparse_categorical_accuracy: 0.9461\n",
            "Epoch 34/100\n",
            "64/64 [==============================] - 90s 1s/step - loss: 0.1432 - accuracy: 0.9516 - mae: 3.4098 - sparse_categorical_accuracy: 0.9516\n",
            "Epoch 35/100\n",
            "64/64 [==============================] - 91s 1s/step - loss: 0.1488 - accuracy: 0.9442 - mae: 3.2360 - sparse_categorical_accuracy: 0.9442\n",
            "Epoch 36/100\n",
            "64/64 [==============================] - 90s 1s/step - loss: 0.1389 - accuracy: 0.9486 - mae: 3.0819 - sparse_categorical_accuracy: 0.9486\n",
            "Epoch 37/100\n",
            "64/64 [==============================] - 91s 1s/step - loss: 0.1835 - accuracy: 0.9331 - mae: 2.9593 - sparse_categorical_accuracy: 0.9331\n",
            "Epoch 38/100\n",
            "64/64 [==============================] - 90s 1s/step - loss: 0.1425 - accuracy: 0.9491 - mae: 3.2476 - sparse_categorical_accuracy: 0.9491\n",
            "Epoch 39/100\n",
            "64/64 [==============================] - 91s 1s/step - loss: 0.1426 - accuracy: 0.9555 - mae: 3.0711 - sparse_categorical_accuracy: 0.9555\n",
            "Epoch 40/100\n",
            "64/64 [==============================] - 91s 1s/step - loss: 0.1307 - accuracy: 0.9550 - mae: 3.0129 - sparse_categorical_accuracy: 0.9550\n",
            "Epoch 41/100\n",
            "64/64 [==============================] - 92s 1s/step - loss: 0.1270 - accuracy: 0.9531 - mae: 3.1079 - sparse_categorical_accuracy: 0.9531\n",
            "Epoch 42/100\n",
            "64/64 [==============================] - 93s 1s/step - loss: 0.1497 - accuracy: 0.9463 - mae: 3.6036 - sparse_categorical_accuracy: 0.9463\n",
            "Epoch 43/100\n",
            "64/64 [==============================] - 92s 1s/step - loss: 0.1426 - accuracy: 0.9545 - mae: 2.9747 - sparse_categorical_accuracy: 0.9545\n",
            "Epoch 44/100\n",
            "64/64 [==============================] - 92s 1s/step - loss: 0.1459 - accuracy: 0.9526 - mae: 2.6702 - sparse_categorical_accuracy: 0.9526\n",
            "Epoch 45/100\n",
            "64/64 [==============================] - 92s 1s/step - loss: 0.1222 - accuracy: 0.9555 - mae: 3.2729 - sparse_categorical_accuracy: 0.9555\n",
            "Epoch 46/100\n",
            "64/64 [==============================] - 93s 1s/step - loss: 0.1417 - accuracy: 0.9497 - mae: 2.7895 - sparse_categorical_accuracy: 0.9497\n",
            "Epoch 47/100\n",
            "64/64 [==============================] - 91s 1s/step - loss: 0.1166 - accuracy: 0.9625 - mae: 3.8683 - sparse_categorical_accuracy: 0.9625\n",
            "Epoch 48/100\n",
            "64/64 [==============================] - 91s 1s/step - loss: 0.1315 - accuracy: 0.9560 - mae: 3.5469 - sparse_categorical_accuracy: 0.9560\n",
            "Epoch 49/100\n",
            "64/64 [==============================] - 91s 1s/step - loss: 0.1178 - accuracy: 0.9570 - mae: 3.5521 - sparse_categorical_accuracy: 0.9570\n",
            "Epoch 50/100\n",
            "64/64 [==============================] - 90s 1s/step - loss: 0.1355 - accuracy: 0.9550 - mae: 3.4668 - sparse_categorical_accuracy: 0.9550\n",
            "Epoch 51/100\n",
            "64/64 [==============================] - 91s 1s/step - loss: 0.1319 - accuracy: 0.9541 - mae: 3.3042 - sparse_categorical_accuracy: 0.9541\n",
            "Epoch 52/100\n",
            "64/64 [==============================] - 92s 1s/step - loss: 0.1264 - accuracy: 0.9560 - mae: 3.3935 - sparse_categorical_accuracy: 0.9560\n",
            "Epoch 53/100\n",
            "64/64 [==============================] - 91s 1s/step - loss: 0.1382 - accuracy: 0.9501 - mae: 3.2794 - sparse_categorical_accuracy: 0.9501\n",
            "Epoch 54/100\n",
            "64/64 [==============================] - 92s 1s/step - loss: 0.1142 - accuracy: 0.9560 - mae: 3.7227 - sparse_categorical_accuracy: 0.9560\n",
            "Epoch 55/100\n",
            "64/64 [==============================] - 93s 1s/step - loss: 0.1485 - accuracy: 0.9502 - mae: 3.2995 - sparse_categorical_accuracy: 0.9502\n",
            "Epoch 56/100\n",
            "64/64 [==============================] - 92s 1s/step - loss: 0.1256 - accuracy: 0.9585 - mae: 3.3431 - sparse_categorical_accuracy: 0.9585\n",
            "Epoch 57/100\n",
            "64/64 [==============================] - 92s 1s/step - loss: 0.1022 - accuracy: 0.9694 - mae: 3.5191 - sparse_categorical_accuracy: 0.9694\n",
            "Epoch 58/100\n",
            "64/64 [==============================] - 92s 1s/step - loss: 0.1138 - accuracy: 0.9595 - mae: 3.2497 - sparse_categorical_accuracy: 0.9595\n",
            "Epoch 59/100\n",
            "64/64 [==============================] - 92s 1s/step - loss: 0.1365 - accuracy: 0.9501 - mae: 3.3279 - sparse_categorical_accuracy: 0.9501\n",
            "Epoch 60/100\n",
            "64/64 [==============================] - 93s 1s/step - loss: 0.1022 - accuracy: 0.9634 - mae: 3.6827 - sparse_categorical_accuracy: 0.9634\n",
            "Epoch 61/100\n",
            "64/64 [==============================] - 92s 1s/step - loss: 0.1170 - accuracy: 0.9580 - mae: 3.8953 - sparse_categorical_accuracy: 0.9580\n",
            "Epoch 62/100\n",
            "64/64 [==============================] - 92s 1s/step - loss: 0.1133 - accuracy: 0.9615 - mae: 3.7748 - sparse_categorical_accuracy: 0.9615\n",
            "Epoch 63/100\n",
            "64/64 [==============================] - 92s 1s/step - loss: 0.1045 - accuracy: 0.9679 - mae: 3.4635 - sparse_categorical_accuracy: 0.9679\n",
            "Epoch 64/100\n",
            "64/64 [==============================] - 91s 1s/step - loss: 0.1354 - accuracy: 0.9541 - mae: 3.4095 - sparse_categorical_accuracy: 0.9541\n",
            "Epoch 65/100\n",
            "64/64 [==============================] - 90s 1s/step - loss: 0.1052 - accuracy: 0.9649 - mae: 3.5516 - sparse_categorical_accuracy: 0.9649\n",
            "Epoch 66/100\n",
            "64/64 [==============================] - 92s 1s/step - loss: 0.1148 - accuracy: 0.9600 - mae: 3.9327 - sparse_categorical_accuracy: 0.9600\n",
            "Epoch 67/100\n",
            "64/64 [==============================] - 91s 1s/step - loss: 0.0923 - accuracy: 0.9659 - mae: 4.5190 - sparse_categorical_accuracy: 0.9659\n",
            "Epoch 68/100\n",
            "64/64 [==============================] - 92s 1s/step - loss: 0.1225 - accuracy: 0.9625 - mae: 3.9103 - sparse_categorical_accuracy: 0.9625\n",
            "Epoch 69/100\n",
            "64/64 [==============================] - 94s 1s/step - loss: 0.1015 - accuracy: 0.9639 - mae: 4.1308 - sparse_categorical_accuracy: 0.9639\n",
            "Epoch 70/100\n",
            "64/64 [==============================] - 93s 1s/step - loss: 0.1254 - accuracy: 0.9536 - mae: 3.6887 - sparse_categorical_accuracy: 0.9536\n",
            "Epoch 71/100\n",
            "64/64 [==============================] - 91s 1s/step - loss: 0.0897 - accuracy: 0.9679 - mae: 4.2498 - sparse_categorical_accuracy: 0.9679\n",
            "Epoch 72/100\n",
            "64/64 [==============================] - 91s 1s/step - loss: 0.1181 - accuracy: 0.9570 - mae: 4.1819 - sparse_categorical_accuracy: 0.9570\n",
            "Epoch 73/100\n",
            "64/64 [==============================] - 92s 1s/step - loss: 0.1236 - accuracy: 0.9556 - mae: 3.9347 - sparse_categorical_accuracy: 0.9556\n",
            "Epoch 74/100\n",
            "64/64 [==============================] - 91s 1s/step - loss: 0.1015 - accuracy: 0.9639 - mae: 4.1640 - sparse_categorical_accuracy: 0.9639\n",
            "Epoch 75/100\n",
            "64/64 [==============================] - 92s 1s/step - loss: 0.1117 - accuracy: 0.9610 - mae: 4.2216 - sparse_categorical_accuracy: 0.9610\n",
            "Epoch 76/100\n",
            "64/64 [==============================] - 93s 1s/step - loss: 0.1022 - accuracy: 0.9718 - mae: 3.8696 - sparse_categorical_accuracy: 0.9718\n",
            "Epoch 77/100\n",
            "64/64 [==============================] - 92s 1s/step - loss: 0.0955 - accuracy: 0.9629 - mae: 3.5515 - sparse_categorical_accuracy: 0.9629\n",
            "Epoch 78/100\n",
            "64/64 [==============================] - 93s 1s/step - loss: 0.0986 - accuracy: 0.9644 - mae: 3.8307 - sparse_categorical_accuracy: 0.9644\n",
            "Epoch 79/100\n",
            "64/64 [==============================] - 91s 1s/step - loss: 0.1045 - accuracy: 0.9644 - mae: 3.6822 - sparse_categorical_accuracy: 0.9644\n",
            "Epoch 80/100\n",
            "64/64 [==============================] - 91s 1s/step - loss: 0.1002 - accuracy: 0.9595 - mae: 3.8733 - sparse_categorical_accuracy: 0.9595\n",
            "Epoch 81/100\n",
            "64/64 [==============================] - 90s 1s/step - loss: 0.0944 - accuracy: 0.9649 - mae: 4.2895 - sparse_categorical_accuracy: 0.9649\n",
            "Epoch 82/100\n",
            "64/64 [==============================] - 90s 1s/step - loss: 0.1150 - accuracy: 0.9595 - mae: 3.5790 - sparse_categorical_accuracy: 0.9595\n",
            "Epoch 83/100\n",
            "64/64 [==============================] - 92s 1s/step - loss: 0.1103 - accuracy: 0.9585 - mae: 3.2351 - sparse_categorical_accuracy: 0.9585\n",
            "Epoch 84/100\n",
            "64/64 [==============================] - 90s 1s/step - loss: 0.0845 - accuracy: 0.9713 - mae: 4.3655 - sparse_categorical_accuracy: 0.9713\n",
            "Epoch 85/100\n",
            "64/64 [==============================] - 91s 1s/step - loss: 0.0996 - accuracy: 0.9644 - mae: 3.6626 - sparse_categorical_accuracy: 0.9644\n",
            "Epoch 86/100\n",
            "64/64 [==============================] - 90s 1s/step - loss: 0.0850 - accuracy: 0.9723 - mae: 4.5135 - sparse_categorical_accuracy: 0.9723\n",
            "Epoch 87/100\n",
            "64/64 [==============================] - 91s 1s/step - loss: 0.0944 - accuracy: 0.9697 - mae: 4.1734 - sparse_categorical_accuracy: 0.9697\n",
            "Epoch 88/100\n",
            "64/64 [==============================] - 90s 1s/step - loss: 0.0841 - accuracy: 0.9644 - mae: 4.0839 - sparse_categorical_accuracy: 0.9644\n",
            "Epoch 89/100\n",
            "64/64 [==============================] - 90s 1s/step - loss: 0.1263 - accuracy: 0.9555 - mae: 4.6624 - sparse_categorical_accuracy: 0.9555\n",
            "Epoch 90/100\n",
            "64/64 [==============================] - 89s 1s/step - loss: 0.0956 - accuracy: 0.9679 - mae: 4.1114 - sparse_categorical_accuracy: 0.9679\n",
            "Epoch 91/100\n",
            "64/64 [==============================] - 90s 1s/step - loss: 0.1115 - accuracy: 0.9595 - mae: 4.2048 - sparse_categorical_accuracy: 0.9595\n",
            "Epoch 92/100\n",
            "64/64 [==============================] - 92s 1s/step - loss: 0.1099 - accuracy: 0.9634 - mae: 4.8176 - sparse_categorical_accuracy: 0.9634\n",
            "Epoch 93/100\n",
            "64/64 [==============================] - 92s 1s/step - loss: 0.1062 - accuracy: 0.9629 - mae: 3.9003 - sparse_categorical_accuracy: 0.9629\n",
            "Epoch 94/100\n",
            "64/64 [==============================] - 92s 1s/step - loss: 0.0976 - accuracy: 0.9649 - mae: 4.0898 - sparse_categorical_accuracy: 0.9649\n",
            "Epoch 95/100\n",
            "64/64 [==============================] - 91s 1s/step - loss: 0.0627 - accuracy: 0.9802 - mae: 5.0564 - sparse_categorical_accuracy: 0.9802\n",
            "Epoch 96/100\n",
            "64/64 [==============================] - 93s 1s/step - loss: 0.0897 - accuracy: 0.9688 - mae: 4.9665 - sparse_categorical_accuracy: 0.9688\n",
            "Epoch 97/100\n",
            "64/64 [==============================] - 91s 1s/step - loss: 0.0809 - accuracy: 0.9718 - mae: 5.0689 - sparse_categorical_accuracy: 0.9718\n",
            "Epoch 98/100\n",
            "64/64 [==============================] - 92s 1s/step - loss: 0.1001 - accuracy: 0.9634 - mae: 4.6342 - sparse_categorical_accuracy: 0.9634\n",
            "Epoch 99/100\n",
            "64/64 [==============================] - 92s 1s/step - loss: 0.0823 - accuracy: 0.9708 - mae: 4.6432 - sparse_categorical_accuracy: 0.9708\n",
            "Epoch 100/100\n",
            "64/64 [==============================] - 92s 1s/step - loss: 0.0823 - accuracy: 0.9674 - mae: 4.8733 - sparse_categorical_accuracy: 0.9674\n"
          ],
          "name": "stdout"
        }
      ]
    },
    {
      "cell_type": "code",
      "metadata": {
        "id": "Jex2LJE_MCMP",
        "colab_type": "code",
        "outputId": "93f420f7-647a-4501-9f09-b52350832e93",
        "colab": {
          "base_uri": "https://localhost:8080/",
          "height": 573
        }
      },
      "source": [
        "plt.plot(history.history['sparse_categorical_accuracy'])\n",
        "plt.plot(history.history['mae'])\n",
        "plt.title('model categorical accuracy')\n",
        "plt.ylabel('categorical accuracy')\n",
        "plt.xlabel('epoch')\n",
        "plt.legend(['accuracy', 'mae'], loc='upper left')\n",
        "plt.show()\n",
        "\n",
        "\n",
        "plt.plot(history.history['accuracy'])\n",
        "plt.plot(history.history['loss'])\n",
        "plt.title('model accuracy')\n",
        "plt.ylabel('accuracy')\n",
        "plt.xlabel('epoch')\n",
        "plt.legend(['loss', 'mae'], loc='upper left')\n",
        "plt.show()\n"
      ],
      "execution_count": 55,
      "outputs": [
        {
          "output_type": "display_data",
          "data": {
            "image/png": "[encoded data removed]",
            "text/plain": [
              "<Figure size 432x288 with 1 Axes>"
            ]
          },
          "metadata": {
            "tags": [],
            "needs_background": "light"
          }
        },
        {
          "output_type": "display_data",
          "data": {
            "image/png": "[encoded data removed]",
            "text/plain": [
              "<Figure size 432x288 with 1 Axes>"
            ]
          },
          "metadata": {
            "tags": [],
            "needs_background": "light"
          }
        }
      ]
    },
    {
      "cell_type": "code",
      "metadata": {
        "id": "iCLumVjUHio0",
        "colab_type": "code",
        "outputId": "00a3c8c6-b405-4860-b6c5-fc627d5a91f9",
        "colab": {
          "base_uri": "https://localhost:8080/",
          "height": 91
        }
      },
      "source": [
        "print(\"accuracy\", history.history['accuracy'][-1])\n",
        "print(\"mae\", history.history['mae'][-1])\n",
        "print(\"loss\", history.history['loss'][-1])\n",
        "print(\"sparse_categorical_accuracy\", history.history['sparse_categorical_accuracy'][-1])\n"
      ],
      "execution_count": 56,
      "outputs": [
        {
          "output_type": "stream",
          "text": [
            "accuracy 0.967391312122345\n",
            "mae 4.873342514038086\n",
            "loss 0.08230745047330856\n",
            "sparse_categorical_accuracy 0.967391312122345\n"
          ],
          "name": "stdout"
        }
      ]
    },
    {
      "cell_type": "code",
      "metadata": {
        "id": "Lp6KvNSAZmvZ",
        "colab_type": "code",
        "colab": {}
      },
      "source": [
        "PATH = '/content/gdrive/My Drive/data/corona/Chest_xray_Corona_Metadata.csv'\n",
        "meta = pd.read_csv(PATH)"
      ],
      "execution_count": 0,
      "outputs": []
    },
    {
      "cell_type": "code",
      "metadata": {
        "id": "VjX2W_3lZoL7",
        "colab_type": "code",
        "outputId": "aa88881b-14ad-4a52-efd9-82f5ac19bcb1",
        "colab": {
          "base_uri": "https://localhost:8080/",
          "height": 206
        }
      },
      "source": [
        "test = meta[meta.Dataset_type == 'TEST']\n",
        "test = test.fillna(0)\n",
        "test.head()"
      ],
      "execution_count": 58,
      "outputs": [
        {
          "output_type": "execute_result",
          "data": {
            "text/html": [
              "<div>\n",
              "<style scoped>\n",
              "    .dataframe tbody tr th:only-of-type {\n",
              "        vertical-align: middle;\n",
              "    }\n",
              "\n",
              "    .dataframe tbody tr th {\n",
              "        vertical-align: top;\n",
              "    }\n",
              "\n",
              "    .dataframe thead th {\n",
              "        text-align: right;\n",
              "    }\n",
              "</style>\n",
              "<table border=\"1\" class=\"dataframe\">\n",
              "  <thead>\n",
              "    <tr style=\"text-align: right;\">\n",
              "      <th></th>\n",
              "      <th>Unnamed: 0</th>\n",
              "      <th>X_ray_image_name</th>\n",
              "      <th>Label</th>\n",
              "      <th>Dataset_type</th>\n",
              "      <th>Label_2_Virus_category</th>\n",
              "      <th>Label_1_Virus_category</th>\n",
              "    </tr>\n",
              "  </thead>\n",
              "  <tbody>\n",
              "    <tr>\n",
              "      <th>5286</th>\n",
              "      <td>5309</td>\n",
              "      <td>IM-0021-0001.jpeg</td>\n",
              "      <td>Normal</td>\n",
              "      <td>TEST</td>\n",
              "      <td>0</td>\n",
              "      <td>0</td>\n",
              "    </tr>\n",
              "    <tr>\n",
              "      <th>5287</th>\n",
              "      <td>5310</td>\n",
              "      <td>IM-0019-0001.jpeg</td>\n",
              "      <td>Normal</td>\n",
              "      <td>TEST</td>\n",
              "      <td>0</td>\n",
              "      <td>0</td>\n",
              "    </tr>\n",
              "    <tr>\n",
              "      <th>5288</th>\n",
              "      <td>5311</td>\n",
              "      <td>IM-0017-0001.jpeg</td>\n",
              "      <td>Normal</td>\n",
              "      <td>TEST</td>\n",
              "      <td>0</td>\n",
              "      <td>0</td>\n",
              "    </tr>\n",
              "    <tr>\n",
              "      <th>5289</th>\n",
              "      <td>5312</td>\n",
              "      <td>IM-0016-0001.jpeg</td>\n",
              "      <td>Normal</td>\n",
              "      <td>TEST</td>\n",
              "      <td>0</td>\n",
              "      <td>0</td>\n",
              "    </tr>\n",
              "    <tr>\n",
              "      <th>5290</th>\n",
              "      <td>5313</td>\n",
              "      <td>IM-0015-0001.jpeg</td>\n",
              "      <td>Normal</td>\n",
              "      <td>TEST</td>\n",
              "      <td>0</td>\n",
              "      <td>0</td>\n",
              "    </tr>\n",
              "  </tbody>\n",
              "</table>\n",
              "</div>"
            ],
            "text/plain": [
              "      Unnamed: 0  ... Label_1_Virus_category\n",
              "5286        5309  ...                      0\n",
              "5287        5310  ...                      0\n",
              "5288        5311  ...                      0\n",
              "5289        5312  ...                      0\n",
              "5290        5313  ...                      0\n",
              "\n",
              "[5 rows x 6 columns]"
            ]
          },
          "metadata": {
            "tags": []
          },
          "execution_count": 58
        }
      ]
    },
    {
      "cell_type": "code",
      "metadata": {
        "id": "4By_cGSiZxmH",
        "colab_type": "code",
        "outputId": "0a6bd53a-d63e-4fc6-9a95-a6d7b880bdb0",
        "colab": {
          "base_uri": "https://localhost:8080/",
          "height": 35
        }
      },
      "source": [
        "testpnem = test[test.Label =='Pnemonia']\n",
        "testpnem.shape"
      ],
      "execution_count": 59,
      "outputs": [
        {
          "output_type": "execute_result",
          "data": {
            "text/plain": [
              "(390, 6)"
            ]
          },
          "metadata": {
            "tags": []
          },
          "execution_count": 59
        }
      ]
    },
    {
      "cell_type": "code",
      "metadata": {
        "id": "6la6GBr_eaB3",
        "colab_type": "code",
        "outputId": "b490a056-58f1-4b1d-f79d-e3127ede58f7",
        "colab": {
          "base_uri": "https://localhost:8080/",
          "height": 35
        }
      },
      "source": [
        "bac_testpnem = testpnem[testpnem.Label_1_Virus_category == 'bacteria']\n",
        "bac_testpnem.shape"
      ],
      "execution_count": 60,
      "outputs": [
        {
          "output_type": "execute_result",
          "data": {
            "text/plain": [
              "(242, 6)"
            ]
          },
          "metadata": {
            "tags": []
          },
          "execution_count": 60
        }
      ]
    },
    {
      "cell_type": "code",
      "metadata": {
        "id": "-OefpJ6BYRmo",
        "colab_type": "code",
        "outputId": "925beef9-5d22-4752-ca97-3eaaf9a61dbe",
        "colab": {
          "base_uri": "https://localhost:8080/",
          "height": 35
        }
      },
      "source": [
        "viral_testpnem = testpnem[testpnem.Label_1_Virus_category == 'Virus']\n",
        "viral_testpnem.shape"
      ],
      "execution_count": 61,
      "outputs": [
        {
          "output_type": "execute_result",
          "data": {
            "text/plain": [
              "(148, 6)"
            ]
          },
          "metadata": {
            "tags": []
          },
          "execution_count": 61
        }
      ]
    },
    {
      "cell_type": "code",
      "metadata": {
        "id": "1IX3wiMaeqXo",
        "colab_type": "code",
        "outputId": "334b2cbe-849c-495f-9763-cf9e10536113",
        "colab": {
          "base_uri": "https://localhost:8080/",
          "height": 35
        }
      },
      "source": [
        "testnorm = test[test.Label == 'Normal']\n",
        "testnorm.shape"
      ],
      "execution_count": 62,
      "outputs": [
        {
          "output_type": "execute_result",
          "data": {
            "text/plain": [
              "(234, 6)"
            ]
          },
          "metadata": {
            "tags": []
          },
          "execution_count": 62
        }
      ]
    },
    {
      "cell_type": "code",
      "metadata": {
        "id": "Z5D-4tp4e65z",
        "colab_type": "code",
        "colab": {}
      },
      "source": [
        "testnorm = testnorm.sample(140, replace=True)\n",
        "viral_testpnem = viral_testpnem.sample(140, replace=True) "
      ],
      "execution_count": 0,
      "outputs": []
    },
    {
      "cell_type": "code",
      "metadata": {
        "id": "8_Iul7bFhkfJ",
        "colab_type": "code",
        "colab": {}
      },
      "source": [
        "TESTDATA_DIR = \"/content/gdrive/My Drive/data/corona/test/\""
      ],
      "execution_count": 0,
      "outputs": []
    },
    {
      "cell_type": "code",
      "metadata": {
        "id": "D93ctQGCf3O3",
        "colab_type": "code",
        "outputId": "6d436706-df3c-44d7-cfdf-7d8d608962f2",
        "colab": {
          "base_uri": "https://localhost:8080/",
          "height": 35
        }
      },
      "source": [
        "print(TESTDATA_DIR)"
      ],
      "execution_count": 65,
      "outputs": [
        {
          "output_type": "stream",
          "text": [
            "/content/gdrive/My Drive/data/corona/test/\n"
          ],
          "name": "stdout"
        }
      ]
    },
    {
      "cell_type": "code",
      "metadata": {
        "id": "vpw4OtO0gul3",
        "colab_type": "code",
        "colab": {}
      },
      "source": [
        "import cv2\n",
        "from PIL import Image\n",
        "from cv2 import imshow\n"
      ],
      "execution_count": 0,
      "outputs": []
    },
    {
      "cell_type": "code",
      "metadata": {
        "id": "T1MFEUgdfc4z",
        "colab_type": "code",
        "outputId": "c4fb590a-3c57-433b-c380-a1a91790ee15",
        "colab": {
          "base_uri": "https://localhost:8080/",
          "height": 1000
        }
      },
      "source": [
        "\n",
        "X_test = []\n",
        "Y_test = []\n",
        "\n",
        "num = 0\n",
        "\n",
        "for imgname in testnorm['X_ray_image_name']:\n",
        "  path = TESTDATA_DIR + str(imgname)\n",
        " \n",
        "  img = cv2.imread(path)\n",
        "   \n",
        "  rimg = cv2.resize(img, (400, 400))\n",
        "  \n",
        "  rimg = rimg / 255.0\n",
        "  \n",
        "  X_test.insert(0, rimg)\n",
        "  Y_test.insert(0, 0)\n",
        "  \n",
        "  print(num)\n",
        "  print(path)\n",
        "  type(rimg)\n",
        "  len(rimg)\n",
        "  num += 1\n",
        "\n",
        "  if(num>139):\n",
        "    break"
      ],
      "execution_count": 82,
      "outputs": [
        {
          "output_type": "stream",
          "text": [
            "0\n",
            "/content/gdrive/My Drive/data/corona/test/NORMAL2-IM-0301-0001.jpeg\n",
            "1\n",
            "/content/gdrive/My Drive/data/corona/test/IM-0001-0001.jpeg\n",
            "2\n",
            "/content/gdrive/My Drive/data/corona/test/NORMAL2-IM-0198-0001.jpeg\n",
            "3\n",
            "/content/gdrive/My Drive/data/corona/test/NORMAL2-IM-0112-0001.jpeg\n",
            "4\n",
            "/content/gdrive/My Drive/data/corona/test/NORMAL2-IM-0273-0001.jpeg\n",
            "5\n",
            "/content/gdrive/My Drive/data/corona/test/NORMAL2-IM-0325-0001.jpeg\n",
            "6\n",
            "/content/gdrive/My Drive/data/corona/test/NORMAL2-IM-0117-0001.jpeg\n",
            "7\n",
            "/content/gdrive/My Drive/data/corona/test/NORMAL2-IM-0060-0001.jpeg\n",
            "8\n",
            "/content/gdrive/My Drive/data/corona/test/NORMAL2-IM-0285-0001.jpeg\n",
            "9\n",
            "/content/gdrive/My Drive/data/corona/test/NORMAL2-IM-0028-0001.jpeg\n",
            "10\n",
            "/content/gdrive/My Drive/data/corona/test/IM-0077-0001.jpeg\n",
            "11\n",
            "/content/gdrive/My Drive/data/corona/test/NORMAL2-IM-0013-0001.jpeg\n",
            "12\n",
            "/content/gdrive/My Drive/data/corona/test/NORMAL2-IM-0302-0001.jpeg\n",
            "13\n",
            "/content/gdrive/My Drive/data/corona/test/NORMAL2-IM-0111-0001.jpeg\n",
            "14\n",
            "/content/gdrive/My Drive/data/corona/test/NORMAL2-IM-0173-0001-0001.jpeg\n",
            "15\n",
            "/content/gdrive/My Drive/data/corona/test/IM-0033-0001-0001.jpeg\n",
            "16\n",
            "/content/gdrive/My Drive/data/corona/test/NORMAL2-IM-0275-0001.jpeg\n",
            "17\n",
            "/content/gdrive/My Drive/data/corona/test/NORMAL2-IM-0150-0001.jpeg\n",
            "18\n",
            "/content/gdrive/My Drive/data/corona/test/IM-0005-0001.jpeg\n",
            "19\n",
            "/content/gdrive/My Drive/data/corona/test/NORMAL2-IM-0325-0001.jpeg\n",
            "20\n",
            "/content/gdrive/My Drive/data/corona/test/IM-0039-0001.jpeg\n",
            "21\n",
            "/content/gdrive/My Drive/data/corona/test/NORMAL2-IM-0123-0001.jpeg\n",
            "22\n",
            "/content/gdrive/My Drive/data/corona/test/NORMAL2-IM-0111-0001.jpeg\n",
            "23\n",
            "/content/gdrive/My Drive/data/corona/test/NORMAL2-IM-0316-0001.jpeg\n",
            "24\n",
            "/content/gdrive/My Drive/data/corona/test/NORMAL2-IM-0283-0001.jpeg\n",
            "25\n",
            "/content/gdrive/My Drive/data/corona/test/NORMAL2-IM-0330-0001.jpeg\n",
            "26\n",
            "/content/gdrive/My Drive/data/corona/test/IM-0021-0001.jpeg\n",
            "27\n",
            "/content/gdrive/My Drive/data/corona/test/NORMAL2-IM-0280-0001.jpeg\n",
            "28\n",
            "/content/gdrive/My Drive/data/corona/test/IM-0109-0001.jpeg\n",
            "29\n",
            "/content/gdrive/My Drive/data/corona/test/NORMAL2-IM-0095-0001.jpeg\n",
            "30\n",
            "/content/gdrive/My Drive/data/corona/test/NORMAL2-IM-0292-0001.jpeg\n",
            "31\n",
            "/content/gdrive/My Drive/data/corona/test/IM-0109-0001.jpeg\n",
            "32\n",
            "/content/gdrive/My Drive/data/corona/test/NORMAL2-IM-0206-0001.jpeg\n",
            "33\n",
            "/content/gdrive/My Drive/data/corona/test/IM-0097-0001.jpeg\n",
            "34\n",
            "/content/gdrive/My Drive/data/corona/test/IM-0081-0001.jpeg\n",
            "35\n",
            "/content/gdrive/My Drive/data/corona/test/NORMAL2-IM-0117-0001.jpeg\n",
            "36\n",
            "/content/gdrive/My Drive/data/corona/test/IM-0065-0001.jpeg\n",
            "37\n",
            "/content/gdrive/My Drive/data/corona/test/IM-0089-0001.jpeg\n",
            "38\n",
            "/content/gdrive/My Drive/data/corona/test/IM-0095-0001.jpeg\n",
            "39\n",
            "/content/gdrive/My Drive/data/corona/test/IM-0101-0001.jpeg\n",
            "40\n",
            "/content/gdrive/My Drive/data/corona/test/NORMAL2-IM-0130-0001.jpeg\n",
            "41\n",
            "/content/gdrive/My Drive/data/corona/test/NORMAL2-IM-0359-0001.jpeg\n",
            "42\n",
            "/content/gdrive/My Drive/data/corona/test/IM-0009-0001.jpeg\n",
            "43\n",
            "/content/gdrive/My Drive/data/corona/test/NORMAL2-IM-0107-0001.jpeg\n",
            "44\n",
            "/content/gdrive/My Drive/data/corona/test/NORMAL2-IM-0285-0001.jpeg\n",
            "45\n",
            "/content/gdrive/My Drive/data/corona/test/IM-0073-0001.jpeg\n",
            "46\n",
            "/content/gdrive/My Drive/data/corona/test/IM-0023-0001.jpeg\n",
            "47\n",
            "/content/gdrive/My Drive/data/corona/test/NORMAL2-IM-0305-0001.jpeg\n",
            "48\n",
            "/content/gdrive/My Drive/data/corona/test/IM-0045-0001.jpeg\n",
            "49\n",
            "/content/gdrive/My Drive/data/corona/test/IM-0033-0001.jpeg\n",
            "50\n",
            "/content/gdrive/My Drive/data/corona/test/NORMAL2-IM-0195-0001.jpeg\n",
            "51\n",
            "/content/gdrive/My Drive/data/corona/test/NORMAL2-IM-0107-0001.jpeg\n",
            "52\n",
            "/content/gdrive/My Drive/data/corona/test/NORMAL2-IM-0105-0001.jpeg\n",
            "53\n",
            "/content/gdrive/My Drive/data/corona/test/IM-0045-0001.jpeg\n",
            "54\n",
            "/content/gdrive/My Drive/data/corona/test/NORMAL2-IM-0290-0001.jpeg\n",
            "55\n",
            "/content/gdrive/My Drive/data/corona/test/NORMAL2-IM-0246-0001-0002.jpeg\n",
            "56\n",
            "/content/gdrive/My Drive/data/corona/test/NORMAL2-IM-0145-0001.jpeg\n",
            "57\n",
            "/content/gdrive/My Drive/data/corona/test/IM-0016-0001.jpeg\n",
            "58\n",
            "/content/gdrive/My Drive/data/corona/test/NORMAL2-IM-0322-0001.jpeg\n",
            "59\n",
            "/content/gdrive/My Drive/data/corona/test/IM-0003-0001.jpeg\n",
            "60\n",
            "/content/gdrive/My Drive/data/corona/test/NORMAL2-IM-0333-0001.jpeg\n",
            "61\n",
            "/content/gdrive/My Drive/data/corona/test/NORMAL2-IM-0294-0001.jpeg\n",
            "62\n",
            "/content/gdrive/My Drive/data/corona/test/NORMAL2-IM-0351-0001.jpeg\n",
            "63\n",
            "/content/gdrive/My Drive/data/corona/test/IM-0093-0001.jpeg\n",
            "64\n",
            "/content/gdrive/My Drive/data/corona/test/NORMAL2-IM-0029-0001.jpeg\n",
            "65\n",
            "/content/gdrive/My Drive/data/corona/test/NORMAL2-IM-0337-0001.jpeg\n",
            "66\n",
            "/content/gdrive/My Drive/data/corona/test/IM-0097-0001.jpeg\n",
            "67\n",
            "/content/gdrive/My Drive/data/corona/test/NORMAL2-IM-0219-0001.jpeg\n",
            "68\n",
            "/content/gdrive/My Drive/data/corona/test/IM-0110-0001.jpeg\n",
            "69\n",
            "/content/gdrive/My Drive/data/corona/test/IM-0075-0001.jpeg\n",
            "70\n",
            "/content/gdrive/My Drive/data/corona/test/NORMAL2-IM-0330-0001.jpeg\n",
            "71\n",
            "/content/gdrive/My Drive/data/corona/test/NORMAL2-IM-0360-0001.jpeg\n",
            "72\n",
            "/content/gdrive/My Drive/data/corona/test/NORMAL2-IM-0019-0001.jpeg\n",
            "73\n",
            "/content/gdrive/My Drive/data/corona/test/IM-0091-0001.jpeg\n",
            "74\n",
            "/content/gdrive/My Drive/data/corona/test/NORMAL2-IM-0303-0001.jpeg\n",
            "75\n",
            "/content/gdrive/My Drive/data/corona/test/IM-0003-0001.jpeg\n",
            "76\n",
            "/content/gdrive/My Drive/data/corona/test/NORMAL2-IM-0325-0001.jpeg\n",
            "77\n",
            "/content/gdrive/My Drive/data/corona/test/NORMAL2-IM-0267-0001.jpeg\n",
            "78\n",
            "/content/gdrive/My Drive/data/corona/test/IM-0005-0001.jpeg\n",
            "79\n",
            "/content/gdrive/My Drive/data/corona/test/IM-0097-0001.jpeg\n",
            "80\n",
            "/content/gdrive/My Drive/data/corona/test/NORMAL2-IM-0348-0001.jpeg\n",
            "81\n",
            "/content/gdrive/My Drive/data/corona/test/NORMAL2-IM-0335-0001.jpeg\n",
            "82\n",
            "/content/gdrive/My Drive/data/corona/test/NORMAL2-IM-0052-0001.jpeg\n",
            "83\n",
            "/content/gdrive/My Drive/data/corona/test/NORMAL2-IM-0173-0001-0002.jpeg\n",
            "84\n",
            "/content/gdrive/My Drive/data/corona/test/NORMAL2-IM-0348-0001.jpeg\n",
            "85\n",
            "/content/gdrive/My Drive/data/corona/test/IM-0045-0001.jpeg\n",
            "86\n",
            "/content/gdrive/My Drive/data/corona/test/NORMAL2-IM-0343-0001.jpeg\n",
            "87\n",
            "/content/gdrive/My Drive/data/corona/test/IM-0073-0001.jpeg\n",
            "88\n",
            "/content/gdrive/My Drive/data/corona/test/IM-0041-0001.jpeg\n",
            "89\n",
            "/content/gdrive/My Drive/data/corona/test/IM-0016-0001.jpeg\n",
            "90\n",
            "/content/gdrive/My Drive/data/corona/test/IM-0075-0001.jpeg\n",
            "91\n",
            "/content/gdrive/My Drive/data/corona/test/NORMAL2-IM-0310-0001.jpeg\n",
            "92\n",
            "/content/gdrive/My Drive/data/corona/test/NORMAL2-IM-0285-0001.jpeg\n",
            "93\n",
            "/content/gdrive/My Drive/data/corona/test/IM-0111-0001.jpeg\n",
            "94\n",
            "/content/gdrive/My Drive/data/corona/test/IM-0011-0001-0002.jpeg\n",
            "95\n",
            "/content/gdrive/My Drive/data/corona/test/NORMAL2-IM-0045-0001.jpeg\n",
            "96\n",
            "/content/gdrive/My Drive/data/corona/test/IM-0107-0001.jpeg\n",
            "97\n",
            "/content/gdrive/My Drive/data/corona/test/NORMAL2-IM-0079-0001.jpeg\n",
            "98\n",
            "/content/gdrive/My Drive/data/corona/test/NORMAL2-IM-0301-0001.jpeg\n",
            "99\n",
            "/content/gdrive/My Drive/data/corona/test/NORMAL2-IM-0307-0001.jpeg\n",
            "100\n",
            "/content/gdrive/My Drive/data/corona/test/NORMAL2-IM-0366-0001.jpeg\n",
            "101\n",
            "/content/gdrive/My Drive/data/corona/test/NORMAL2-IM-0350-0001.jpeg\n",
            "102\n",
            "/content/gdrive/My Drive/data/corona/test/NORMAL2-IM-0146-0001.jpeg\n",
            "103\n",
            "/content/gdrive/My Drive/data/corona/test/NORMAL2-IM-0289-0001.jpeg\n",
            "104\n",
            "/content/gdrive/My Drive/data/corona/test/NORMAL2-IM-0373-0001.jpeg\n",
            "105\n",
            "/content/gdrive/My Drive/data/corona/test/NORMAL2-IM-0023-0001.jpeg\n",
            "106\n",
            "/content/gdrive/My Drive/data/corona/test/IM-0003-0001.jpeg\n",
            "107\n",
            "/content/gdrive/My Drive/data/corona/test/NORMAL2-IM-0288-0001.jpeg\n",
            "108\n",
            "/content/gdrive/My Drive/data/corona/test/IM-0016-0001.jpeg\n",
            "109\n",
            "/content/gdrive/My Drive/data/corona/test/NORMAL2-IM-0310-0001.jpeg\n",
            "110\n",
            "/content/gdrive/My Drive/data/corona/test/NORMAL2-IM-0131-0001.jpeg\n",
            "111\n",
            "/content/gdrive/My Drive/data/corona/test/NORMAL2-IM-0333-0001.jpeg\n",
            "112\n",
            "/content/gdrive/My Drive/data/corona/test/IM-0017-0001.jpeg\n",
            "113\n",
            "/content/gdrive/My Drive/data/corona/test/NORMAL2-IM-0349-0001.jpeg\n",
            "114\n",
            "/content/gdrive/My Drive/data/corona/test/NORMAL2-IM-0369-0001.jpeg\n",
            "115\n",
            "/content/gdrive/My Drive/data/corona/test/NORMAL2-IM-0338-0001.jpeg\n",
            "116\n",
            "/content/gdrive/My Drive/data/corona/test/NORMAL2-IM-0337-0001.jpeg\n",
            "117\n",
            "/content/gdrive/My Drive/data/corona/test/NORMAL2-IM-0294-0001.jpeg\n",
            "118\n",
            "/content/gdrive/My Drive/data/corona/test/NORMAL2-IM-0337-0001.jpeg\n",
            "119\n",
            "/content/gdrive/My Drive/data/corona/test/NORMAL2-IM-0274-0001.jpeg\n",
            "120\n",
            "/content/gdrive/My Drive/data/corona/test/IM-0089-0001.jpeg\n",
            "121\n",
            "/content/gdrive/My Drive/data/corona/test/IM-0070-0001.jpeg\n",
            "122\n",
            "/content/gdrive/My Drive/data/corona/test/NORMAL2-IM-0105-0001.jpeg\n",
            "123\n",
            "/content/gdrive/My Drive/data/corona/test/NORMAL2-IM-0361-0001.jpeg\n",
            "124\n",
            "/content/gdrive/My Drive/data/corona/test/NORMAL2-IM-0287-0001.jpeg\n",
            "125\n",
            "/content/gdrive/My Drive/data/corona/test/NORMAL2-IM-0139-0001.jpeg\n",
            "126\n",
            "/content/gdrive/My Drive/data/corona/test/IM-0011-0001-0002.jpeg\n",
            "127\n",
            "/content/gdrive/My Drive/data/corona/test/IM-0009-0001.jpeg\n",
            "128\n",
            "/content/gdrive/My Drive/data/corona/test/IM-0027-0001.jpeg\n",
            "129\n",
            "/content/gdrive/My Drive/data/corona/test/NORMAL2-IM-0219-0001.jpeg\n",
            "130\n",
            "/content/gdrive/My Drive/data/corona/test/IM-0081-0001.jpeg\n",
            "131\n",
            "/content/gdrive/My Drive/data/corona/test/IM-0050-0001.jpeg\n",
            "132\n",
            "/content/gdrive/My Drive/data/corona/test/NORMAL2-IM-0207-0001.jpeg\n",
            "133\n",
            "/content/gdrive/My Drive/data/corona/test/IM-0033-0001.jpeg\n",
            "134\n",
            "/content/gdrive/My Drive/data/corona/test/NORMAL2-IM-0319-0001.jpeg\n",
            "135\n",
            "/content/gdrive/My Drive/data/corona/test/IM-0050-0001.jpeg\n",
            "136\n",
            "/content/gdrive/My Drive/data/corona/test/NORMAL2-IM-0150-0001.jpeg\n",
            "137\n",
            "/content/gdrive/My Drive/data/corona/test/NORMAL2-IM-0221-0001.jpeg\n",
            "138\n",
            "/content/gdrive/My Drive/data/corona/test/NORMAL2-IM-0353-0001.jpeg\n",
            "139\n",
            "/content/gdrive/My Drive/data/corona/test/NORMAL2-IM-0059-0001.jpeg\n"
          ],
          "name": "stdout"
        }
      ]
    },
    {
      "cell_type": "code",
      "metadata": {
        "id": "fzrLTb4XgOv6",
        "colab_type": "code",
        "outputId": "6a6096ea-3b59-4377-c697-42e04d462a8f",
        "colab": {
          "base_uri": "https://localhost:8080/",
          "height": 1000
        }
      },
      "source": [
        "num = 0\n",
        "\n",
        "for imgname in viral_testpnem['X_ray_image_name']:\n",
        "  path = TESTDATA_DIR + str(imgname)\n",
        "  img = cv2.imread(path)\n",
        "  \n",
        "  rimg = cv2.resize(img, (400, 400))\n",
        "    \n",
        "  rimg = rimg / 255.0\n",
        "\n",
        "  X_test.insert(0, rimg)\n",
        "  Y_test.insert(0, 1)\n",
        "  \n",
        "  print(num)\n",
        "  print(path)\n",
        "  num += 1\n",
        "\n",
        "  if(num>139):\n",
        "    break"
      ],
      "execution_count": 83,
      "outputs": [
        {
          "output_type": "stream",
          "text": [
            "0\n",
            "/content/gdrive/My Drive/data/corona/test/person1642_virus_2842.jpeg\n",
            "1\n",
            "/content/gdrive/My Drive/data/corona/test/person1670_virus_2886.jpeg\n",
            "2\n",
            "/content/gdrive/My Drive/data/corona/test/person1657_virus_2864.jpeg\n",
            "3\n",
            "/content/gdrive/My Drive/data/corona/test/person11_virus_38.jpeg\n",
            "4\n",
            "/content/gdrive/My Drive/data/corona/test/person19_virus_50.jpeg\n",
            "5\n",
            "/content/gdrive/My Drive/data/corona/test/person1640_virus_2839.jpeg\n",
            "6\n",
            "/content/gdrive/My Drive/data/corona/test/person1664_virus_2877.jpeg\n",
            "7\n",
            "/content/gdrive/My Drive/data/corona/test/person14_virus_44.jpeg\n",
            "8\n",
            "/content/gdrive/My Drive/data/corona/test/person53_virus_108.jpeg\n",
            "9\n",
            "/content/gdrive/My Drive/data/corona/test/person62_virus_119.jpeg\n",
            "10\n",
            "/content/gdrive/My Drive/data/corona/test/person1626_virus_2818.jpeg\n",
            "11\n",
            "/content/gdrive/My Drive/data/corona/test/person1_virus_9.jpeg\n",
            "12\n",
            "/content/gdrive/My Drive/data/corona/test/person3_virus_17.jpeg\n",
            "13\n",
            "/content/gdrive/My Drive/data/corona/test/person1626_virus_2818.jpeg\n",
            "14\n",
            "/content/gdrive/My Drive/data/corona/test/person71_virus_131.jpeg\n",
            "15\n",
            "/content/gdrive/My Drive/data/corona/test/person1629_virus_2823.jpeg\n",
            "16\n",
            "/content/gdrive/My Drive/data/corona/test/person1642_virus_2842.jpeg\n",
            "17\n",
            "/content/gdrive/My Drive/data/corona/test/person1667_virus_2881.jpeg\n",
            "18\n",
            "/content/gdrive/My Drive/data/corona/test/person76_virus_138.jpeg\n",
            "19\n",
            "/content/gdrive/My Drive/data/corona/test/person1642_virus_2842.jpeg\n",
            "20\n",
            "/content/gdrive/My Drive/data/corona/test/person1661_virus_2873.jpeg\n",
            "21\n",
            "/content/gdrive/My Drive/data/corona/test/person1634_virus_2830.jpeg\n",
            "22\n",
            "/content/gdrive/My Drive/data/corona/test/person41_virus_88.jpeg\n",
            "23\n",
            "/content/gdrive/My Drive/data/corona/test/person1679_virus_2896.jpeg\n",
            "24\n",
            "/content/gdrive/My Drive/data/corona/test/person1632_virus_2827.jpeg\n",
            "25\n",
            "/content/gdrive/My Drive/data/corona/test/person1651_virus_2855.jpeg\n",
            "26\n",
            "/content/gdrive/My Drive/data/corona/test/person1626_virus_2818.jpeg\n",
            "27\n",
            "/content/gdrive/My Drive/data/corona/test/person1628_virus_2822.jpeg\n",
            "28\n",
            "/content/gdrive/My Drive/data/corona/test/person30_virus_69.jpeg\n",
            "29\n",
            "/content/gdrive/My Drive/data/corona/test/person1_virus_7.jpeg\n",
            "30\n",
            "/content/gdrive/My Drive/data/corona/test/person22_virus_55.jpeg\n",
            "31\n",
            "/content/gdrive/My Drive/data/corona/test/person44_virus_94.jpeg\n",
            "32\n",
            "/content/gdrive/My Drive/data/corona/test/person1623_virus_2813.jpeg\n",
            "33\n",
            "/content/gdrive/My Drive/data/corona/test/person29_virus_64.jpeg\n",
            "34\n",
            "/content/gdrive/My Drive/data/corona/test/person1674_virus_2890.jpeg\n",
            "35\n",
            "/content/gdrive/My Drive/data/corona/test/person62_virus_119.jpeg\n",
            "36\n",
            "/content/gdrive/My Drive/data/corona/test/person14_virus_44.jpeg\n",
            "37\n",
            "/content/gdrive/My Drive/data/corona/test/person1628_virus_2821.jpeg\n",
            "38\n",
            "/content/gdrive/My Drive/data/corona/test/person1629_virus_2823.jpeg\n",
            "39\n",
            "/content/gdrive/My Drive/data/corona/test/person3_virus_16.jpeg\n",
            "40\n",
            "/content/gdrive/My Drive/data/corona/test/person67_virus_126.jpeg\n",
            "41\n",
            "/content/gdrive/My Drive/data/corona/test/person1632_virus_2827.jpeg\n",
            "42\n",
            "/content/gdrive/My Drive/data/corona/test/person1660_virus_2869.jpeg\n",
            "43\n",
            "/content/gdrive/My Drive/data/corona/test/person1671_virus_2887.jpeg\n",
            "44\n",
            "/content/gdrive/My Drive/data/corona/test/person69_virus_129.jpeg\n",
            "45\n",
            "/content/gdrive/My Drive/data/corona/test/person1653_virus_2858.jpeg\n",
            "46\n",
            "/content/gdrive/My Drive/data/corona/test/person45_virus_95.jpeg\n",
            "47\n",
            "/content/gdrive/My Drive/data/corona/test/person10_virus_35.jpeg\n",
            "48\n",
            "/content/gdrive/My Drive/data/corona/test/person25_virus_59.jpeg\n",
            "49\n",
            "/content/gdrive/My Drive/data/corona/test/person1665_virus_2878.jpeg\n",
            "50\n",
            "/content/gdrive/My Drive/data/corona/test/person1650_virus_2854.jpeg\n",
            "51\n",
            "/content/gdrive/My Drive/data/corona/test/person48_virus_100.jpeg\n",
            "52\n",
            "/content/gdrive/My Drive/data/corona/test/person31_virus_70.jpeg\n",
            "53\n",
            "/content/gdrive/My Drive/data/corona/test/person1640_virus_2839.jpeg\n",
            "54\n",
            "/content/gdrive/My Drive/data/corona/test/person1644_virus_2844.jpeg\n",
            "55\n",
            "/content/gdrive/My Drive/data/corona/test/person31_virus_70.jpeg\n",
            "56\n",
            "/content/gdrive/My Drive/data/corona/test/person1620_virus_2807.jpeg\n",
            "57\n",
            "/content/gdrive/My Drive/data/corona/test/person1623_virus_2813.jpeg\n",
            "58\n",
            "/content/gdrive/My Drive/data/corona/test/person1637_virus_2834.jpeg\n",
            "59\n",
            "/content/gdrive/My Drive/data/corona/test/person1682_virus_2899.jpeg\n",
            "60\n",
            "/content/gdrive/My Drive/data/corona/test/person1660_virus_2869.jpeg\n",
            "61\n",
            "/content/gdrive/My Drive/data/corona/test/person19_virus_50.jpeg\n",
            "62\n",
            "/content/gdrive/My Drive/data/corona/test/person74_virus_135.jpeg\n",
            "63\n",
            "/content/gdrive/My Drive/data/corona/test/person77_virus_139.jpeg\n",
            "64\n",
            "/content/gdrive/My Drive/data/corona/test/person1663_virus_2876.jpeg\n",
            "65\n",
            "/content/gdrive/My Drive/data/corona/test/person55_virus_110.jpeg\n",
            "66\n",
            "/content/gdrive/My Drive/data/corona/test/person57_virus_113.jpeg\n",
            "67\n",
            "/content/gdrive/My Drive/data/corona/test/person1643_virus_2843.jpeg\n",
            "68\n",
            "/content/gdrive/My Drive/data/corona/test/person1649_virus_2850.jpeg\n",
            "69\n",
            "/content/gdrive/My Drive/data/corona/test/person30_virus_69.jpeg\n",
            "70\n",
            "/content/gdrive/My Drive/data/corona/test/person1_virus_9.jpeg\n",
            "71\n",
            "/content/gdrive/My Drive/data/corona/test/person1628_virus_2822.jpeg\n",
            "72\n",
            "/content/gdrive/My Drive/data/corona/test/person46_virus_96.jpeg\n",
            "73\n",
            "/content/gdrive/My Drive/data/corona/test/person1619_virus_2806.jpeg\n",
            "74\n",
            "/content/gdrive/My Drive/data/corona/test/person71_virus_131.jpeg\n",
            "75\n",
            "/content/gdrive/My Drive/data/corona/test/person1612_virus_2797.jpeg\n",
            "76\n",
            "/content/gdrive/My Drive/data/corona/test/person47_virus_99.jpeg\n",
            "77\n",
            "/content/gdrive/My Drive/data/corona/test/person33_virus_72.jpeg\n",
            "78\n",
            "/content/gdrive/My Drive/data/corona/test/person1613_virus_2799.jpeg\n",
            "79\n",
            "/content/gdrive/My Drive/data/corona/test/person39_virus_85.jpeg\n",
            "80\n",
            "/content/gdrive/My Drive/data/corona/test/person28_virus_63.jpeg\n",
            "81\n",
            "/content/gdrive/My Drive/data/corona/test/person48_virus_100.jpeg\n",
            "82\n",
            "/content/gdrive/My Drive/data/corona/test/person8_virus_27.jpeg\n",
            "83\n",
            "/content/gdrive/My Drive/data/corona/test/person1632_virus_2827.jpeg\n",
            "84\n",
            "/content/gdrive/My Drive/data/corona/test/person1627_virus_2819.jpeg\n",
            "85\n",
            "/content/gdrive/My Drive/data/corona/test/person64_virus_122.jpeg\n",
            "86\n",
            "/content/gdrive/My Drive/data/corona/test/person1661_virus_2873.jpeg\n",
            "87\n",
            "/content/gdrive/My Drive/data/corona/test/person28_virus_63.jpeg\n",
            "88\n",
            "/content/gdrive/My Drive/data/corona/test/person71_virus_132.jpeg\n",
            "89\n",
            "/content/gdrive/My Drive/data/corona/test/person67_virus_126.jpeg\n",
            "90\n",
            "/content/gdrive/My Drive/data/corona/test/person24_virus_58.jpeg\n",
            "91\n",
            "/content/gdrive/My Drive/data/corona/test/person1668_virus_2882.jpeg\n",
            "92\n",
            "/content/gdrive/My Drive/data/corona/test/person1675_virus_2891.jpeg\n",
            "93\n",
            "/content/gdrive/My Drive/data/corona/test/person33_virus_72.jpeg\n",
            "94\n",
            "/content/gdrive/My Drive/data/corona/test/person20_virus_51.jpeg\n",
            "95\n",
            "/content/gdrive/My Drive/data/corona/test/person72_virus_133.jpeg\n",
            "96\n",
            "/content/gdrive/My Drive/data/corona/test/person25_virus_59.jpeg\n",
            "97\n",
            "/content/gdrive/My Drive/data/corona/test/person21_virus_52.jpeg\n",
            "98\n",
            "/content/gdrive/My Drive/data/corona/test/person1664_virus_2877.jpeg\n",
            "99\n",
            "/content/gdrive/My Drive/data/corona/test/person21_virus_53.jpeg\n",
            "100\n",
            "/content/gdrive/My Drive/data/corona/test/person71_virus_132.jpeg\n",
            "101\n",
            "/content/gdrive/My Drive/data/corona/test/person23_virus_56.jpeg\n",
            "102\n",
            "/content/gdrive/My Drive/data/corona/test/person1629_virus_2823.jpeg\n",
            "103\n",
            "/content/gdrive/My Drive/data/corona/test/person1676_virus_2892.jpeg\n",
            "104\n",
            "/content/gdrive/My Drive/data/corona/test/person74_virus_135.jpeg\n",
            "105\n",
            "/content/gdrive/My Drive/data/corona/test/person38_virus_84.jpeg\n",
            "106\n",
            "/content/gdrive/My Drive/data/corona/test/person10_virus_35.jpeg\n",
            "107\n",
            "/content/gdrive/My Drive/data/corona/test/person24_virus_58.jpeg\n",
            "108\n",
            "/content/gdrive/My Drive/data/corona/test/person70_virus_130.jpeg\n",
            "109\n",
            "/content/gdrive/My Drive/data/corona/test/person74_virus_135.jpeg\n",
            "110\n",
            "/content/gdrive/My Drive/data/corona/test/person1651_virus_2855.jpeg\n",
            "111\n",
            "/content/gdrive/My Drive/data/corona/test/person21_virus_53.jpeg\n",
            "112\n",
            "/content/gdrive/My Drive/data/corona/test/person50_virus_102.jpeg\n",
            "113\n",
            "/content/gdrive/My Drive/data/corona/test/person49_virus_101.jpeg\n",
            "114\n",
            "/content/gdrive/My Drive/data/corona/test/person1651_virus_2855.jpeg\n",
            "115\n",
            "/content/gdrive/My Drive/data/corona/test/person1657_virus_2864.jpeg\n",
            "116\n",
            "/content/gdrive/My Drive/data/corona/test/person19_virus_50.jpeg\n",
            "117\n",
            "/content/gdrive/My Drive/data/corona/test/person76_virus_138.jpeg\n",
            "118\n",
            "/content/gdrive/My Drive/data/corona/test/person75_virus_136.jpeg\n",
            "119\n",
            "/content/gdrive/My Drive/data/corona/test/person1_virus_7.jpeg\n",
            "120\n",
            "/content/gdrive/My Drive/data/corona/test/person29_virus_64.jpeg\n",
            "121\n",
            "/content/gdrive/My Drive/data/corona/test/person17_virus_48.jpeg\n",
            "122\n",
            "/content/gdrive/My Drive/data/corona/test/person1628_virus_2822.jpeg\n",
            "123\n",
            "/content/gdrive/My Drive/data/corona/test/person26_virus_60.jpeg\n",
            "124\n",
            "/content/gdrive/My Drive/data/corona/test/person72_virus_133.jpeg\n",
            "125\n",
            "/content/gdrive/My Drive/data/corona/test/person1678_virus_2895.jpeg\n",
            "126\n",
            "/content/gdrive/My Drive/data/corona/test/person25_virus_59.jpeg\n",
            "127\n",
            "/content/gdrive/My Drive/data/corona/test/person1632_virus_2827.jpeg\n",
            "128\n",
            "/content/gdrive/My Drive/data/corona/test/person45_virus_95.jpeg\n",
            "129\n",
            "/content/gdrive/My Drive/data/corona/test/person1628_virus_2822.jpeg\n",
            "130\n",
            "/content/gdrive/My Drive/data/corona/test/person22_virus_55.jpeg\n",
            "131\n",
            "/content/gdrive/My Drive/data/corona/test/person1653_virus_2858.jpeg\n",
            "132\n",
            "/content/gdrive/My Drive/data/corona/test/person41_virus_88.jpeg\n",
            "133\n",
            "/content/gdrive/My Drive/data/corona/test/person14_virus_44.jpeg\n",
            "134\n",
            "/content/gdrive/My Drive/data/corona/test/person1678_virus_2895.jpeg\n",
            "135\n",
            "/content/gdrive/My Drive/data/corona/test/person1671_virus_2887.jpeg\n",
            "136\n",
            "/content/gdrive/My Drive/data/corona/test/person1_virus_13.jpeg\n",
            "137\n",
            "/content/gdrive/My Drive/data/corona/test/person1664_virus_2877.jpeg\n",
            "138\n",
            "/content/gdrive/My Drive/data/corona/test/person1623_virus_2813.jpeg\n",
            "139\n",
            "/content/gdrive/My Drive/data/corona/test/person1669_virus_2885.jpeg\n"
          ],
          "name": "stdout"
        }
      ]
    },
    {
      "cell_type": "code",
      "metadata": {
        "id": "KnH7cRZwngAl",
        "colab_type": "code",
        "colab": {
          "base_uri": "https://localhost:8080/",
          "height": 74
        },
        "outputId": "9cf82f0b-6d62-4921-f002-d22cd2a8aac4"
      },
      "source": [
        "from sklearn.metrics import confusion_matrix\n",
        "from sklearn.metrics import classification_report\n",
        "\n",
        "import seaborn as sns\n",
        "import matplotlib.pyplot as plt\n"
      ],
      "execution_count": 69,
      "outputs": [
        {
          "output_type": "stream",
          "text": [
            "/usr/local/lib/python3.6/dist-packages/statsmodels/tools/_testing.py:19: FutureWarning: pandas.util.testing is deprecated. Use the functions in the public API at pandas.testing instead.\n",
            "  import pandas.util.testing as tm\n"
          ],
          "name": "stderr"
        }
      ]
    },
    {
      "cell_type": "code",
      "metadata": {
        "id": "oWi0sz_ooXFf",
        "colab_type": "code",
        "colab": {}
      },
      "source": [
        "X_test  = np.array(X_test)\n",
        "y_test  = np.array(Y_test)"
      ],
      "execution_count": 0,
      "outputs": []
    },
    {
      "cell_type": "code",
      "metadata": {
        "id": "hut_LvgBUXNJ",
        "colab_type": "code",
        "outputId": "ac11a363-0995-4d73-826d-3602a00f76e6",
        "colab": {
          "base_uri": "https://localhost:8080/",
          "height": 165
        }
      },
      "source": [
        "print(y_test)"
      ],
      "execution_count": 85,
      "outputs": [
        {
          "output_type": "stream",
          "text": [
            "[1 1 1 1 1 1 1 1 1 1 1 1 1 1 1 1 1 1 1 1 1 1 1 1 1 1 1 1 1 1 1 1 1 1 1 1 1\n",
            " 1 1 1 1 1 1 1 1 1 1 1 1 1 1 1 1 1 1 1 1 1 1 1 1 1 1 1 1 1 1 1 1 1 1 1 1 1\n",
            " 1 1 1 1 1 1 1 1 1 1 1 1 1 1 1 1 1 1 1 1 1 1 1 1 1 1 1 1 1 1 1 1 1 1 1 1 1\n",
            " 1 1 1 1 1 1 1 1 1 1 1 1 1 1 1 1 1 1 1 1 1 1 1 1 1 1 1 1 1 0 0 0 0 0 0 0 0\n",
            " 0 0 0 0 0 0 0 0 0 0 0 0 0 0 0 0 0 0 0 0 0 0 0 0 0 0 0 0 0 0 0 0 0 0 0 0 0\n",
            " 0 0 0 0 0 0 0 0 0 0 0 0 0 0 0 0 0 0 0 0 0 0 0 0 0 0 0 0 0 0 0 0 0 0 0 0 0\n",
            " 0 0 0 0 0 0 0 0 0 0 0 0 0 0 0 0 0 0 0 0 0 0 0 0 0 0 0 0 0 0 0 0 0 0 0 0 0\n",
            " 0 0 0 0 0 0 0 0 0 0 0 0 0 0 0 0 0 0 0 0 0]\n"
          ],
          "name": "stdout"
        }
      ]
    },
    {
      "cell_type": "code",
      "metadata": {
        "id": "7EJvJWstp6W0",
        "colab_type": "code",
        "colab": {}
      },
      "source": [
        "results = model.predict(X_test)"
      ],
      "execution_count": 0,
      "outputs": []
    },
    {
      "cell_type": "code",
      "metadata": {
        "id": "VDLwzPAEqAK1",
        "colab_type": "code",
        "colab": {}
      },
      "source": [
        "print(results)"
      ],
      "execution_count": 0,
      "outputs": []
    },
    {
      "cell_type": "code",
      "metadata": {
        "id": "xMnWuXC1ot1-",
        "colab_type": "code",
        "colab": {}
      },
      "source": [
        "test = np.argmax(model.predict(X_test), axis=-1)"
      ],
      "execution_count": 0,
      "outputs": []
    },
    {
      "cell_type": "code",
      "metadata": {
        "id": "DGTWWd0TpKbA",
        "colab_type": "code",
        "outputId": "accd685d-a502-43ac-cf64-b759c497915f",
        "colab": {
          "base_uri": "https://localhost:8080/",
          "height": 35
        }
      },
      "source": [
        "len(test)"
      ],
      "execution_count": 87,
      "outputs": [
        {
          "output_type": "execute_result",
          "data": {
            "text/plain": [
              "280"
            ]
          },
          "metadata": {
            "tags": []
          },
          "execution_count": 87
        }
      ]
    },
    {
      "cell_type": "code",
      "metadata": {
        "id": "7tILtqM8bFsB",
        "colab_type": "code",
        "colab": {
          "base_uri": "https://localhost:8080/",
          "height": 165
        },
        "outputId": "f8731f6e-ddcd-470d-dd86-3d6ff7269817"
      },
      "source": [
        "print(test)"
      ],
      "execution_count": 88,
      "outputs": [
        {
          "output_type": "stream",
          "text": [
            "[1 1 1 1 1 1 1 1 1 1 1 1 1 1 1 1 1 1 1 1 1 1 1 1 1 1 1 1 1 1 1 1 1 1 1 1 1\n",
            " 1 1 1 1 1 1 1 1 1 1 1 1 1 1 1 1 1 1 1 1 1 1 1 1 1 1 1 1 1 1 1 1 1 1 1 1 1\n",
            " 1 1 1 1 1 1 1 1 1 1 1 1 1 1 1 1 1 1 1 1 1 1 1 1 1 1 1 1 1 1 1 1 1 1 1 1 1\n",
            " 1 1 1 1 1 1 1 1 1 1 1 1 1 1 1 1 1 1 1 1 1 1 1 1 1 1 1 1 1 0 0 1 0 0 0 0 0\n",
            " 0 0 1 0 0 0 0 0 0 0 0 0 0 0 0 0 0 0 0 0 0 0 0 0 0 0 0 1 0 0 0 0 0 0 0 0 0\n",
            " 0 0 0 0 0 0 0 0 0 0 0 1 0 0 0 0 0 1 0 0 0 0 0 0 0 0 0 1 0 0 0 0 0 0 0 0 1\n",
            " 0 1 1 0 0 0 0 1 0 0 0 0 0 0 0 0 0 0 0 0 0 0 0 0 0 1 0 0 0 0 0 0 0 0 0 0 1\n",
            " 0 0 0 0 0 0 1 0 0 0 0 0 0 0 0 0 0 0 1 0 0]\n"
          ],
          "name": "stdout"
        }
      ]
    },
    {
      "cell_type": "code",
      "metadata": {
        "id": "wyyQjVvaOKSo",
        "colab_type": "code",
        "outputId": "bad164e2-f7f5-4313-8cf6-f609b472083c",
        "colab": {
          "base_uri": "https://localhost:8080/",
          "height": 287
        }
      },
      "source": [
        "from sklearn.metrics import confusion_matrix\n",
        "import seaborn as sns\n",
        "import matplotlib.pyplot as plt\n",
        "cm = confusion_matrix(y_test, model.predict_classes(X_test))\n",
        "sns.heatmap(cm, cmap='Blues', annot=True)"
      ],
      "execution_count": 89,
      "outputs": [
        {
          "output_type": "execute_result",
          "data": {
            "text/plain": [
              "<matplotlib.axes._subplots.AxesSubplot at 0x7f651dc82400>"
            ]
          },
          "metadata": {
            "tags": []
          },
          "execution_count": 89
        },
        {
          "output_type": "display_data",
          "data": {
            "image/png": "[encoded data removed]",
            "text/plain": [
              "<Figure size 432x288 with 2 Axes>"
            ]
          },
          "metadata": {
            "tags": [],
            "needs_background": "light"
          }
        }
      ]
    },
    {
      "cell_type": "code",
      "metadata": {
        "id": "XfFKjvfEOQxU",
        "colab_type": "code",
        "outputId": "ec360cc1-a5e3-43db-cdf0-6023432bc085",
        "colab": {
          "base_uri": "https://localhost:8080/",
          "height": 74
        }
      },
      "source": [
        "model.evaluate(X_test, y_test, verbose=1)"
      ],
      "execution_count": 90,
      "outputs": [
        {
          "output_type": "stream",
          "text": [
            "9/9 [==============================] - 0s 49ms/step - loss: 0.3247 - accuracy: 0.9500 - mae: 4.4391 - sparse_categorical_accuracy: 0.9500\n"
          ],
          "name": "stdout"
        },
        {
          "output_type": "execute_result",
          "data": {
            "text/plain": [
              "[0.3246895670890808, 0.949999988079071, 4.439093112945557, 0.949999988079071]"
            ]
          },
          "metadata": {
            "tags": []
          },
          "execution_count": 90
        }
      ]
    },
    {
      "cell_type": "code",
      "metadata": {
        "id": "sMBhvCSQu-ow",
        "colab_type": "code",
        "outputId": "3b008730-c32e-45a5-b6dc-19a58cf1a9aa",
        "colab": {
          "base_uri": "https://localhost:8080/",
          "height": 55
        }
      },
      "source": [
        "# evaluate the model\n",
        "scores = model.evaluate(test_generator, steps=200, verbose=1)\n"
      ],
      "execution_count": 79,
      "outputs": [
        {
          "output_type": "stream",
          "text": [
            "200/200 [==============================] - 217s 1s/step - loss: 0.7626 - accuracy: 0.8870 - mae: 4.7768 - sparse_categorical_accuracy: 0.8870\n"
          ],
          "name": "stdout"
        }
      ]
    },
    {
      "cell_type": "code",
      "metadata": {
        "id": "TCnlf3tkvx46",
        "colab_type": "code",
        "outputId": "4bf9bb75-ac21-47a8-8add-d16c535a81a8",
        "colab": {
          "base_uri": "https://localhost:8080/",
          "height": 91
        }
      },
      "source": [
        "print(\"%s: %f\" % (model.metrics_names[0], scores[0]))\n",
        "print(\"%s: %f\" % (model.metrics_names[1], scores[1]))\n",
        "print(\"%s: %f\" % (model.metrics_names[2], scores[2]))\n",
        "print(\"%s: %f\" % (model.metrics_names[3], scores[3]))\n"
      ],
      "execution_count": 80,
      "outputs": [
        {
          "output_type": "stream",
          "text": [
            "loss: 0.762620\n",
            "accuracy: 0.887013\n",
            "mae: 4.776789\n",
            "sparse_categorical_accuracy: 0.887013\n"
          ],
          "name": "stdout"
        }
      ]
    },
    {
      "cell_type": "code",
      "metadata": {
        "id": "d01C0_mgw2EX",
        "colab_type": "code",
        "outputId": "587b0620-1049-46af-971c-9589c1707a47",
        "colab": {
          "base_uri": "https://localhost:8080/",
          "height": 35
        }
      },
      "source": [
        "# save model and architecture to single file\n",
        "model.save(DATASET_DIR+ \"/tf2viralmodel.h5\")\n",
        "print(\"Saved model to disk\")"
      ],
      "execution_count": 81,
      "outputs": [
        {
          "output_type": "stream",
          "text": [
            "Saved model to disk\n"
          ],
          "name": "stdout"
        }
      ]
    }
  ]
}