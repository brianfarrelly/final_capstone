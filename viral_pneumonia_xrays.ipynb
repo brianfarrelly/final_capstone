{
  "nbformat": 4,
  "nbformat_minor": 0,
  "metadata": {
    "kernelspec": {
      "display_name": "Python 3",
      "language": "python",
      "name": "python3"
    },
    "language_info": {
      "codemirror_mode": {
        "name": "ipython",
        "version": 3
      },
      "file_extension": ".py",
      "mimetype": "text/x-python",
      "name": "python",
      "nbconvert_exporter": "python",
      "pygments_lexer": "ipython3",
      "version": "3.6.6"
    },
    "colab": {
      "name": "viral_pneumonia_xrays.ipynb",
      "provenance": [],
      "collapsed_sections": [],
      "machine_shape": "hm",
      "include_colab_link": true
    },
    "accelerator": "GPU"
  },
  "cells": [
    {
      "cell_type": "markdown",
      "metadata": {
        "id": "view-in-github",
        "colab_type": "text"
      },
      "source": [
        "<a href=\"https://colab.research.google.com/github/brianfarrelly/final_capstone/blob/master/viral_pneumonia_xrays.ipynb\" target=\"_parent\"><img src=\"https://colab.research.google.com/assets/colab-badge.svg\" alt=\"Open In Colab\"/></a>"
      ]
    },
    {
      "cell_type": "code",
      "metadata": {
        "_cell_guid": "b1076dfc-b9ad-4769-8c92-a6c4dae69d19",
        "_uuid": "8f2839f25d086af736a60e9eeb907d3b93b6e0e5",
        "id": "5pggbN2egRnC",
        "colab_type": "code",
        "colab": {}
      },
      "source": [
        "import os\n",
        "import numpy as np\n",
        "import pandas as pd\n",
        "\n",
        "from google.colab import drive\n",
        "\n",
        "\n",
        "import matplotlib.pyplot as plt\n",
        "%matplotlib inline"
      ],
      "execution_count": 0,
      "outputs": []
    },
    {
      "cell_type": "code",
      "metadata": {
        "id": "IlXTKOuqIH-b",
        "colab_type": "code",
        "colab": {}
      },
      "source": [
        "import tensorflow as tf\n",
        "from tensorflow import keras\n",
        "from tensorflow.keras import layers\n",
        "from tensorflow.keras.models import Sequential, Model\n",
        "from tensorflow.keras.preprocessing.image import ImageDataGenerator,load_img, img_to_array\n",
        "from tensorflow.keras.layers import Conv2D, MaxPooling2D,GlobalAveragePooling2D\n",
        "from tensorflow.keras.layers import Activation, Dropout, BatchNormalization, Flatten, Dense, AvgPool2D,MaxPool2D\n",
        "from tensorflow.keras.models import Sequential, Model\n",
        "from tensorflow.keras.applications.vgg16 import VGG16, preprocess_input\n",
        "from tensorflow.keras.optimizers import Adam, SGD, RMSprop\n"
      ],
      "execution_count": 0,
      "outputs": []
    },
    {
      "cell_type": "code",
      "metadata": {
        "id": "gK0jvntfIZjz",
        "colab_type": "code",
        "outputId": "f3510a54-fd6c-4ead-99b9-24fe56a0788c",
        "colab": {
          "base_uri": "https://localhost:8080/",
          "height": 35
        }
      },
      "source": [
        "print(tf.__version__)"
      ],
      "execution_count": 3,
      "outputs": [
        {
          "output_type": "stream",
          "text": [
            "2.2.0\n"
          ],
          "name": "stdout"
        }
      ]
    },
    {
      "cell_type": "code",
      "metadata": {
        "id": "7WLizcDshD3T",
        "colab_type": "code",
        "outputId": "56a889ae-be68-4700-9ea6-69157a0eeec7",
        "colab": {
          "base_uri": "https://localhost:8080/",
          "height": 129
        }
      },
      "source": [
        "drive.mount('/content/gdrive',force_remount=True)"
      ],
      "execution_count": 4,
      "outputs": [
        {
          "output_type": "stream",
          "text": [
            "Go to this URL in a browser: https://accounts.google.com/o/oauth2/auth?client_id=947318989803-6bn6qk8qdgf4n4g3pfee6491hc0brc4i.apps.googleusercontent.com&redirect_uri=urn%3aietf%3awg%3aoauth%3a2.0%3aoob&response_type=code&scope=email%20https%3a%2f%2fwww.googleapis.com%2fauth%2fdocs.test%20https%3a%2f%2fwww.googleapis.com%2fauth%2fdrive%20https%3a%2f%2fwww.googleapis.com%2fauth%2fdrive.photos.readonly%20https%3a%2f%2fwww.googleapis.com%2fauth%2fpeopleapi.readonly\n",
            "\n",
            "Enter your authorization code:\n",
            "··········\n",
            "Mounted at /content/gdrive\n"
          ],
          "name": "stdout"
        }
      ]
    },
    {
      "cell_type": "code",
      "metadata": {
        "id": "f1qh0s4jgRnK",
        "colab_type": "code",
        "colab": {}
      },
      "source": [
        "DATASET_DIR = \"/content/gdrive/My Drive/data/coronadata/normal_viral/\""
      ],
      "execution_count": 0,
      "outputs": []
    },
    {
      "cell_type": "code",
      "metadata": {
        "id": "oRoJQmdWgRnW",
        "colab_type": "code",
        "outputId": "a0add30a-0728-410b-c4a6-241bf091b4a1",
        "colab": {
          "base_uri": "https://localhost:8080/",
          "height": 146
        }
      },
      "source": [
        "os.listdir(DATASET_DIR)\n"
      ],
      "execution_count": 6,
      "outputs": [
        {
          "output_type": "execute_result",
          "data": {
            "text/plain": [
              "['train',\n",
              " 'test',\n",
              " 'viralmodel.h5',\n",
              " 'tfviralmodel.h5',\n",
              " 'tf2viralmodel.h5',\n",
              " 'binaryviralmodel.h5',\n",
              " 'epochs']"
            ]
          },
          "metadata": {
            "tags": []
          },
          "execution_count": 6
        }
      ]
    },
    {
      "cell_type": "code",
      "metadata": {
        "id": "GZBocuAagRnb",
        "colab_type": "code",
        "outputId": "05029944-0d8b-4819-c129-f4e68f9bd828",
        "colab": {
          "base_uri": "https://localhost:8080/",
          "height": 568
        }
      },
      "source": [
        "import glob\n",
        "import matplotlib.pyplot as plt\n",
        "import matplotlib.image as mpimg\n",
        "%matplotlib inline\n",
        "\n",
        "normal_images = []\n",
        "for img_path in glob.glob(DATASET_DIR + '/train/normal/*'):\n",
        "    normal_images.append(mpimg.imread(img_path))\n",
        "    break\n",
        "\n",
        "fig = plt.figure()\n",
        "fig.suptitle('normal')\n",
        "plt.imshow(normal_images[0], cmap='gray') \n",
        "\n",
        "covid_images = []\n",
        "for img_path in glob.glob(DATASET_DIR + '/train/viral/*'):\n",
        "    covid_images.append(mpimg.imread(img_path))\n",
        "    break\n",
        "\n",
        "fig = plt.figure()\n",
        "fig.suptitle('viral pneumonia')\n",
        "plt.imshow(covid_images[0], cmap='gray') "
      ],
      "execution_count": 7,
      "outputs": [
        {
          "output_type": "execute_result",
          "data": {
            "text/plain": [
              "<matplotlib.image.AxesImage at 0x7f29a0a27320>"
            ]
          },
          "metadata": {
            "tags": []
          },
          "execution_count": 7
        },
        {
          "output_type": "display_data",
          "data": {
            "image/png": "[encoded data removed]",
            "text/plain": [
              "<Figure size 432x288 with 1 Axes>"
            ]
          },
          "metadata": {
            "tags": [],
            "needs_background": "light"
          }
        },
        {
          "output_type": "display_data",
          "data": {
            "image/png": "[encoded data removed]",
            "text/plain": [
              "<Figure size 432x288 with 1 Axes>"
            ]
          },
          "metadata": {
            "tags": [],
            "needs_background": "light"
          }
        }
      ]
    },
    {
      "cell_type": "code",
      "metadata": {
        "id": "vvMzxaQUgRnl",
        "colab_type": "code",
        "colab": {}
      },
      "source": [
        "IMG_W = 400\n",
        "IMG_H = 400\n",
        "CHANNELS = 3\n",
        "\n",
        "INPUT_SHAPE = (IMG_W, IMG_H, CHANNELS)\n",
        "NB_CLASSES = 2\n",
        "EPOCHS = 48\n",
        "BATCH_SIZE = 6"
      ],
      "execution_count": 0,
      "outputs": []
    },
    {
      "cell_type": "code",
      "metadata": {
        "id": "j2576WqbgRnq",
        "colab_type": "code",
        "colab": {}
      },
      "source": [
        "model = Sequential()\n",
        "model.add(Conv2D(32, (3, 3), input_shape=INPUT_SHAPE))\n",
        "model.add(Activation('relu'))\n",
        "model.add(MaxPooling2D(pool_size=(2, 2)))\n",
        "\n",
        "model.add(Conv2D(32, (3, 3)))\n",
        "model.add(Activation('relu'))\n",
        "model.add(MaxPooling2D(pool_size=(2, 2)))\n",
        "\n",
        "\n",
        "model.add(Conv2D(64,(3,3)))\n",
        "model.add(Activation(\"relu\"))\n",
        "model.add(Conv2D(250,(3,3)))\n",
        "model.add(Activation(\"relu\"))\n",
        "  \n",
        "model.add(Conv2D(128,(3,3)))\n",
        "model.add(Activation(\"relu\"))\n",
        "model.add(AvgPool2D(2,2))\n",
        "model.add(Conv2D(64,(3,3)))\n",
        "model.add(Activation(\"relu\"))\n",
        "model.add(AvgPool2D(2,2))\n",
        "\n",
        "model.add(Conv2D(256,(2,2)))\n",
        "model.add(Activation(\"relu\"))\n",
        "model.add(MaxPool2D(2,2))\n",
        "    \n",
        "model.add(Flatten())\n",
        "model.add(Dense(32))\n",
        "model.add(Dropout(0.25))\n",
        "\n",
        "#model.add(Dense(2))\n",
        "\n",
        "model.add(Dense(1))\n",
        "model.add(Activation(\"sigmoid\"))"
      ],
      "execution_count": 0,
      "outputs": []
    },
    {
      "cell_type": "code",
      "metadata": {
        "id": "iC4u5drFgRnw",
        "colab_type": "code",
        "outputId": "a9e4cf47-7fd8-4a59-c413-c0683b8b8f2e",
        "colab": {
          "base_uri": "https://localhost:8080/",
          "height": 1000
        }
      },
      "source": [
        "model.summary()"
      ],
      "execution_count": 9,
      "outputs": [
        {
          "output_type": "stream",
          "text": [
            "Model: \"sequential\"\n",
            "_________________________________________________________________\n",
            "Layer (type)                 Output Shape              Param #   \n",
            "=================================================================\n",
            "conv2d (Conv2D)              (None, 398, 398, 32)      896       \n",
            "_________________________________________________________________\n",
            "activation (Activation)      (None, 398, 398, 32)      0         \n",
            "_________________________________________________________________\n",
            "max_pooling2d (MaxPooling2D) (None, 199, 199, 32)      0         \n",
            "_________________________________________________________________\n",
            "conv2d_1 (Conv2D)            (None, 197, 197, 32)      9248      \n",
            "_________________________________________________________________\n",
            "activation_1 (Activation)    (None, 197, 197, 32)      0         \n",
            "_________________________________________________________________\n",
            "max_pooling2d_1 (MaxPooling2 (None, 98, 98, 32)        0         \n",
            "_________________________________________________________________\n",
            "conv2d_2 (Conv2D)            (None, 96, 96, 64)        18496     \n",
            "_________________________________________________________________\n",
            "activation_2 (Activation)    (None, 96, 96, 64)        0         \n",
            "_________________________________________________________________\n",
            "conv2d_3 (Conv2D)            (None, 94, 94, 250)       144250    \n",
            "_________________________________________________________________\n",
            "activation_3 (Activation)    (None, 94, 94, 250)       0         \n",
            "_________________________________________________________________\n",
            "conv2d_4 (Conv2D)            (None, 92, 92, 128)       288128    \n",
            "_________________________________________________________________\n",
            "activation_4 (Activation)    (None, 92, 92, 128)       0         \n",
            "_________________________________________________________________\n",
            "average_pooling2d (AveragePo (None, 46, 46, 128)       0         \n",
            "_________________________________________________________________\n",
            "conv2d_5 (Conv2D)            (None, 44, 44, 64)        73792     \n",
            "_________________________________________________________________\n",
            "activation_5 (Activation)    (None, 44, 44, 64)        0         \n",
            "_________________________________________________________________\n",
            "average_pooling2d_1 (Average (None, 22, 22, 64)        0         \n",
            "_________________________________________________________________\n",
            "conv2d_6 (Conv2D)            (None, 21, 21, 256)       65792     \n",
            "_________________________________________________________________\n",
            "activation_6 (Activation)    (None, 21, 21, 256)       0         \n",
            "_________________________________________________________________\n",
            "max_pooling2d_2 (MaxPooling2 (None, 10, 10, 256)       0         \n",
            "_________________________________________________________________\n",
            "flatten (Flatten)            (None, 25600)             0         \n",
            "_________________________________________________________________\n",
            "dense (Dense)                (None, 32)                819232    \n",
            "_________________________________________________________________\n",
            "dropout (Dropout)            (None, 32)                0         \n",
            "_________________________________________________________________\n",
            "dense_1 (Dense)              (None, 1)                 33        \n",
            "_________________________________________________________________\n",
            "activation_7 (Activation)    (None, 1)                 0         \n",
            "=================================================================\n",
            "Total params: 1,419,867\n",
            "Trainable params: 1,419,867\n",
            "Non-trainable params: 0\n",
            "_________________________________________________________________\n"
          ],
          "name": "stdout"
        }
      ]
    },
    {
      "cell_type": "code",
      "metadata": {
        "id": "4oOtMCmxGiPf",
        "colab_type": "code",
        "colab": {}
      },
      "source": [
        "model.compile(optimizer='adam',\n",
        "              loss='binary_crossentropy',\n",
        "              metrics=['accuracy'])\n"
      ],
      "execution_count": 0,
      "outputs": []
    },
    {
      "cell_type": "code",
      "metadata": {
        "id": "x_IMBLaqUugH",
        "colab_type": "code",
        "colab": {}
      },
      "source": [
        "DATASET_DIR = \"/content/gdrive/My Drive/data/coronadata/normal_viral/\""
      ],
      "execution_count": 0,
      "outputs": []
    },
    {
      "cell_type": "code",
      "metadata": {
        "id": "1GJCN83HlGTY",
        "colab_type": "code",
        "outputId": "09611cbb-a42d-40ea-9efe-4949eddfb63c",
        "colab": {
          "base_uri": "https://localhost:8080/",
          "height": 35
        }
      },
      "source": [
        "print(DATASET_DIR)"
      ],
      "execution_count": 11,
      "outputs": [
        {
          "output_type": "stream",
          "text": [
            "/content/gdrive/My Drive/data/coronadata/normal_viral/\n"
          ],
          "name": "stdout"
        }
      ]
    },
    {
      "cell_type": "code",
      "metadata": {
        "id": "k9JvdCE6l4w8",
        "colab_type": "code",
        "colab": {}
      },
      "source": [
        "train_datagen = ImageDataGenerator(\n",
        "    rescale=1./255,\n",
        "    shear_range=0.2,\n",
        "    zoom_range=0.2,\n",
        "    horizontal_flip=True,\n",
        "    validation_split=0.2\n",
        "    )\n",
        "\n",
        "valid_datagen = ImageDataGenerator(rescale=1./255)\n",
        "\n",
        "test_datagen = ImageDataGenerator(rescale=1./255)\n",
        "\n"
      ],
      "execution_count": 0,
      "outputs": []
    },
    {
      "cell_type": "code",
      "metadata": {
        "id": "5dlQbpx7ilOA",
        "colab_type": "code",
        "outputId": "0ad50c7b-23d1-40a7-96c2-121f13d32b9d",
        "colab": {
          "base_uri": "https://localhost:8080/",
          "height": 72
        }
      },
      "source": [
        "train_generator = train_datagen.flow_from_directory(\n",
        "    directory=DATASET_DIR + \"/train/\",\n",
        "    target_size=(IMG_W, IMG_H),\n",
        "    color_mode=\"rgb\",\n",
        "    batch_size=32,\n",
        "    class_mode=\"binary\",\n",
        "    shuffle=True,\n",
        "    seed=42,\n",
        "    subset='training'\n",
        ")\n",
        "\n",
        "valid_generator = train_datagen.flow_from_directory(\n",
        "    directory=DATASET_DIR + \"/train/\",\n",
        "    target_size=(IMG_W, IMG_H),\n",
        "    color_mode=\"rgb\",\n",
        "    batch_size=32,\n",
        "    class_mode=\"binary\",\n",
        "    shuffle=True,\n",
        "    seed=42,\n",
        "    subset='validation'\n",
        ")\n",
        "\n",
        "test_generator = test_datagen.flow_from_directory(\n",
        "    directory=DATASET_DIR + \"/test/\",\n",
        "    target_size=(IMG_W, IMG_H),\n",
        "    color_mode=\"rgb\",\n",
        "    batch_size=32,\n",
        "    class_mode='binary',\n",
        "    shuffle=False,\n",
        "    seed=42\n",
        ")\n"
      ],
      "execution_count": 13,
      "outputs": [
        {
          "output_type": "stream",
          "text": [
            "Found 2080 images belonging to 2 classes.\n",
            "Found 520 images belonging to 2 classes.\n",
            "Found 400 images belonging to 2 classes.\n"
          ],
          "name": "stdout"
        }
      ]
    },
    {
      "cell_type": "markdown",
      "metadata": {
        "id": "gJz_W95xrmH3",
        "colab_type": "text"
      },
      "source": [
        "\n",
        "\n",
        "---\n",
        "\n",
        "\n",
        "---\n",
        "\n",
        "\n",
        "\n",
        "---\n",
        "\n",
        "\n",
        "\n",
        "---\n",
        "\n",
        "\n",
        "\n",
        "---\n",
        "\n",
        "Tensorboard\n",
        "\n",
        "\n",
        "\n",
        "---\n",
        "\n",
        "\n",
        "\n",
        "---\n",
        "\n",
        "\n",
        "\n",
        "---\n",
        "\n",
        "\n",
        "\n",
        "---\n",
        "\n",
        "\n",
        "\n",
        "---\n",
        "\n",
        "\n",
        "\n",
        "---\n",
        "\n"
      ]
    },
    {
      "cell_type": "code",
      "metadata": {
        "id": "G1NjWkoXrfdO",
        "colab_type": "code",
        "colab": {}
      },
      "source": [
        "# Load the TensorBoard notebook extension\n",
        "%load_ext tensorboard"
      ],
      "execution_count": 0,
      "outputs": []
    },
    {
      "cell_type": "code",
      "metadata": {
        "id": "QifKaJyTq6aI",
        "colab_type": "code",
        "colab": {}
      },
      "source": [
        "%tensorboard --logdir logs"
      ],
      "execution_count": 0,
      "outputs": []
    },
    {
      "cell_type": "code",
      "metadata": {
        "id": "0MvPjkjmq2oj",
        "colab_type": "code",
        "colab": {}
      },
      "source": [
        "import tensorflow as tf\n",
        "import datetime, os"
      ],
      "execution_count": 0,
      "outputs": []
    },
    {
      "cell_type": "code",
      "metadata": {
        "id": "acRte3g3qzRH",
        "colab_type": "code",
        "colab": {}
      },
      "source": [
        "logdir = os.path.join(\"logs\", datetime.datetime.now().strftime(\"%Y%m%d-%H%M%S\"))\n",
        "tensorboard_callback = tf.keras.callbacks.TensorBoard(logdir, histogram_freq=1)\n"
      ],
      "execution_count": 0,
      "outputs": []
    },
    {
      "cell_type": "code",
      "metadata": {
        "id": "X-UoeeGKF4IN",
        "colab_type": "code",
        "colab": {}
      },
      "source": [
        "history = model.fit(\n",
        "    train_generator,\n",
        "    steps_per_epoch = 4,\n",
        "    epochs = 50,\n",
        "    callbacks=[tensorboard_callback])\n"
      ],
      "execution_count": 0,
      "outputs": []
    },
    {
      "cell_type": "markdown",
      "metadata": {
        "id": "kXWWQPWArvGe",
        "colab_type": "text"
      },
      "source": [
        "\n",
        "\n",
        "---\n",
        "\n",
        "\n",
        "\n",
        "---\n",
        "\n",
        "\n",
        "\n",
        "---\n",
        "\n",
        "\n",
        "\n",
        "---\n",
        "\n",
        "Save model by Epochs.\n",
        "\n",
        "---\n",
        "\n",
        "\n",
        "\n",
        "---\n",
        "\n",
        "\n",
        "\n",
        "---\n",
        "\n",
        "\n",
        "\n",
        "---\n",
        "\n",
        "\n",
        "\n",
        "---\n",
        "\n"
      ]
    },
    {
      "cell_type": "code",
      "metadata": {
        "id": "hvVm7xLfwQEF",
        "colab_type": "code",
        "outputId": "ef4a8a16-bdf9-4234-a5e3-131f0f00ec5b",
        "colab": {
          "base_uri": "https://localhost:8080/",
          "height": 35
        }
      },
      "source": [
        "print(DATASET_DIR)"
      ],
      "execution_count": 29,
      "outputs": [
        {
          "output_type": "stream",
          "text": [
            "/content/gdrive/My Drive/data/coronadata/normal_viral/\n"
          ],
          "name": "stdout"
        }
      ]
    },
    {
      "cell_type": "code",
      "metadata": {
        "id": "Cuj8no0Bv4ya",
        "colab_type": "code",
        "colab": {}
      },
      "source": [
        "from tensorflow.keras.callbacks import *\n",
        "\n",
        "DATASET_DIR\n",
        "\n",
        "filepath = DATASET_DIR + \"epochs/epochs:{epoch:03d}-accuracy:{accuracy:.3f}.hdf5\"\n",
        "\n",
        "checkpoint = ModelCheckpoint(filepath, monitor='accuracy', verbose=1, save_best_only=False, mode='max')\n",
        "\n",
        "callbacks_list = [checkpoint]"
      ],
      "execution_count": 0,
      "outputs": []
    },
    {
      "cell_type": "markdown",
      "metadata": {
        "id": "Kxeb7clyzS5r",
        "colab_type": "text"
      },
      "source": [
        "\n",
        "\n",
        "---\n",
        "\n",
        "\n",
        "\n",
        "---\n",
        "\n",
        "\n",
        "\n",
        "---\n",
        "\n",
        "\n",
        "\n",
        "---\n",
        "\n",
        "\n",
        "\n",
        "---\n",
        "\n",
        "\n",
        "\n",
        "---\n",
        "\n",
        "\n",
        "\n",
        "---\n",
        "\n"
      ]
    },
    {
      "cell_type": "code",
      "metadata": {
        "id": "J7bVeXGYukOJ",
        "colab_type": "code",
        "outputId": "1b5372e6-1612-41d1-fde5-a7d044baeeb8",
        "colab": {
          "base_uri": "https://localhost:8080/",
          "height": 1000
        }
      },
      "source": [
        "history = model.fit(\n",
        "    train_generator,\n",
        "    steps_per_epoch = 128,\n",
        "    validation_data = valid_generator, \n",
        "    validation_steps = 32,\n",
        "    epochs = 100,\n",
        "    callbacks=callbacks_list\n",
        "    )"
      ],
      "execution_count": 17,
      "outputs": [
        {
          "output_type": "stream",
          "text": [
            "Epoch 1/100\n",
            "128/128 [==============================] - ETA: 0s - loss: 0.6881 - accuracy: 0.5652\n",
            "Epoch 00001: saving model to /content/gdrive/My Drive/data/coronadata/normal_viral/epochs/epochs:001-accuracy:0.565.hdf5\n",
            "128/128 [==============================] - 827s 6s/step - loss: 0.6881 - accuracy: 0.5652 - val_loss: 0.6659 - val_accuracy: 0.5950\n",
            "Epoch 2/100\n",
            "128/128 [==============================] - ETA: 0s - loss: 0.7228 - accuracy: 0.5989\n",
            "Epoch 00002: saving model to /content/gdrive/My Drive/data/coronadata/normal_viral/epochs/epochs:002-accuracy:0.599.hdf5\n",
            "128/128 [==============================] - 249s 2s/step - loss: 0.7228 - accuracy: 0.5989 - val_loss: 0.6737 - val_accuracy: 0.5574\n",
            "Epoch 3/100\n",
            "128/128 [==============================] - ETA: 0s - loss: 0.6457 - accuracy: 0.6697\n",
            "Epoch 00003: saving model to /content/gdrive/My Drive/data/coronadata/normal_viral/epochs/epochs:003-accuracy:0.670.hdf5\n",
            "128/128 [==============================] - 248s 2s/step - loss: 0.6457 - accuracy: 0.6697 - val_loss: 0.6149 - val_accuracy: 0.7162\n",
            "Epoch 4/100\n",
            "128/128 [==============================] - ETA: 0s - loss: 0.5781 - accuracy: 0.7058\n",
            "Epoch 00004: saving model to /content/gdrive/My Drive/data/coronadata/normal_viral/epochs/epochs:004-accuracy:0.706.hdf5\n",
            "128/128 [==============================] - 250s 2s/step - loss: 0.5781 - accuracy: 0.7058 - val_loss: 0.5496 - val_accuracy: 0.7520\n",
            "Epoch 5/100\n",
            "128/128 [==============================] - ETA: 0s - loss: 0.4879 - accuracy: 0.7881\n",
            "Epoch 00005: saving model to /content/gdrive/My Drive/data/coronadata/normal_viral/epochs/epochs:005-accuracy:0.788.hdf5\n",
            "128/128 [==============================] - 249s 2s/step - loss: 0.4879 - accuracy: 0.7881 - val_loss: 0.5095 - val_accuracy: 0.7469\n",
            "Epoch 6/100\n",
            "128/128 [==============================] - ETA: 0s - loss: 0.3000 - accuracy: 0.8889\n",
            "Epoch 00006: saving model to /content/gdrive/My Drive/data/coronadata/normal_viral/epochs/epochs:006-accuracy:0.889.hdf5\n",
            "128/128 [==============================] - 249s 2s/step - loss: 0.3000 - accuracy: 0.8889 - val_loss: 0.2789 - val_accuracy: 0.8668\n",
            "Epoch 7/100\n",
            "128/128 [==============================] - ETA: 0s - loss: 0.2147 - accuracy: 0.9207\n",
            "Epoch 00007: saving model to /content/gdrive/My Drive/data/coronadata/normal_viral/epochs/epochs:007-accuracy:0.921.hdf5\n",
            "128/128 [==============================] - 250s 2s/step - loss: 0.2147 - accuracy: 0.9207 - val_loss: 0.2796 - val_accuracy: 0.9293\n",
            "Epoch 8/100\n",
            "128/128 [==============================] - ETA: 0s - loss: 0.1957 - accuracy: 0.9307\n",
            "Epoch 00008: saving model to /content/gdrive/My Drive/data/coronadata/normal_viral/epochs/epochs:008-accuracy:0.931.hdf5\n",
            "128/128 [==============================] - 248s 2s/step - loss: 0.1957 - accuracy: 0.9307 - val_loss: 0.2246 - val_accuracy: 0.9088\n",
            "Epoch 9/100\n",
            "128/128 [==============================] - ETA: 0s - loss: 0.1840 - accuracy: 0.9404\n",
            "Epoch 00009: saving model to /content/gdrive/My Drive/data/coronadata/normal_viral/epochs/epochs:009-accuracy:0.940.hdf5\n",
            "128/128 [==============================] - 250s 2s/step - loss: 0.1840 - accuracy: 0.9404 - val_loss: 0.2312 - val_accuracy: 0.8965\n",
            "Epoch 10/100\n",
            "128/128 [==============================] - ETA: 0s - loss: 0.1873 - accuracy: 0.9321\n",
            "Epoch 00010: saving model to /content/gdrive/My Drive/data/coronadata/normal_viral/epochs/epochs:010-accuracy:0.932.hdf5\n",
            "128/128 [==============================] - 252s 2s/step - loss: 0.1873 - accuracy: 0.9321 - val_loss: 0.2077 - val_accuracy: 0.9180\n",
            "Epoch 11/100\n",
            "128/128 [==============================] - ETA: 0s - loss: 0.1810 - accuracy: 0.9407\n",
            "Epoch 00011: saving model to /content/gdrive/My Drive/data/coronadata/normal_viral/epochs/epochs:011-accuracy:0.941.hdf5\n",
            "128/128 [==============================] - 251s 2s/step - loss: 0.1810 - accuracy: 0.9407 - val_loss: 0.2045 - val_accuracy: 0.9232\n",
            "Epoch 12/100\n",
            "128/128 [==============================] - ETA: 0s - loss: 0.1904 - accuracy: 0.9307\n",
            "Epoch 00012: saving model to /content/gdrive/My Drive/data/coronadata/normal_viral/epochs/epochs:012-accuracy:0.931.hdf5\n",
            "128/128 [==============================] - 251s 2s/step - loss: 0.1904 - accuracy: 0.9307 - val_loss: 0.2304 - val_accuracy: 0.9180\n",
            "Epoch 13/100\n",
            "128/128 [==============================] - ETA: 0s - loss: 0.1862 - accuracy: 0.9358\n",
            "Epoch 00013: saving model to /content/gdrive/My Drive/data/coronadata/normal_viral/epochs/epochs:013-accuracy:0.936.hdf5\n",
            "128/128 [==============================] - 250s 2s/step - loss: 0.1862 - accuracy: 0.9358 - val_loss: 0.2096 - val_accuracy: 0.9232\n",
            "Epoch 14/100\n",
            "128/128 [==============================] - ETA: 0s - loss: 0.1695 - accuracy: 0.9460\n",
            "Epoch 00014: saving model to /content/gdrive/My Drive/data/coronadata/normal_viral/epochs/epochs:014-accuracy:0.946.hdf5\n",
            "128/128 [==============================] - 254s 2s/step - loss: 0.1695 - accuracy: 0.9460 - val_loss: 0.2311 - val_accuracy: 0.9160\n",
            "Epoch 15/100\n",
            "128/128 [==============================] - ETA: 0s - loss: 0.1604 - accuracy: 0.9460\n",
            "Epoch 00015: saving model to /content/gdrive/My Drive/data/coronadata/normal_viral/epochs/epochs:015-accuracy:0.946.hdf5\n",
            "128/128 [==============================] - 252s 2s/step - loss: 0.1604 - accuracy: 0.9460 - val_loss: 0.1941 - val_accuracy: 0.9457\n",
            "Epoch 16/100\n",
            "128/128 [==============================] - ETA: 0s - loss: 0.1508 - accuracy: 0.9490\n",
            "Epoch 00016: saving model to /content/gdrive/My Drive/data/coronadata/normal_viral/epochs/epochs:016-accuracy:0.949.hdf5\n",
            "128/128 [==============================] - 253s 2s/step - loss: 0.1508 - accuracy: 0.9490 - val_loss: 0.1880 - val_accuracy: 0.9324\n",
            "Epoch 17/100\n",
            "128/128 [==============================] - ETA: 0s - loss: 0.1470 - accuracy: 0.9504\n",
            "Epoch 00017: saving model to /content/gdrive/My Drive/data/coronadata/normal_viral/epochs/epochs:017-accuracy:0.950.hdf5\n",
            "128/128 [==============================] - 251s 2s/step - loss: 0.1470 - accuracy: 0.9504 - val_loss: 0.2262 - val_accuracy: 0.9090\n",
            "Epoch 18/100\n",
            "128/128 [==============================] - ETA: 0s - loss: 0.1544 - accuracy: 0.9507\n",
            "Epoch 00018: saving model to /content/gdrive/My Drive/data/coronadata/normal_viral/epochs/epochs:018-accuracy:0.951.hdf5\n",
            "128/128 [==============================] - 252s 2s/step - loss: 0.1544 - accuracy: 0.9507 - val_loss: 0.1918 - val_accuracy: 0.9340\n",
            "Epoch 19/100\n",
            "128/128 [==============================] - ETA: 0s - loss: 0.1431 - accuracy: 0.9517\n",
            "Epoch 00019: saving model to /content/gdrive/My Drive/data/coronadata/normal_viral/epochs/epochs:019-accuracy:0.952.hdf5\n",
            "128/128 [==============================] - 255s 2s/step - loss: 0.1431 - accuracy: 0.9517 - val_loss: 0.1928 - val_accuracy: 0.9211\n",
            "Epoch 20/100\n",
            "128/128 [==============================] - ETA: 0s - loss: 0.1420 - accuracy: 0.9509\n",
            "Epoch 00020: saving model to /content/gdrive/My Drive/data/coronadata/normal_viral/epochs/epochs:020-accuracy:0.951.hdf5\n",
            "128/128 [==============================] - 252s 2s/step - loss: 0.1420 - accuracy: 0.9509 - val_loss: 0.1519 - val_accuracy: 0.9385\n",
            "Epoch 21/100\n",
            "128/128 [==============================] - ETA: 0s - loss: 0.1495 - accuracy: 0.9512\n",
            "Epoch 00021: saving model to /content/gdrive/My Drive/data/coronadata/normal_viral/epochs/epochs:021-accuracy:0.951.hdf5\n",
            "128/128 [==============================] - 253s 2s/step - loss: 0.1495 - accuracy: 0.9512 - val_loss: 0.1861 - val_accuracy: 0.9375\n",
            "Epoch 22/100\n",
            "128/128 [==============================] - ETA: 0s - loss: 0.1316 - accuracy: 0.9561\n",
            "Epoch 00022: saving model to /content/gdrive/My Drive/data/coronadata/normal_viral/epochs/epochs:022-accuracy:0.956.hdf5\n",
            "128/128 [==============================] - 253s 2s/step - loss: 0.1316 - accuracy: 0.9561 - val_loss: 0.2045 - val_accuracy: 0.9283\n",
            "Epoch 23/100\n",
            "128/128 [==============================] - ETA: 0s - loss: 0.1320 - accuracy: 0.9536\n",
            "Epoch 00023: saving model to /content/gdrive/My Drive/data/coronadata/normal_viral/epochs/epochs:023-accuracy:0.954.hdf5\n",
            "128/128 [==============================] - 253s 2s/step - loss: 0.1320 - accuracy: 0.9536 - val_loss: 0.1850 - val_accuracy: 0.9416\n",
            "Epoch 24/100\n",
            "128/128 [==============================] - ETA: 0s - loss: 0.1317 - accuracy: 0.9570\n",
            "Epoch 00024: saving model to /content/gdrive/My Drive/data/coronadata/normal_viral/epochs/epochs:024-accuracy:0.957.hdf5\n",
            "128/128 [==============================] - 254s 2s/step - loss: 0.1317 - accuracy: 0.9570 - val_loss: 0.1972 - val_accuracy: 0.9242\n",
            "Epoch 25/100\n",
            "128/128 [==============================] - ETA: 0s - loss: 0.1309 - accuracy: 0.9509\n",
            "Epoch 00025: saving model to /content/gdrive/My Drive/data/coronadata/normal_viral/epochs/epochs:025-accuracy:0.951.hdf5\n",
            "128/128 [==============================] - 254s 2s/step - loss: 0.1309 - accuracy: 0.9509 - val_loss: 0.2004 - val_accuracy: 0.9477\n",
            "Epoch 26/100\n",
            "128/128 [==============================] - ETA: 0s - loss: 0.1349 - accuracy: 0.9561\n",
            "Epoch 00026: saving model to /content/gdrive/My Drive/data/coronadata/normal_viral/epochs/epochs:026-accuracy:0.956.hdf5\n",
            "128/128 [==============================] - 254s 2s/step - loss: 0.1349 - accuracy: 0.9561 - val_loss: 0.2171 - val_accuracy: 0.9273\n",
            "Epoch 27/100\n",
            "128/128 [==============================] - ETA: 0s - loss: 0.1274 - accuracy: 0.9558\n",
            "Epoch 00027: saving model to /content/gdrive/My Drive/data/coronadata/normal_viral/epochs/epochs:027-accuracy:0.956.hdf5\n",
            "128/128 [==============================] - 252s 2s/step - loss: 0.1274 - accuracy: 0.9558 - val_loss: 0.1741 - val_accuracy: 0.9303\n",
            "Epoch 28/100\n",
            "128/128 [==============================] - ETA: 0s - loss: 0.1289 - accuracy: 0.9553\n",
            "Epoch 00028: saving model to /content/gdrive/My Drive/data/coronadata/normal_viral/epochs/epochs:028-accuracy:0.955.hdf5\n",
            "128/128 [==============================] - 253s 2s/step - loss: 0.1289 - accuracy: 0.9553 - val_loss: 0.1569 - val_accuracy: 0.9365\n",
            "Epoch 29/100\n",
            "128/128 [==============================] - ETA: 0s - loss: 0.1030 - accuracy: 0.9631\n",
            "Epoch 00029: saving model to /content/gdrive/My Drive/data/coronadata/normal_viral/epochs/epochs:029-accuracy:0.963.hdf5\n",
            "128/128 [==============================] - 252s 2s/step - loss: 0.1030 - accuracy: 0.9631 - val_loss: 0.2021 - val_accuracy: 0.9283\n",
            "Epoch 30/100\n",
            "128/128 [==============================] - ETA: 0s - loss: 0.1173 - accuracy: 0.9602\n",
            "Epoch 00030: saving model to /content/gdrive/My Drive/data/coronadata/normal_viral/epochs/epochs:030-accuracy:0.960.hdf5\n",
            "128/128 [==============================] - 252s 2s/step - loss: 0.1173 - accuracy: 0.9602 - val_loss: 0.2218 - val_accuracy: 0.9201\n",
            "Epoch 31/100\n",
            "128/128 [==============================] - ETA: 0s - loss: 0.1095 - accuracy: 0.9612\n",
            "Epoch 00031: saving model to /content/gdrive/My Drive/data/coronadata/normal_viral/epochs/epochs:031-accuracy:0.961.hdf5\n",
            "128/128 [==============================] - 254s 2s/step - loss: 0.1095 - accuracy: 0.9612 - val_loss: 0.2566 - val_accuracy: 0.9344\n",
            "Epoch 32/100\n",
            "128/128 [==============================] - ETA: 0s - loss: 0.1233 - accuracy: 0.9570\n",
            "Epoch 00032: saving model to /content/gdrive/My Drive/data/coronadata/normal_viral/epochs/epochs:032-accuracy:0.957.hdf5\n",
            "128/128 [==============================] - 254s 2s/step - loss: 0.1233 - accuracy: 0.9570 - val_loss: 0.1886 - val_accuracy: 0.9395\n",
            "Epoch 33/100\n",
            "128/128 [==============================] - ETA: 0s - loss: 0.1213 - accuracy: 0.9600\n",
            "Epoch 00033: saving model to /content/gdrive/My Drive/data/coronadata/normal_viral/epochs/epochs:033-accuracy:0.960.hdf5\n",
            "128/128 [==============================] - 253s 2s/step - loss: 0.1213 - accuracy: 0.9600 - val_loss: 0.1769 - val_accuracy: 0.9365\n",
            "Epoch 34/100\n",
            "128/128 [==============================] - ETA: 0s - loss: 0.1178 - accuracy: 0.9575\n",
            "Epoch 00034: saving model to /content/gdrive/My Drive/data/coronadata/normal_viral/epochs/epochs:034-accuracy:0.958.hdf5\n",
            "128/128 [==============================] - 252s 2s/step - loss: 0.1178 - accuracy: 0.9575 - val_loss: 0.2241 - val_accuracy: 0.9340\n",
            "Epoch 35/100\n",
            "128/128 [==============================] - ETA: 0s - loss: 0.1114 - accuracy: 0.9636\n",
            "Epoch 00035: saving model to /content/gdrive/My Drive/data/coronadata/normal_viral/epochs/epochs:035-accuracy:0.964.hdf5\n",
            "128/128 [==============================] - 253s 2s/step - loss: 0.1114 - accuracy: 0.9636 - val_loss: 0.1633 - val_accuracy: 0.9410\n",
            "Epoch 36/100\n",
            "128/128 [==============================] - ETA: 0s - loss: 0.1159 - accuracy: 0.9612\n",
            "Epoch 00036: saving model to /content/gdrive/My Drive/data/coronadata/normal_viral/epochs/epochs:036-accuracy:0.961.hdf5\n",
            "128/128 [==============================] - 253s 2s/step - loss: 0.1159 - accuracy: 0.9612 - val_loss: 0.1628 - val_accuracy: 0.9457\n",
            "Epoch 37/100\n",
            "128/128 [==============================] - ETA: 0s - loss: 0.1010 - accuracy: 0.9666\n",
            "Epoch 00037: saving model to /content/gdrive/My Drive/data/coronadata/normal_viral/epochs/epochs:037-accuracy:0.967.hdf5\n",
            "128/128 [==============================] - 258s 2s/step - loss: 0.1010 - accuracy: 0.9666 - val_loss: 0.1874 - val_accuracy: 0.9406\n",
            "Epoch 38/100\n",
            "128/128 [==============================] - ETA: 0s - loss: 0.1570 - accuracy: 0.9526\n",
            "Epoch 00038: saving model to /content/gdrive/My Drive/data/coronadata/normal_viral/epochs/epochs:038-accuracy:0.953.hdf5\n",
            "128/128 [==============================] - 256s 2s/step - loss: 0.1570 - accuracy: 0.9526 - val_loss: 0.2545 - val_accuracy: 0.9232\n",
            "Epoch 39/100\n",
            "128/128 [==============================] - ETA: 0s - loss: 0.1258 - accuracy: 0.9573\n",
            "Epoch 00039: saving model to /content/gdrive/My Drive/data/coronadata/normal_viral/epochs/epochs:039-accuracy:0.957.hdf5\n",
            "128/128 [==============================] - 256s 2s/step - loss: 0.1258 - accuracy: 0.9573 - val_loss: 0.1458 - val_accuracy: 0.9447\n",
            "Epoch 40/100\n",
            "128/128 [==============================] - ETA: 0s - loss: 0.1195 - accuracy: 0.9612\n",
            "Epoch 00040: saving model to /content/gdrive/My Drive/data/coronadata/normal_viral/epochs/epochs:040-accuracy:0.961.hdf5\n",
            "128/128 [==============================] - 251s 2s/step - loss: 0.1195 - accuracy: 0.9612 - val_loss: 0.2280 - val_accuracy: 0.9303\n",
            "Epoch 41/100\n",
            "128/128 [==============================] - ETA: 0s - loss: 0.1142 - accuracy: 0.9600\n",
            "Epoch 00041: saving model to /content/gdrive/My Drive/data/coronadata/normal_viral/epochs/epochs:041-accuracy:0.960.hdf5\n",
            "128/128 [==============================] - 252s 2s/step - loss: 0.1142 - accuracy: 0.9600 - val_loss: 0.1447 - val_accuracy: 0.9385\n",
            "Epoch 42/100\n",
            "128/128 [==============================] - ETA: 0s - loss: 0.1248 - accuracy: 0.9573\n",
            "Epoch 00042: saving model to /content/gdrive/My Drive/data/coronadata/normal_viral/epochs/epochs:042-accuracy:0.957.hdf5\n",
            "128/128 [==============================] - 254s 2s/step - loss: 0.1248 - accuracy: 0.9573 - val_loss: 0.1985 - val_accuracy: 0.9436\n",
            "Epoch 43/100\n",
            "128/128 [==============================] - ETA: 0s - loss: 0.0974 - accuracy: 0.9670\n",
            "Epoch 00043: saving model to /content/gdrive/My Drive/data/coronadata/normal_viral/epochs/epochs:043-accuracy:0.967.hdf5\n",
            "128/128 [==============================] - 254s 2s/step - loss: 0.0974 - accuracy: 0.9670 - val_loss: 0.1950 - val_accuracy: 0.9365\n",
            "Epoch 44/100\n",
            "128/128 [==============================] - ETA: 0s - loss: 0.0983 - accuracy: 0.9663\n",
            "Epoch 00044: saving model to /content/gdrive/My Drive/data/coronadata/normal_viral/epochs/epochs:044-accuracy:0.966.hdf5\n",
            "128/128 [==============================] - 254s 2s/step - loss: 0.0983 - accuracy: 0.9663 - val_loss: 0.1540 - val_accuracy: 0.9385\n",
            "Epoch 45/100\n",
            "128/128 [==============================] - ETA: 0s - loss: 0.0940 - accuracy: 0.9670\n",
            "Epoch 00045: saving model to /content/gdrive/My Drive/data/coronadata/normal_viral/epochs/epochs:045-accuracy:0.967.hdf5\n",
            "128/128 [==============================] - 255s 2s/step - loss: 0.0940 - accuracy: 0.9670 - val_loss: 0.1535 - val_accuracy: 0.9457\n",
            "Epoch 46/100\n",
            "128/128 [==============================] - ETA: 0s - loss: 0.1006 - accuracy: 0.9656\n",
            "Epoch 00046: saving model to /content/gdrive/My Drive/data/coronadata/normal_viral/epochs/epochs:046-accuracy:0.966.hdf5\n",
            "128/128 [==============================] - 250s 2s/step - loss: 0.1006 - accuracy: 0.9656 - val_loss: 0.1836 - val_accuracy: 0.9375\n",
            "Epoch 47/100\n",
            "128/128 [==============================] - ETA: 0s - loss: 0.0913 - accuracy: 0.9697\n",
            "Epoch 00047: saving model to /content/gdrive/My Drive/data/coronadata/normal_viral/epochs/epochs:047-accuracy:0.970.hdf5\n",
            "128/128 [==============================] - 253s 2s/step - loss: 0.0913 - accuracy: 0.9697 - val_loss: 0.1580 - val_accuracy: 0.9447\n",
            "Epoch 48/100\n",
            "128/128 [==============================] - ETA: 0s - loss: 0.1069 - accuracy: 0.9629\n",
            "Epoch 00048: saving model to /content/gdrive/My Drive/data/coronadata/normal_viral/epochs/epochs:048-accuracy:0.963.hdf5\n",
            "128/128 [==============================] - 253s 2s/step - loss: 0.1069 - accuracy: 0.9629 - val_loss: 0.1569 - val_accuracy: 0.9406\n",
            "Epoch 49/100\n",
            "128/128 [==============================] - ETA: 0s - loss: 0.0868 - accuracy: 0.9700\n",
            "Epoch 00049: saving model to /content/gdrive/My Drive/data/coronadata/normal_viral/epochs/epochs:049-accuracy:0.970.hdf5\n",
            "128/128 [==============================] - 255s 2s/step - loss: 0.0868 - accuracy: 0.9700 - val_loss: 0.2501 - val_accuracy: 0.9385\n",
            "Epoch 50/100\n",
            "128/128 [==============================] - ETA: 0s - loss: 0.0941 - accuracy: 0.9695\n",
            "Epoch 00050: saving model to /content/gdrive/My Drive/data/coronadata/normal_viral/epochs/epochs:050-accuracy:0.969.hdf5\n",
            "128/128 [==============================] - 254s 2s/step - loss: 0.0941 - accuracy: 0.9695 - val_loss: 0.1716 - val_accuracy: 0.9416\n",
            "Epoch 51/100\n",
            "128/128 [==============================] - ETA: 0s - loss: 0.1018 - accuracy: 0.9641\n",
            "Epoch 00051: saving model to /content/gdrive/My Drive/data/coronadata/normal_viral/epochs/epochs:051-accuracy:0.964.hdf5\n",
            "128/128 [==============================] - 253s 2s/step - loss: 0.1018 - accuracy: 0.9641 - val_loss: 0.1800 - val_accuracy: 0.9330\n",
            "Epoch 52/100\n",
            "128/128 [==============================] - ETA: 0s - loss: 0.0887 - accuracy: 0.9695\n",
            "Epoch 00052: saving model to /content/gdrive/My Drive/data/coronadata/normal_viral/epochs/epochs:052-accuracy:0.969.hdf5\n",
            "128/128 [==============================] - 255s 2s/step - loss: 0.0887 - accuracy: 0.9695 - val_loss: 0.1770 - val_accuracy: 0.9450\n",
            "Epoch 53/100\n",
            "128/128 [==============================] - ETA: 0s - loss: 0.0894 - accuracy: 0.9697\n",
            "Epoch 00053: saving model to /content/gdrive/My Drive/data/coronadata/normal_viral/epochs/epochs:053-accuracy:0.970.hdf5\n",
            "128/128 [==============================] - 255s 2s/step - loss: 0.0894 - accuracy: 0.9697 - val_loss: 0.1564 - val_accuracy: 0.9385\n",
            "Epoch 54/100\n",
            "128/128 [==============================] - ETA: 0s - loss: 0.0888 - accuracy: 0.9695\n",
            "Epoch 00054: saving model to /content/gdrive/My Drive/data/coronadata/normal_viral/epochs/epochs:054-accuracy:0.969.hdf5\n",
            "128/128 [==============================] - 254s 2s/step - loss: 0.0888 - accuracy: 0.9695 - val_loss: 0.3656 - val_accuracy: 0.9303\n",
            "Epoch 55/100\n",
            "128/128 [==============================] - ETA: 0s - loss: 0.0921 - accuracy: 0.9666\n",
            "Epoch 00055: saving model to /content/gdrive/My Drive/data/coronadata/normal_viral/epochs/epochs:055-accuracy:0.967.hdf5\n",
            "128/128 [==============================] - 252s 2s/step - loss: 0.0921 - accuracy: 0.9666 - val_loss: 0.1908 - val_accuracy: 0.9242\n",
            "Epoch 56/100\n",
            "128/128 [==============================] - ETA: 0s - loss: 0.0883 - accuracy: 0.9658\n",
            "Epoch 00056: saving model to /content/gdrive/My Drive/data/coronadata/normal_viral/epochs/epochs:056-accuracy:0.966.hdf5\n",
            "128/128 [==============================] - 254s 2s/step - loss: 0.0883 - accuracy: 0.9658 - val_loss: 0.1887 - val_accuracy: 0.9273\n",
            "Epoch 57/100\n",
            "128/128 [==============================] - ETA: 0s - loss: 0.0943 - accuracy: 0.9661\n",
            "Epoch 00057: saving model to /content/gdrive/My Drive/data/coronadata/normal_viral/epochs/epochs:057-accuracy:0.966.hdf5\n",
            "128/128 [==============================] - 253s 2s/step - loss: 0.0943 - accuracy: 0.9661 - val_loss: 0.1557 - val_accuracy: 0.9477\n",
            "Epoch 58/100\n",
            "128/128 [==============================] - ETA: 0s - loss: 0.0774 - accuracy: 0.9734\n",
            "Epoch 00058: saving model to /content/gdrive/My Drive/data/coronadata/normal_viral/epochs/epochs:058-accuracy:0.973.hdf5\n",
            "128/128 [==============================] - 252s 2s/step - loss: 0.0774 - accuracy: 0.9734 - val_loss: 0.1811 - val_accuracy: 0.9303\n",
            "Epoch 59/100\n",
            "128/128 [==============================] - ETA: 0s - loss: 0.0860 - accuracy: 0.9673\n",
            "Epoch 00059: saving model to /content/gdrive/My Drive/data/coronadata/normal_viral/epochs/epochs:059-accuracy:0.967.hdf5\n",
            "128/128 [==============================] - 253s 2s/step - loss: 0.0860 - accuracy: 0.9673 - val_loss: 0.2068 - val_accuracy: 0.9129\n",
            "Epoch 60/100\n",
            "128/128 [==============================] - ETA: 0s - loss: 0.0820 - accuracy: 0.9717\n",
            "Epoch 00060: saving model to /content/gdrive/My Drive/data/coronadata/normal_viral/epochs/epochs:060-accuracy:0.972.hdf5\n",
            "128/128 [==============================] - 252s 2s/step - loss: 0.0820 - accuracy: 0.9717 - val_loss: 0.1702 - val_accuracy: 0.9426\n",
            "Epoch 61/100\n",
            "128/128 [==============================] - ETA: 0s - loss: 0.0823 - accuracy: 0.9702\n",
            "Epoch 00061: saving model to /content/gdrive/My Drive/data/coronadata/normal_viral/epochs/epochs:061-accuracy:0.970.hdf5\n",
            "128/128 [==============================] - 253s 2s/step - loss: 0.0823 - accuracy: 0.9702 - val_loss: 0.2114 - val_accuracy: 0.9262\n",
            "Epoch 62/100\n",
            "128/128 [==============================] - ETA: 0s - loss: 0.0845 - accuracy: 0.9729\n",
            "Epoch 00062: saving model to /content/gdrive/My Drive/data/coronadata/normal_viral/epochs/epochs:062-accuracy:0.973.hdf5\n",
            "128/128 [==============================] - 254s 2s/step - loss: 0.0845 - accuracy: 0.9729 - val_loss: 0.1513 - val_accuracy: 0.9457\n",
            "Epoch 63/100\n",
            "128/128 [==============================] - ETA: 0s - loss: 0.0781 - accuracy: 0.9736\n",
            "Epoch 00063: saving model to /content/gdrive/My Drive/data/coronadata/normal_viral/epochs/epochs:063-accuracy:0.974.hdf5\n",
            "128/128 [==============================] - 252s 2s/step - loss: 0.0781 - accuracy: 0.9736 - val_loss: 0.1912 - val_accuracy: 0.9385\n",
            "Epoch 64/100\n",
            "128/128 [==============================] - ETA: 0s - loss: 0.0738 - accuracy: 0.9731\n",
            "Epoch 00064: saving model to /content/gdrive/My Drive/data/coronadata/normal_viral/epochs/epochs:064-accuracy:0.973.hdf5\n",
            "128/128 [==============================] - 253s 2s/step - loss: 0.0738 - accuracy: 0.9731 - val_loss: 0.2473 - val_accuracy: 0.9375\n",
            "Epoch 65/100\n",
            "128/128 [==============================] - ETA: 0s - loss: 0.0721 - accuracy: 0.9707\n",
            "Epoch 00065: saving model to /content/gdrive/My Drive/data/coronadata/normal_viral/epochs/epochs:065-accuracy:0.971.hdf5\n",
            "128/128 [==============================] - 252s 2s/step - loss: 0.0721 - accuracy: 0.9707 - val_loss: 0.1955 - val_accuracy: 0.9385\n",
            "Epoch 66/100\n",
            "128/128 [==============================] - ETA: 0s - loss: 0.0712 - accuracy: 0.9744\n",
            "Epoch 00066: saving model to /content/gdrive/My Drive/data/coronadata/normal_viral/epochs/epochs:066-accuracy:0.974.hdf5\n",
            "128/128 [==============================] - 256s 2s/step - loss: 0.0712 - accuracy: 0.9744 - val_loss: 0.1764 - val_accuracy: 0.9385\n",
            "Epoch 67/100\n",
            "128/128 [==============================] - ETA: 0s - loss: 0.0745 - accuracy: 0.9719\n",
            "Epoch 00067: saving model to /content/gdrive/My Drive/data/coronadata/normal_viral/epochs/epochs:067-accuracy:0.972.hdf5\n",
            "128/128 [==============================] - 255s 2s/step - loss: 0.0745 - accuracy: 0.9719 - val_loss: 0.1925 - val_accuracy: 0.9406\n",
            "Epoch 68/100\n",
            "128/128 [==============================] - ETA: 0s - loss: 0.0654 - accuracy: 0.9766\n",
            "Epoch 00068: saving model to /content/gdrive/My Drive/data/coronadata/normal_viral/epochs/epochs:068-accuracy:0.977.hdf5\n",
            "128/128 [==============================] - 255s 2s/step - loss: 0.0654 - accuracy: 0.9766 - val_loss: 0.2807 - val_accuracy: 0.9440\n",
            "Epoch 69/100\n",
            "128/128 [==============================] - ETA: 0s - loss: 0.0736 - accuracy: 0.9744\n",
            "Epoch 00069: saving model to /content/gdrive/My Drive/data/coronadata/normal_viral/epochs/epochs:069-accuracy:0.974.hdf5\n",
            "128/128 [==============================] - 252s 2s/step - loss: 0.0736 - accuracy: 0.9744 - val_loss: 0.1532 - val_accuracy: 0.9470\n",
            "Epoch 70/100\n",
            "128/128 [==============================] - ETA: 0s - loss: 0.0742 - accuracy: 0.9727\n",
            "Epoch 00070: saving model to /content/gdrive/My Drive/data/coronadata/normal_viral/epochs/epochs:070-accuracy:0.973.hdf5\n",
            "128/128 [==============================] - 254s 2s/step - loss: 0.0742 - accuracy: 0.9727 - val_loss: 0.1895 - val_accuracy: 0.9344\n",
            "Epoch 71/100\n",
            "128/128 [==============================] - ETA: 0s - loss: 0.0611 - accuracy: 0.9800\n",
            "Epoch 00071: saving model to /content/gdrive/My Drive/data/coronadata/normal_viral/epochs/epochs:071-accuracy:0.980.hdf5\n",
            "128/128 [==============================] - 254s 2s/step - loss: 0.0611 - accuracy: 0.9800 - val_loss: 0.2663 - val_accuracy: 0.9314\n",
            "Epoch 72/100\n",
            "128/128 [==============================] - ETA: 0s - loss: 0.0650 - accuracy: 0.9802\n",
            "Epoch 00072: saving model to /content/gdrive/My Drive/data/coronadata/normal_viral/epochs/epochs:072-accuracy:0.980.hdf5\n",
            "128/128 [==============================] - 253s 2s/step - loss: 0.0650 - accuracy: 0.9802 - val_loss: 0.1929 - val_accuracy: 0.9416\n",
            "Epoch 73/100\n",
            "128/128 [==============================] - ETA: 0s - loss: 0.0674 - accuracy: 0.9756\n",
            "Epoch 00073: saving model to /content/gdrive/My Drive/data/coronadata/normal_viral/epochs/epochs:073-accuracy:0.976.hdf5\n",
            "128/128 [==============================] - 253s 2s/step - loss: 0.0674 - accuracy: 0.9756 - val_loss: 0.1718 - val_accuracy: 0.9395\n",
            "Epoch 74/100\n",
            "128/128 [==============================] - ETA: 0s - loss: 0.0601 - accuracy: 0.9797\n",
            "Epoch 00074: saving model to /content/gdrive/My Drive/data/coronadata/normal_viral/epochs/epochs:074-accuracy:0.980.hdf5\n",
            "128/128 [==============================] - 250s 2s/step - loss: 0.0601 - accuracy: 0.9797 - val_loss: 0.1963 - val_accuracy: 0.9334\n",
            "Epoch 75/100\n",
            "128/128 [==============================] - ETA: 0s - loss: 0.0582 - accuracy: 0.9795\n",
            "Epoch 00075: saving model to /content/gdrive/My Drive/data/coronadata/normal_viral/epochs/epochs:075-accuracy:0.979.hdf5\n",
            "128/128 [==============================] - 253s 2s/step - loss: 0.0582 - accuracy: 0.9795 - val_loss: 0.2070 - val_accuracy: 0.9314\n",
            "Epoch 76/100\n",
            "128/128 [==============================] - ETA: 0s - loss: 0.0668 - accuracy: 0.9785\n",
            "Epoch 00076: saving model to /content/gdrive/My Drive/data/coronadata/normal_viral/epochs/epochs:076-accuracy:0.979.hdf5\n",
            "128/128 [==============================] - 252s 2s/step - loss: 0.0668 - accuracy: 0.9785 - val_loss: 0.2117 - val_accuracy: 0.9365\n",
            "Epoch 77/100\n",
            "128/128 [==============================] - ETA: 0s - loss: 0.0536 - accuracy: 0.9810\n",
            "Epoch 00077: saving model to /content/gdrive/My Drive/data/coronadata/normal_viral/epochs/epochs:077-accuracy:0.981.hdf5\n",
            "128/128 [==============================] - 254s 2s/step - loss: 0.0536 - accuracy: 0.9810 - val_loss: 0.1737 - val_accuracy: 0.9344\n",
            "Epoch 78/100\n",
            "128/128 [==============================] - ETA: 0s - loss: 0.0592 - accuracy: 0.9773\n",
            "Epoch 00078: saving model to /content/gdrive/My Drive/data/coronadata/normal_viral/epochs/epochs:078-accuracy:0.977.hdf5\n",
            "128/128 [==============================] - 253s 2s/step - loss: 0.0592 - accuracy: 0.9773 - val_loss: 0.2091 - val_accuracy: 0.9314\n",
            "Epoch 79/100\n",
            "128/128 [==============================] - ETA: 0s - loss: 0.0644 - accuracy: 0.9741\n",
            "Epoch 00079: saving model to /content/gdrive/My Drive/data/coronadata/normal_viral/epochs/epochs:079-accuracy:0.974.hdf5\n",
            "128/128 [==============================] - 256s 2s/step - loss: 0.0644 - accuracy: 0.9741 - val_loss: 0.2341 - val_accuracy: 0.9324\n",
            "Epoch 80/100\n",
            "128/128 [==============================] - ETA: 0s - loss: 0.0521 - accuracy: 0.9822\n",
            "Epoch 00080: saving model to /content/gdrive/My Drive/data/coronadata/normal_viral/epochs/epochs:080-accuracy:0.982.hdf5\n",
            "128/128 [==============================] - 257s 2s/step - loss: 0.0521 - accuracy: 0.9822 - val_loss: 0.2360 - val_accuracy: 0.9344\n",
            "Epoch 81/100\n",
            "128/128 [==============================] - ETA: 0s - loss: 0.0617 - accuracy: 0.9778\n",
            "Epoch 00081: saving model to /content/gdrive/My Drive/data/coronadata/normal_viral/epochs/epochs:081-accuracy:0.978.hdf5\n",
            "128/128 [==============================] - 255s 2s/step - loss: 0.0617 - accuracy: 0.9778 - val_loss: 0.2001 - val_accuracy: 0.9375\n",
            "Epoch 82/100\n",
            "128/128 [==============================] - ETA: 0s - loss: 0.0572 - accuracy: 0.9785\n",
            "Epoch 00082: saving model to /content/gdrive/My Drive/data/coronadata/normal_viral/epochs/epochs:082-accuracy:0.979.hdf5\n",
            "128/128 [==============================] - 253s 2s/step - loss: 0.0572 - accuracy: 0.9785 - val_loss: 0.2653 - val_accuracy: 0.9406\n",
            "Epoch 83/100\n",
            "128/128 [==============================] - ETA: 0s - loss: 0.0524 - accuracy: 0.9841\n",
            "Epoch 00083: saving model to /content/gdrive/My Drive/data/coronadata/normal_viral/epochs/epochs:083-accuracy:0.984.hdf5\n",
            "128/128 [==============================] - 253s 2s/step - loss: 0.0524 - accuracy: 0.9841 - val_loss: 0.2162 - val_accuracy: 0.9344\n",
            "Epoch 84/100\n",
            "128/128 [==============================] - ETA: 0s - loss: 0.0552 - accuracy: 0.9824\n",
            "Epoch 00084: saving model to /content/gdrive/My Drive/data/coronadata/normal_viral/epochs/epochs:084-accuracy:0.982.hdf5\n",
            "128/128 [==============================] - 254s 2s/step - loss: 0.0552 - accuracy: 0.9824 - val_loss: 0.2280 - val_accuracy: 0.9416\n",
            "Epoch 85/100\n",
            "128/128 [==============================] - ETA: 0s - loss: 0.0586 - accuracy: 0.9788\n",
            "Epoch 00085: saving model to /content/gdrive/My Drive/data/coronadata/normal_viral/epochs/epochs:085-accuracy:0.979.hdf5\n",
            "128/128 [==============================] - 256s 2s/step - loss: 0.0586 - accuracy: 0.9788 - val_loss: 0.1753 - val_accuracy: 0.9430\n",
            "Epoch 86/100\n",
            "128/128 [==============================] - ETA: 0s - loss: 0.0481 - accuracy: 0.9829\n",
            "Epoch 00086: saving model to /content/gdrive/My Drive/data/coronadata/normal_viral/epochs/epochs:086-accuracy:0.983.hdf5\n",
            "128/128 [==============================] - 256s 2s/step - loss: 0.0481 - accuracy: 0.9829 - val_loss: 0.2761 - val_accuracy: 0.9320\n",
            "Epoch 87/100\n",
            "128/128 [==============================] - ETA: 0s - loss: 0.0596 - accuracy: 0.9783\n",
            "Epoch 00087: saving model to /content/gdrive/My Drive/data/coronadata/normal_viral/epochs/epochs:087-accuracy:0.978.hdf5\n",
            "128/128 [==============================] - 254s 2s/step - loss: 0.0596 - accuracy: 0.9783 - val_loss: 0.1971 - val_accuracy: 0.9365\n",
            "Epoch 88/100\n",
            "128/128 [==============================] - ETA: 0s - loss: 0.0473 - accuracy: 0.9832\n",
            "Epoch 00088: saving model to /content/gdrive/My Drive/data/coronadata/normal_viral/epochs/epochs:088-accuracy:0.983.hdf5\n",
            "128/128 [==============================] - 253s 2s/step - loss: 0.0473 - accuracy: 0.9832 - val_loss: 0.2796 - val_accuracy: 0.9232\n",
            "Epoch 89/100\n",
            "128/128 [==============================] - ETA: 0s - loss: 0.0554 - accuracy: 0.9783\n",
            "Epoch 00089: saving model to /content/gdrive/My Drive/data/coronadata/normal_viral/epochs/epochs:089-accuracy:0.978.hdf5\n",
            "128/128 [==============================] - 255s 2s/step - loss: 0.0554 - accuracy: 0.9783 - val_loss: 0.2631 - val_accuracy: 0.9385\n",
            "Epoch 90/100\n",
            "128/128 [==============================] - ETA: 0s - loss: 0.0574 - accuracy: 0.9812\n",
            "Epoch 00090: saving model to /content/gdrive/My Drive/data/coronadata/normal_viral/epochs/epochs:090-accuracy:0.981.hdf5\n",
            "128/128 [==============================] - 253s 2s/step - loss: 0.0574 - accuracy: 0.9812 - val_loss: 0.2364 - val_accuracy: 0.9375\n",
            "Epoch 91/100\n",
            "128/128 [==============================] - ETA: 0s - loss: 0.0501 - accuracy: 0.9822\n",
            "Epoch 00091: saving model to /content/gdrive/My Drive/data/coronadata/normal_viral/epochs/epochs:091-accuracy:0.982.hdf5\n",
            "128/128 [==============================] - 255s 2s/step - loss: 0.0501 - accuracy: 0.9822 - val_loss: 0.3440 - val_accuracy: 0.9303\n",
            "Epoch 92/100\n",
            "128/128 [==============================] - ETA: 0s - loss: 0.0458 - accuracy: 0.9812\n",
            "Epoch 00092: saving model to /content/gdrive/My Drive/data/coronadata/normal_viral/epochs/epochs:092-accuracy:0.981.hdf5\n",
            "128/128 [==============================] - 255s 2s/step - loss: 0.0458 - accuracy: 0.9812 - val_loss: 0.2382 - val_accuracy: 0.9436\n",
            "Epoch 93/100\n",
            "128/128 [==============================] - ETA: 0s - loss: 0.0452 - accuracy: 0.9839\n",
            "Epoch 00093: saving model to /content/gdrive/My Drive/data/coronadata/normal_viral/epochs/epochs:093-accuracy:0.984.hdf5\n",
            "128/128 [==============================] - 255s 2s/step - loss: 0.0452 - accuracy: 0.9839 - val_loss: 0.2694 - val_accuracy: 0.9467\n",
            "Epoch 94/100\n",
            "128/128 [==============================] - ETA: 0s - loss: 0.0469 - accuracy: 0.9827\n",
            "Epoch 00094: saving model to /content/gdrive/My Drive/data/coronadata/normal_viral/epochs/epochs:094-accuracy:0.983.hdf5\n",
            "128/128 [==============================] - 255s 2s/step - loss: 0.0469 - accuracy: 0.9827 - val_loss: 0.2881 - val_accuracy: 0.9375\n",
            "Epoch 95/100\n",
            "128/128 [==============================] - ETA: 0s - loss: 0.0485 - accuracy: 0.9829\n",
            "Epoch 00095: saving model to /content/gdrive/My Drive/data/coronadata/normal_viral/epochs/epochs:095-accuracy:0.983.hdf5\n",
            "128/128 [==============================] - 256s 2s/step - loss: 0.0485 - accuracy: 0.9829 - val_loss: 0.2669 - val_accuracy: 0.9252\n",
            "Epoch 96/100\n",
            "128/128 [==============================] - ETA: 0s - loss: 0.0491 - accuracy: 0.9836\n",
            "Epoch 00096: saving model to /content/gdrive/My Drive/data/coronadata/normal_viral/epochs/epochs:096-accuracy:0.984.hdf5\n",
            "128/128 [==============================] - 256s 2s/step - loss: 0.0491 - accuracy: 0.9836 - val_loss: 0.1616 - val_accuracy: 0.9477\n",
            "Epoch 97/100\n",
            "128/128 [==============================] - ETA: 0s - loss: 0.0363 - accuracy: 0.9880\n",
            "Epoch 00097: saving model to /content/gdrive/My Drive/data/coronadata/normal_viral/epochs/epochs:097-accuracy:0.988.hdf5\n",
            "128/128 [==============================] - 255s 2s/step - loss: 0.0363 - accuracy: 0.9880 - val_loss: 0.1889 - val_accuracy: 0.9436\n",
            "Epoch 98/100\n",
            "128/128 [==============================] - ETA: 0s - loss: 0.0410 - accuracy: 0.9854\n",
            "Epoch 00098: saving model to /content/gdrive/My Drive/data/coronadata/normal_viral/epochs/epochs:098-accuracy:0.985.hdf5\n",
            "128/128 [==============================] - 255s 2s/step - loss: 0.0410 - accuracy: 0.9854 - val_loss: 0.2970 - val_accuracy: 0.9365\n",
            "Epoch 99/100\n",
            "128/128 [==============================] - ETA: 0s - loss: 0.0412 - accuracy: 0.9858\n",
            "Epoch 00099: saving model to /content/gdrive/My Drive/data/coronadata/normal_viral/epochs/epochs:099-accuracy:0.986.hdf5\n",
            "128/128 [==============================] - 257s 2s/step - loss: 0.0412 - accuracy: 0.9858 - val_loss: 0.2068 - val_accuracy: 0.9344\n",
            "Epoch 100/100\n",
            "128/128 [==============================] - ETA: 0s - loss: 0.0381 - accuracy: 0.9849\n",
            "Epoch 00100: saving model to /content/gdrive/My Drive/data/coronadata/normal_viral/epochs/epochs:100-accuracy:0.985.hdf5\n",
            "128/128 [==============================] - 256s 2s/step - loss: 0.0381 - accuracy: 0.9849 - val_loss: 0.2319 - val_accuracy: 0.9498\n"
          ],
          "name": "stdout"
        }
      ]
    },
    {
      "cell_type": "markdown",
      "metadata": {
        "id": "RA2Xd4txoKLL",
        "colab_type": "text"
      },
      "source": [
        "\n",
        "\n",
        "---\n",
        "\n",
        "\n",
        "\n",
        "---\n",
        "\n",
        "\n",
        "\n",
        "---\n",
        "\n",
        "Reload Model from last epoch saved.\n",
        "\n",
        "---\n",
        "\n",
        "\n",
        "\n",
        "---\n",
        "\n",
        "\n",
        "\n",
        "---\n",
        "\n"
      ]
    },
    {
      "cell_type": "code",
      "metadata": {
        "id": "-ms8hzeSXVRa",
        "colab_type": "code",
        "colab": {}
      },
      "source": [
        "model.load_weights('/content/gdrive/My Drive/data/coronadata/normal_viral/epochs/epochs:100-accuracy:0.985.hdf5')\n"
      ],
      "execution_count": 0,
      "outputs": []
    },
    {
      "cell_type": "code",
      "metadata": {
        "id": "gbFzqFc3bvc2",
        "colab_type": "code",
        "colab": {}
      },
      "source": [
        "model.compile(optimizer='adam',\n",
        "              loss='binary_crossentropy',\n",
        "              metrics=['accuracy'])\n"
      ],
      "execution_count": 0,
      "outputs": []
    },
    {
      "cell_type": "code",
      "metadata": {
        "id": "DNOA84pUXVUD",
        "colab_type": "code",
        "colab": {
          "base_uri": "https://localhost:8080/",
          "height": 35
        },
        "outputId": "04cbd62a-b0e4-4a22-c83e-5ceef9bf4dc9"
      },
      "source": [
        "history = model.fit(\n",
        "    train_generator,\n",
        "    steps_per_epoch = 16,\n",
        "    validation_data = valid_generator, \n",
        "    validation_steps = 8,\n",
        "    epochs = 1,\n",
        "    #callbacks=callbacks_list\n",
        "    )"
      ],
      "execution_count": 17,
      "outputs": [
        {
          "output_type": "stream",
          "text": [
            "16/16 [==============================] - 40s 2s/step - loss: 0.0686 - accuracy: 0.9746 - val_loss: 0.3220 - val_accuracy: 0.9453\n"
          ],
          "name": "stdout"
        }
      ]
    },
    {
      "cell_type": "markdown",
      "metadata": {
        "id": "wqPODbltoQXR",
        "colab_type": "text"
      },
      "source": [
        "\n",
        "\n",
        "---\n",
        "\n",
        "\n",
        "\n",
        "---\n",
        "\n",
        "\n",
        "\n",
        "---\n",
        "\n",
        "\n",
        "\n",
        "---\n",
        "\n",
        "\n",
        "\n",
        "---\n",
        "\n",
        "\n",
        "\n",
        "---\n",
        "\n",
        "\n",
        "\n",
        "---\n",
        "\n"
      ]
    },
    {
      "cell_type": "code",
      "metadata": {
        "id": "fMdSSt8TXlsB",
        "colab_type": "code",
        "outputId": "3eba7281-2ed4-4eb3-d0d3-e4534ef4bd9d",
        "colab": {
          "base_uri": "https://localhost:8080/",
          "height": 573
        }
      },
      "source": [
        "plt.plot(history.history['accuracy'])\n",
        "plt.plot(history.history['val_accuracy'])\n",
        "plt.title('accuracy vs validation accuracy')\n",
        "plt.ylabel('validation accuracy')\n",
        "plt.xlabel('epoch')\n",
        "plt.legend(['accuracy', 'validation accuracy'], loc='upper left')\n",
        "plt.show()\n",
        "\n",
        "\n",
        "plt.plot(history.history['loss'])\n",
        "plt.plot(history.history['val_loss'])\n",
        "plt.title('loss vs validation loss')\n",
        "plt.ylabel('loss')\n",
        "plt.xlabel('epoch')\n",
        "plt.legend(['loss', 'validation loss'], loc='upper left')\n",
        "plt.show()"
      ],
      "execution_count": 0,
      "outputs": [
        {
          "output_type": "display_data",
          "data": {
            "image/png": "[encoded data removed]",
            "text/plain": [
              "<Figure size 432x288 with 1 Axes>"
            ]
          },
          "metadata": {
            "tags": [],
            "needs_background": "light"
          }
        },
        {
          "output_type": "display_data",
          "data": {
            "image/png": "[encoded data removed]",
            "text/plain": [
              "<Figure size 432x288 with 1 Axes>"
            ]
          },
          "metadata": {
            "tags": [],
            "needs_background": "light"
          }
        }
      ]
    },
    {
      "cell_type": "code",
      "metadata": {
        "id": "kgDU7sB5XsKs",
        "colab_type": "code",
        "outputId": "ea710dfe-9f15-4d02-d59b-c22776bad061",
        "colab": {
          "base_uri": "https://localhost:8080/",
          "height": 91
        }
      },
      "source": [
        "print(\"loss\", history.history['loss'][-1])\n",
        "print(\"validation loss\", history.history['val_loss'][-1])\n",
        "print(\"accuracy\", history.history['accuracy'][-1])\n",
        "print(\"validation accuracy\", history.history['val_accuracy'][-1])\n"
      ],
      "execution_count": 19,
      "outputs": [
        {
          "output_type": "stream",
          "text": [
            "loss 0.0685785710811615\n",
            "validation loss 0.3220330476760864\n",
            "accuracy 0.974609375\n",
            "validation accuracy 0.9453125\n"
          ],
          "name": "stdout"
        }
      ]
    },
    {
      "cell_type": "code",
      "metadata": {
        "id": "Lp6KvNSAZmvZ",
        "colab_type": "code",
        "colab": {}
      },
      "source": [
        "PATH = '/content/gdrive/My Drive/data/corona/Chest_xray_Corona_Metadata.csv'\n",
        "meta = pd.read_csv(PATH)"
      ],
      "execution_count": 0,
      "outputs": []
    },
    {
      "cell_type": "code",
      "metadata": {
        "id": "VjX2W_3lZoL7",
        "colab_type": "code",
        "outputId": "649c4a78-709e-404c-c3fe-14dedbb420f4",
        "colab": {
          "base_uri": "https://localhost:8080/",
          "height": 206
        }
      },
      "source": [
        "test = meta[meta.Dataset_type == 'TEST']\n",
        "test = test.fillna(0)\n",
        "test.head()"
      ],
      "execution_count": 21,
      "outputs": [
        {
          "output_type": "execute_result",
          "data": {
            "text/html": [
              "<div>\n",
              "<style scoped>\n",
              "    .dataframe tbody tr th:only-of-type {\n",
              "        vertical-align: middle;\n",
              "    }\n",
              "\n",
              "    .dataframe tbody tr th {\n",
              "        vertical-align: top;\n",
              "    }\n",
              "\n",
              "    .dataframe thead th {\n",
              "        text-align: right;\n",
              "    }\n",
              "</style>\n",
              "<table border=\"1\" class=\"dataframe\">\n",
              "  <thead>\n",
              "    <tr style=\"text-align: right;\">\n",
              "      <th></th>\n",
              "      <th>Unnamed: 0</th>\n",
              "      <th>X_ray_image_name</th>\n",
              "      <th>Label</th>\n",
              "      <th>Dataset_type</th>\n",
              "      <th>Label_2_Virus_category</th>\n",
              "      <th>Label_1_Virus_category</th>\n",
              "    </tr>\n",
              "  </thead>\n",
              "  <tbody>\n",
              "    <tr>\n",
              "      <th>5286</th>\n",
              "      <td>5309</td>\n",
              "      <td>IM-0021-0001.jpeg</td>\n",
              "      <td>Normal</td>\n",
              "      <td>TEST</td>\n",
              "      <td>0</td>\n",
              "      <td>0</td>\n",
              "    </tr>\n",
              "    <tr>\n",
              "      <th>5287</th>\n",
              "      <td>5310</td>\n",
              "      <td>IM-0019-0001.jpeg</td>\n",
              "      <td>Normal</td>\n",
              "      <td>TEST</td>\n",
              "      <td>0</td>\n",
              "      <td>0</td>\n",
              "    </tr>\n",
              "    <tr>\n",
              "      <th>5288</th>\n",
              "      <td>5311</td>\n",
              "      <td>IM-0017-0001.jpeg</td>\n",
              "      <td>Normal</td>\n",
              "      <td>TEST</td>\n",
              "      <td>0</td>\n",
              "      <td>0</td>\n",
              "    </tr>\n",
              "    <tr>\n",
              "      <th>5289</th>\n",
              "      <td>5312</td>\n",
              "      <td>IM-0016-0001.jpeg</td>\n",
              "      <td>Normal</td>\n",
              "      <td>TEST</td>\n",
              "      <td>0</td>\n",
              "      <td>0</td>\n",
              "    </tr>\n",
              "    <tr>\n",
              "      <th>5290</th>\n",
              "      <td>5313</td>\n",
              "      <td>IM-0015-0001.jpeg</td>\n",
              "      <td>Normal</td>\n",
              "      <td>TEST</td>\n",
              "      <td>0</td>\n",
              "      <td>0</td>\n",
              "    </tr>\n",
              "  </tbody>\n",
              "</table>\n",
              "</div>"
            ],
            "text/plain": [
              "      Unnamed: 0  ... Label_1_Virus_category\n",
              "5286        5309  ...                      0\n",
              "5287        5310  ...                      0\n",
              "5288        5311  ...                      0\n",
              "5289        5312  ...                      0\n",
              "5290        5313  ...                      0\n",
              "\n",
              "[5 rows x 6 columns]"
            ]
          },
          "metadata": {
            "tags": []
          },
          "execution_count": 21
        }
      ]
    },
    {
      "cell_type": "code",
      "metadata": {
        "id": "4By_cGSiZxmH",
        "colab_type": "code",
        "outputId": "6733da5d-e999-4932-d3e8-714cc54e4b88",
        "colab": {
          "base_uri": "https://localhost:8080/",
          "height": 35
        }
      },
      "source": [
        "testpnem = test[test.Label =='Pnemonia']\n",
        "testpnem.shape"
      ],
      "execution_count": 22,
      "outputs": [
        {
          "output_type": "execute_result",
          "data": {
            "text/plain": [
              "(390, 6)"
            ]
          },
          "metadata": {
            "tags": []
          },
          "execution_count": 22
        }
      ]
    },
    {
      "cell_type": "code",
      "metadata": {
        "id": "6la6GBr_eaB3",
        "colab_type": "code",
        "outputId": "1a4e27ba-ecb9-4b30-a303-8b2db0b54e44",
        "colab": {
          "base_uri": "https://localhost:8080/",
          "height": 35
        }
      },
      "source": [
        "bac_testpnem = testpnem[testpnem.Label_1_Virus_category == 'bacteria']\n",
        "bac_testpnem.shape"
      ],
      "execution_count": 23,
      "outputs": [
        {
          "output_type": "execute_result",
          "data": {
            "text/plain": [
              "(242, 6)"
            ]
          },
          "metadata": {
            "tags": []
          },
          "execution_count": 23
        }
      ]
    },
    {
      "cell_type": "code",
      "metadata": {
        "id": "1IX3wiMaeqXo",
        "colab_type": "code",
        "outputId": "03a721e2-478b-4643-cc35-2876d53e5f9f",
        "colab": {
          "base_uri": "https://localhost:8080/",
          "height": 35
        }
      },
      "source": [
        "testnorm = test[test.Label == 'Normal']\n",
        "testnorm.shape"
      ],
      "execution_count": 35,
      "outputs": [
        {
          "output_type": "execute_result",
          "data": {
            "text/plain": [
              "(234, 6)"
            ]
          },
          "metadata": {
            "tags": []
          },
          "execution_count": 35
        }
      ]
    },
    {
      "cell_type": "code",
      "metadata": {
        "id": "WRO1dUZzjZmu",
        "colab_type": "code",
        "colab": {
          "base_uri": "https://localhost:8080/",
          "height": 35
        },
        "outputId": "1c5bcded-5c98-44c0-cdb8-ce65ddf63e26"
      },
      "source": [
        "viral_testpnem = testpnem[testpnem.Label_1_Virus_category == 'Virus']\n",
        "viral_testpnem.shape"
      ],
      "execution_count": 36,
      "outputs": [
        {
          "output_type": "execute_result",
          "data": {
            "text/plain": [
              "(148, 6)"
            ]
          },
          "metadata": {
            "tags": []
          },
          "execution_count": 36
        }
      ]
    },
    {
      "cell_type": "code",
      "metadata": {
        "id": "Z5D-4tp4e65z",
        "colab_type": "code",
        "colab": {}
      },
      "source": [
        "testnorm = testnorm.sample(140, replace=True)\n",
        "viral_testpnem = viral_testpnem.sample(140, replace=True) "
      ],
      "execution_count": 0,
      "outputs": []
    },
    {
      "cell_type": "code",
      "metadata": {
        "id": "8_Iul7bFhkfJ",
        "colab_type": "code",
        "colab": {}
      },
      "source": [
        "TESTDATA_DIR = \"/content/gdrive/My Drive/data/corona/test/\""
      ],
      "execution_count": 0,
      "outputs": []
    },
    {
      "cell_type": "code",
      "metadata": {
        "id": "D93ctQGCf3O3",
        "colab_type": "code",
        "outputId": "a1c2ebfb-fccc-4d3b-eb74-3851da37aa37",
        "colab": {
          "base_uri": "https://localhost:8080/",
          "height": 35
        }
      },
      "source": [
        "print(TESTDATA_DIR)"
      ],
      "execution_count": 39,
      "outputs": [
        {
          "output_type": "stream",
          "text": [
            "/content/gdrive/My Drive/data/corona/test/\n"
          ],
          "name": "stdout"
        }
      ]
    },
    {
      "cell_type": "code",
      "metadata": {
        "id": "vpw4OtO0gul3",
        "colab_type": "code",
        "colab": {}
      },
      "source": [
        "import cv2\n",
        "from PIL import Image\n",
        "from cv2 import imshow\n"
      ],
      "execution_count": 0,
      "outputs": []
    },
    {
      "cell_type": "code",
      "metadata": {
        "id": "T1MFEUgdfc4z",
        "colab_type": "code",
        "colab": {}
      },
      "source": [
        "\n",
        "X_test = []\n",
        "Y_test = []\n",
        "\n",
        "num = 0\n",
        "\n",
        "for imgname in testnorm['X_ray_image_name']:\n",
        "  path = TESTDATA_DIR + str(imgname)\n",
        " \n",
        "  img = cv2.imread(path)\n",
        "   \n",
        "  rimg = cv2.resize(img, (400, 400))\n",
        "  \n",
        "  rimg = rimg / 255.0\n",
        "  \n",
        "  X_test.insert(0, rimg)\n",
        "  Y_test.insert(0, 0)\n",
        "  \n",
        "  print(num)\n",
        "  print(path)\n",
        "  type(rimg)\n",
        "  len(rimg)\n",
        "  num += 1\n",
        "\n",
        "  if(num>199):\n",
        "    break"
      ],
      "execution_count": 0,
      "outputs": []
    },
    {
      "cell_type": "code",
      "metadata": {
        "id": "fzrLTb4XgOv6",
        "colab_type": "code",
        "colab": {}
      },
      "source": [
        "num = 0\n",
        "\n",
        "for imgname in viral_testpnem['X_ray_image_name']:\n",
        "  path = TESTDATA_DIR + str(imgname)\n",
        "  img = cv2.imread(path)\n",
        "  \n",
        "  rimg = cv2.resize(img, (400, 400))\n",
        "    \n",
        "  rimg = rimg / 255.0\n",
        "\n",
        "  X_test.insert(0, rimg)\n",
        "  Y_test.insert(0, 1)\n",
        "  \n",
        "  print(num)\n",
        "  print(path)\n",
        "  num += 1\n",
        "\n",
        "  if(num>139):\n",
        "    break"
      ],
      "execution_count": 0,
      "outputs": []
    },
    {
      "cell_type": "code",
      "metadata": {
        "id": "KnH7cRZwngAl",
        "colab_type": "code",
        "colab": {}
      },
      "source": [
        "from sklearn.metrics import confusion_matrix\n",
        "from sklearn.metrics import classification_report\n",
        "\n",
        "import seaborn as sns\n",
        "import matplotlib.pyplot as plt\n"
      ],
      "execution_count": 0,
      "outputs": []
    },
    {
      "cell_type": "code",
      "metadata": {
        "id": "oWi0sz_ooXFf",
        "colab_type": "code",
        "colab": {}
      },
      "source": [
        "X_test  = np.array(X_test)\n",
        "y_test  = np.array(Y_test)"
      ],
      "execution_count": 0,
      "outputs": []
    },
    {
      "cell_type": "code",
      "metadata": {
        "id": "4qspwKTjY3-m",
        "colab_type": "code",
        "outputId": "990ae251-2100-4a7d-b12e-818134443e01",
        "colab": {
          "base_uri": "https://localhost:8080/",
          "height": 165
        }
      },
      "source": [
        "print(y_test)"
      ],
      "execution_count": 57,
      "outputs": [
        {
          "output_type": "stream",
          "text": [
            "[1 1 1 1 1 1 1 1 1 1 1 1 1 1 1 1 1 1 1 1 1 1 1 1 1 1 1 1 1 1 1 1 1 1 1 1 1\n",
            " 1 1 1 1 1 1 1 1 1 1 1 1 1 1 1 1 1 1 1 1 1 1 1 1 1 1 1 1 1 1 1 1 1 1 1 1 1\n",
            " 1 1 1 1 1 1 1 1 1 1 1 1 1 1 1 1 1 1 1 1 1 1 1 1 1 1 1 1 1 1 1 1 1 1 1 1 1\n",
            " 1 1 1 1 1 1 1 1 1 1 1 1 1 1 1 1 1 1 1 1 1 1 1 1 1 1 1 1 1 0 0 0 0 0 0 0 0\n",
            " 0 0 0 0 0 0 0 0 0 0 0 0 0 0 0 0 0 0 0 0 0 0 0 0 0 0 0 0 0 0 0 0 0 0 0 0 0\n",
            " 0 0 0 0 0 0 0 0 0 0 0 0 0 0 0 0 0 0 0 0 0 0 0 0 0 0 0 0 0 0 0 0 0 0 0 0 0\n",
            " 0 0 0 0 0 0 0 0 0 0 0 0 0 0 0 0 0 0 0 0 0 0 0 0 0 0 0 0 0 0 0 0 0 0 0 0 0\n",
            " 0 0 0 0 0 0 0 0 0 0 0 0 0 0 0 0 0 0 0 0 0]\n"
          ],
          "name": "stdout"
        }
      ]
    },
    {
      "cell_type": "code",
      "metadata": {
        "id": "7EJvJWstp6W0",
        "colab_type": "code",
        "colab": {}
      },
      "source": [
        "results = model.predict(X_test).flatten()"
      ],
      "execution_count": 0,
      "outputs": []
    },
    {
      "cell_type": "code",
      "metadata": {
        "id": "VDLwzPAEqAK1",
        "colab_type": "code",
        "colab": {}
      },
      "source": [
        "print(results)"
      ],
      "execution_count": 0,
      "outputs": []
    },
    {
      "cell_type": "code",
      "metadata": {
        "id": "xMnWuXC1ot1-",
        "colab_type": "code",
        "colab": {}
      },
      "source": [
        "test = np.argmax(model.predict(X_test), axis=-1)"
      ],
      "execution_count": 0,
      "outputs": []
    },
    {
      "cell_type": "code",
      "metadata": {
        "id": "DGTWWd0TpKbA",
        "colab_type": "code",
        "outputId": "bb47d8b7-33d7-4214-925b-221acfd75726",
        "colab": {
          "base_uri": "https://localhost:8080/",
          "height": 35
        }
      },
      "source": [
        "len(test)"
      ],
      "execution_count": 49,
      "outputs": [
        {
          "output_type": "execute_result",
          "data": {
            "text/plain": [
              "280"
            ]
          },
          "metadata": {
            "tags": []
          },
          "execution_count": 49
        }
      ]
    },
    {
      "cell_type": "code",
      "metadata": {
        "id": "Ril0oafqZJel",
        "colab_type": "code",
        "colab": {}
      },
      "source": [
        "print(test.flatten())"
      ],
      "execution_count": 0,
      "outputs": []
    },
    {
      "cell_type": "code",
      "metadata": {
        "id": "tw1t8OOikgXt",
        "colab_type": "code",
        "colab": {
          "base_uri": "https://localhost:8080/",
          "height": 257
        },
        "outputId": "8292edac-12e0-4b57-cf16-96360c153c0d"
      },
      "source": [
        "model.predict_classes(X_test).flatten()\n"
      ],
      "execution_count": 58,
      "outputs": [
        {
          "output_type": "execute_result",
          "data": {
            "text/plain": [
              "array([1, 1, 1, 1, 1, 1, 1, 1, 1, 1, 1, 1, 1, 1, 1, 1, 1, 1, 1, 0, 1, 1,\n",
              "       1, 1, 1, 1, 1, 1, 1, 1, 1, 1, 1, 1, 1, 1, 1, 1, 1, 1, 1, 1, 1, 1,\n",
              "       1, 1, 1, 0, 1, 1, 1, 0, 1, 1, 0, 1, 1, 1, 1, 1, 1, 1, 1, 1, 1, 1,\n",
              "       1, 1, 1, 1, 1, 1, 1, 1, 1, 1, 1, 1, 1, 0, 1, 1, 1, 1, 1, 1, 1, 1,\n",
              "       1, 1, 1, 1, 1, 1, 1, 1, 1, 1, 1, 1, 1, 1, 1, 1, 1, 1, 1, 1, 1, 1,\n",
              "       1, 0, 0, 1, 0, 1, 1, 1, 1, 1, 1, 1, 1, 1, 1, 1, 1, 1, 1, 1, 1, 1,\n",
              "       1, 1, 1, 1, 1, 1, 1, 1, 0, 0, 0, 0, 0, 0, 0, 0, 0, 0, 0, 0, 0, 0,\n",
              "       0, 0, 0, 1, 1, 0, 0, 0, 0, 0, 0, 0, 0, 0, 0, 0, 0, 0, 0, 0, 0, 0,\n",
              "       0, 0, 0, 0, 0, 0, 0, 1, 0, 0, 0, 0, 0, 1, 0, 0, 0, 0, 0, 1, 0, 0,\n",
              "       0, 0, 0, 0, 0, 1, 0, 0, 0, 0, 0, 0, 0, 0, 0, 0, 0, 0, 0, 0, 1, 0,\n",
              "       0, 0, 0, 0, 0, 0, 0, 0, 0, 0, 0, 0, 0, 0, 0, 0, 0, 0, 0, 0, 0, 0,\n",
              "       0, 1, 1, 0, 0, 0, 0, 0, 0, 0, 0, 0, 0, 0, 0, 0, 0, 0, 0, 0, 0, 0,\n",
              "       1, 0, 0, 1, 0, 0, 0, 0, 0, 0, 0, 1, 0, 0, 0, 0], dtype=int32)"
            ]
          },
          "metadata": {
            "tags": []
          },
          "execution_count": 58
        }
      ]
    },
    {
      "cell_type": "code",
      "metadata": {
        "id": "Uh7RrhDvlBWS",
        "colab_type": "code",
        "colab": {
          "base_uri": "https://localhost:8080/",
          "height": 283
        },
        "outputId": "a5360fcd-1528-48ae-c21c-1e30a556423f"
      },
      "source": [
        "from sklearn.metrics import confusion_matrix\n",
        "import seaborn as sns\n",
        "import matplotlib.pyplot as plt\n",
        "cm = confusion_matrix(y_test, model.predict_classes(X_test))\n",
        "sns.heatmap(cm, cmap='Blues', annot=True)"
      ],
      "execution_count": 59,
      "outputs": [
        {
          "output_type": "execute_result",
          "data": {
            "text/plain": [
              "<matplotlib.axes._subplots.AxesSubplot at 0x7f6a70f56d30>"
            ]
          },
          "metadata": {
            "tags": []
          },
          "execution_count": 59
        },
        {
          "output_type": "display_data",
          "data": {
            "image/png": "[encoded data removed]",
            "text/plain": [
              "<Figure size 432x288 with 2 Axes>"
            ]
          },
          "metadata": {
            "tags": [],
            "needs_background": "light"
          }
        }
      ]
    },
    {
      "cell_type": "code",
      "metadata": {
        "id": "0SkWLMK7ZZ5c",
        "colab_type": "code",
        "outputId": "3ee54874-9342-4d99-ff44-3f272a29909d",
        "colab": {
          "base_uri": "https://localhost:8080/",
          "height": 54
        }
      },
      "source": [
        "model.evaluate(X_test, y_test, verbose=1)"
      ],
      "execution_count": 60,
      "outputs": [
        {
          "output_type": "stream",
          "text": [
            "9/9 [==============================] - 0s 48ms/step - loss: 0.2952 - accuracy: 0.9286\n"
          ],
          "name": "stdout"
        },
        {
          "output_type": "execute_result",
          "data": {
            "text/plain": [
              "[0.29523512721061707, 0.9285714030265808]"
            ]
          },
          "metadata": {
            "tags": []
          },
          "execution_count": 60
        }
      ]
    },
    {
      "cell_type": "code",
      "metadata": {
        "id": "rEMQrVnPZfBA",
        "colab_type": "code",
        "outputId": "6afad5cd-6147-4cda-e6d3-81e12e2b6272",
        "colab": {
          "base_uri": "https://localhost:8080/",
          "height": 35
        }
      },
      "source": [
        "# evaluate the model\n",
        "scores = model.evaluate(test_generator, steps=10, verbose=1)\n"
      ],
      "execution_count": 61,
      "outputs": [
        {
          "output_type": "stream",
          "text": [
            "10/10 [==============================] - 124s 12s/step - loss: 0.5669 - accuracy: 0.8906\n"
          ],
          "name": "stdout"
        }
      ]
    },
    {
      "cell_type": "code",
      "metadata": {
        "id": "CRkLS2PmaYo9",
        "colab_type": "code",
        "outputId": "2de3911f-9bd3-4d62-f719-86b14ee2aab3",
        "colab": {
          "base_uri": "https://localhost:8080/",
          "height": 54
        }
      },
      "source": [
        "print(\"%s: %f\" % (model.metrics_names[0], scores[0]))\n",
        "print(\"%s: %f\" % (model.metrics_names[1], scores[1]))\n"
      ],
      "execution_count": 62,
      "outputs": [
        {
          "output_type": "stream",
          "text": [
            "loss: 0.566912\n",
            "accuracy: 0.890625\n"
          ],
          "name": "stdout"
        }
      ]
    },
    {
      "cell_type": "code",
      "metadata": {
        "id": "k3qEw4xmtzX6",
        "colab_type": "code",
        "outputId": "4230e073-704d-43f9-e5cb-c929e8836332",
        "colab": {
          "base_uri": "https://localhost:8080/",
          "height": 35
        }
      },
      "source": [
        "print(DATASET_DIR)"
      ],
      "execution_count": 63,
      "outputs": [
        {
          "output_type": "stream",
          "text": [
            "/content/gdrive/My Drive/data/coronadata/normal_viral/\n"
          ],
          "name": "stdout"
        }
      ]
    },
    {
      "cell_type": "code",
      "metadata": {
        "id": "d01C0_mgw2EX",
        "colab_type": "code",
        "outputId": "a539160b-8037-404c-d9f1-1da4160f6201",
        "colab": {
          "base_uri": "https://localhost:8080/",
          "height": 35
        }
      },
      "source": [
        "# save model and architecture to single file\n",
        "model.save(DATASET_DIR+ \"/latestviralmodel.h5\")\n",
        "print(\"Saved model to disk\")"
      ],
      "execution_count": 64,
      "outputs": [
        {
          "output_type": "stream",
          "text": [
            "Saved model to disk\n"
          ],
          "name": "stdout"
        }
      ]
    }
  ]
}